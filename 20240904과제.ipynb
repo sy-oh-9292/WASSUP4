{
 "cells": [
  {
   "cell_type": "markdown",
   "id": "358beb02-40bc-46dd-b665-ef94ea0e71a9",
   "metadata": {},
   "source": [
    "# 1-50번 과제"
   ]
  },
  {
   "cell_type": "code",
   "execution_count": 5,
   "id": "7a7ca7dd-4ccf-4539-b412-0eaa2c1ad4fa",
   "metadata": {},
   "outputs": [
    {
     "name": "stdout",
     "output_type": "stream",
     "text": [
      "Hello World\n"
     ]
    }
   ],
   "source": [
    "#1\n",
    "print('Hello World')"
   ]
  },
  {
   "cell_type": "code",
   "execution_count": 6,
   "id": "cc998823-117a-418a-9afa-77f6c8225afa",
   "metadata": {},
   "outputs": [
    {
     "name": "stdout",
     "output_type": "stream",
     "text": [
      "Mary's cosmetics\n"
     ]
    }
   ],
   "source": [
    "#2\n",
    "print(\"Mary's cosmetics\")"
   ]
  },
  {
   "cell_type": "code",
   "execution_count": 7,
   "id": "4b6e0be9-a785-4c52-bddb-ff1c0f0fb830",
   "metadata": {},
   "outputs": [
    {
     "name": "stdout",
     "output_type": "stream",
     "text": [
      "신씨가 소리질렀다. \"도둑이야\".\n"
     ]
    }
   ],
   "source": [
    "#3\n",
    "print('신씨가 소리질렀다. \"도둑이야\".')"
   ]
  },
  {
   "cell_type": "code",
   "execution_count": 9,
   "id": "33f80ec5-b3df-4a5b-be01-5ebe06dba098",
   "metadata": {},
   "outputs": [
    {
     "name": "stdout",
     "output_type": "stream",
     "text": [
      "C:\\Windows\n"
     ]
    }
   ],
   "source": [
    "#4\n",
    "print('C:\\\\Windows')"
   ]
  },
  {
   "cell_type": "code",
   "execution_count": 10,
   "id": "68b26c3c-b90b-4c70-90c9-eba6542fdbb6",
   "metadata": {},
   "outputs": [
    {
     "name": "stdout",
     "output_type": "stream",
     "text": [
      "안녕하세요.\n",
      "만나서\t\t반갑습니다.\n"
     ]
    }
   ],
   "source": [
    "#5\n",
    "print(\"안녕하세요.\\n만나서\\t\\t반갑습니다.\")"
   ]
  },
  {
   "cell_type": "markdown",
   "id": "8dd84f59-59df-44f3-ad06-d9de5aae265c",
   "metadata": {},
   "source": [
    "위 문제설명: \\n 은 줄바꿈이고 \\t 는 띄어쓰기 같아요"
   ]
  },
  {
   "cell_type": "code",
   "execution_count": 11,
   "id": "50849984-6d2c-4426-8412-fcd401bd2bd5",
   "metadata": {},
   "outputs": [
    {
     "name": "stdout",
     "output_type": "stream",
     "text": [
      "오늘은 일요일\n"
     ]
    }
   ],
   "source": [
    "#6\n",
    "print(\"오늘은\", \"일요일\")"
   ]
  },
  {
   "cell_type": "code",
   "execution_count": 12,
   "id": "6aff4483-e623-4b4e-b7cd-09f3a9cea1c6",
   "metadata": {},
   "outputs": [
    {
     "name": "stdout",
     "output_type": "stream",
     "text": [
      "naver;kakao;sk;samsung\n"
     ]
    }
   ],
   "source": [
    "#7\n",
    "print('naver;kakao;sk;samsung')"
   ]
  },
  {
   "cell_type": "code",
   "execution_count": 22,
   "id": "8e2ddb4d-72e5-4be4-a006-6edb935f0e2e",
   "metadata": {},
   "outputs": [
    {
     "name": "stdout",
     "output_type": "stream",
     "text": [
      "naver/kakao/samsung\n"
     ]
    }
   ],
   "source": [
    "#8\n",
    "print(\"naver\", \"kakao\", \"samsung\", sep=\"/\")"
   ]
  },
  {
   "cell_type": "code",
   "execution_count": 23,
   "id": "d7cf8fd7-fc10-42c8-932a-4531a5c905a0",
   "metadata": {},
   "outputs": [
    {
     "name": "stdout",
     "output_type": "stream",
     "text": [
      "first\n",
      "second\n"
     ]
    }
   ],
   "source": [
    "#9\n",
    "print(\"first\");print(\"second\")"
   ]
  },
  {
   "cell_type": "code",
   "execution_count": 24,
   "id": "616a1871-204a-4317-97cf-190cf7b68af5",
   "metadata": {},
   "outputs": [
    {
     "name": "stdout",
     "output_type": "stream",
     "text": [
      "firstsecond\n"
     ]
    }
   ],
   "source": [
    "print(\"first\", end=\"\"); print(\"second\")"
   ]
  },
  {
   "cell_type": "code",
   "execution_count": 25,
   "id": "1d1a162b-153c-4486-8d34-336b58a16de1",
   "metadata": {},
   "outputs": [
    {
     "name": "stdout",
     "output_type": "stream",
     "text": [
      "1.6666666666666667\n"
     ]
    }
   ],
   "source": [
    "#10\n",
    "print(5/3)"
   ]
  },
  {
   "cell_type": "code",
   "execution_count": 15,
   "id": "374d8393-60bb-43ae-a446-b28f2119517c",
   "metadata": {},
   "outputs": [
    {
     "name": "stdout",
     "output_type": "stream",
     "text": [
      "500000\n"
     ]
    }
   ],
   "source": [
    "#11\n",
    "삼성전자=50000\n",
    "총평가금액=삼성전자*10\n",
    "print(총평가금액)"
   ]
  },
  {
   "cell_type": "code",
   "execution_count": 26,
   "id": "abc3a86d-b345-4f1d-b83d-3fcf2a08f8de",
   "metadata": {},
   "outputs": [
    {
     "name": "stdout",
     "output_type": "stream",
     "text": [
      "298000000000000 <class 'int'>\n",
      "50000 <class 'int'>\n",
      "15.79 <class 'float'>\n"
     ]
    }
   ],
   "source": [
    "#12\n",
    "시가총액=298000000000000\n",
    "현재가=50000\n",
    "PER=15.79\n",
    "print(시가총액, type(시가총액))\n",
    "print(현재가, type(현재가))\n",
    "print(PER, type(PER))"
   ]
  },
  {
   "cell_type": "code",
   "execution_count": 13,
   "id": "3861d43d-d03c-471e-ab67-671f8409ffa4",
   "metadata": {},
   "outputs": [
    {
     "name": "stdout",
     "output_type": "stream",
     "text": [
      "hello\n",
      "python\n"
     ]
    }
   ],
   "source": [
    "#13\n",
    "s = \"hello\"\n",
    "t = \"python\"\n",
    "print(s)\n",
    "print(t)"
   ]
  },
  {
   "cell_type": "code",
   "execution_count": 14,
   "id": "9d2b80df-bea5-4827-9b1c-2d014df9941d",
   "metadata": {},
   "outputs": [
    {
     "name": "stdout",
     "output_type": "stream",
     "text": [
      "hello! python\n"
     ]
    }
   ],
   "source": [
    "print(s+\"!\",t)"
   ]
  },
  {
   "cell_type": "code",
   "execution_count": 17,
   "id": "997b564b-808a-49f2-a1c6-fe93b8c96ddf",
   "metadata": {},
   "outputs": [
    {
     "name": "stdout",
     "output_type": "stream",
     "text": [
      "8\n"
     ]
    }
   ],
   "source": [
    "#14\n",
    "print(2 + 2 * 3)"
   ]
  },
  {
   "cell_type": "code",
   "execution_count": 18,
   "id": "7412b551-6789-424d-9ef2-685691880ee3",
   "metadata": {},
   "outputs": [
    {
     "name": "stdout",
     "output_type": "stream",
     "text": [
      "<class 'int'>\n"
     ]
    }
   ],
   "source": [
    "#15\n",
    "a = 128\n",
    "print (type(a))"
   ]
  },
  {
   "cell_type": "code",
   "execution_count": 19,
   "id": "c691db8b-2f1b-431a-a04d-3ec342510ff0",
   "metadata": {},
   "outputs": [
    {
     "name": "stdout",
     "output_type": "stream",
     "text": [
      "<class 'str'>\n"
     ]
    }
   ],
   "source": [
    "a = \"132\"\n",
    "print (type(a))"
   ]
  },
  {
   "cell_type": "markdown",
   "id": "1cc70c96-88de-4d67-99ba-54e07ebf9b88",
   "metadata": {},
   "source": [
    "16번 다시"
   ]
  },
  {
   "cell_type": "code",
   "execution_count": 27,
   "id": "af07859e-1f00-459c-b576-c2e8430fdcb8",
   "metadata": {},
   "outputs": [
    {
     "name": "stdout",
     "output_type": "stream",
     "text": [
      "721 <class 'int'>\n"
     ]
    }
   ],
   "source": [
    "#16\n",
    "num_str = \"720\"\n",
    "num_int = int(num_str)\n",
    "print(num_int+1, type(num_int))"
   ]
  },
  {
   "cell_type": "code",
   "execution_count": null,
   "id": "821bb50b-7c8e-4f65-aaf9-edbfe6942dea",
   "metadata": {},
   "outputs": [],
   "source": []
  },
  {
   "cell_type": "code",
   "execution_count": 20,
   "id": "1f0b7ef9-63b5-42a2-a5d1-3346f265a4c3",
   "metadata": {},
   "outputs": [
    {
     "name": "stdout",
     "output_type": "stream",
     "text": [
      "100 <class 'str'>\n"
     ]
    }
   ],
   "source": [
    "#17\n",
    "num = 100\n",
    "result = str(num)\n",
    "print(result, type(result))"
   ]
  },
  {
   "cell_type": "code",
   "execution_count": 28,
   "id": "bb8b3cf6-3589-4ac3-bb3a-3ecc7b975ac3",
   "metadata": {},
   "outputs": [
    {
     "name": "stdout",
     "output_type": "stream",
     "text": [
      "15.79 <class 'float'>\n"
     ]
    }
   ],
   "source": [
    "#18\n",
    "data = \"15.79\"\n",
    "data = float(data)\n",
    "print(data, type(data))"
   ]
  },
  {
   "cell_type": "code",
   "execution_count": 30,
   "id": "f0faf08b-7f88-4974-b86b-03956232b834",
   "metadata": {},
   "outputs": [
    {
     "name": "stdout",
     "output_type": "stream",
     "text": [
      "2020\n"
     ]
    }
   ],
   "source": [
    "#19\n",
    "year = \"2020\"\n",
    "year= int(year)\n",
    "print(year)"
   ]
  },
  {
   "cell_type": "code",
   "execution_count": 31,
   "id": "8db37378-cb2a-491d-acdb-d05a5e8f05f6",
   "metadata": {},
   "outputs": [
    {
     "name": "stdout",
     "output_type": "stream",
     "text": [
      "2017\n",
      "2018\n",
      "2019\n"
     ]
    }
   ],
   "source": [
    "year = \"2020\"\n",
    "print(int(year)-3)  # 2017\n",
    "print(int(year)-2)  # 2018\n",
    "print(int(year)-1)  # 2019"
   ]
  },
  {
   "cell_type": "code",
   "execution_count": 21,
   "id": "04745ad3-70e0-4a49-a458-d4865a8cdc47",
   "metadata": {},
   "outputs": [
    {
     "name": "stdout",
     "output_type": "stream",
     "text": [
      "1749024\n"
     ]
    }
   ],
   "source": [
    "#20\n",
    "총금액=48584*36\n",
    "print(총금액)"
   ]
  },
  {
   "cell_type": "code",
   "execution_count": 34,
   "id": "6994948e-0855-4d31-b0f5-fe6544445748",
   "metadata": {},
   "outputs": [
    {
     "name": "stdout",
     "output_type": "stream",
     "text": [
      "python\n",
      "p t\n"
     ]
    }
   ],
   "source": [
    "#21\n",
    "letters = 'python'\n",
    "print(letters)\n",
    "print(letters[0], letters[2])"
   ]
  },
  {
   "cell_type": "code",
   "execution_count": 38,
   "id": "4b878655-d0fe-4c68-8ec7-52e95753bde7",
   "metadata": {},
   "outputs": [
    {
     "name": "stdout",
     "output_type": "stream",
     "text": [
      "2210\n"
     ]
    }
   ],
   "source": [
    "#22\n",
    "license_plate = \"24가 2210\"\n",
    "print(license_plate[-4:])\n"
   ]
  },
  {
   "cell_type": "markdown",
   "id": "e3537455-7f01-45fd-b614-d8419019ebbf",
   "metadata": {},
   "source": [
    "23번 다시"
   ]
  },
  {
   "cell_type": "code",
   "execution_count": 41,
   "id": "b594938f-79ac-42bd-b398-49e80b2cc792",
   "metadata": {},
   "outputs": [
    {
     "name": "stdout",
     "output_type": "stream",
     "text": [
      "홀홀홀\n"
     ]
    }
   ],
   "source": [
    "#23\n",
    "string = \"홀짝홀짝홀짝\"\n",
    "print(string[::2])\n"
   ]
  },
  {
   "cell_type": "code",
   "execution_count": 45,
   "id": "4cd31627-4c09-43b6-a687-af3818f67214",
   "metadata": {},
   "outputs": [
    {
     "name": "stdout",
     "output_type": "stream",
     "text": [
      "NOHTYP\n"
     ]
    }
   ],
   "source": [
    "#24\n",
    "string = \"PYTHON\"\n",
    "print(string[::-1])"
   ]
  },
  {
   "cell_type": "code",
   "execution_count": 47,
   "id": "07a64ed7-5d68-4f72-a955-d51945b63c18",
   "metadata": {},
   "outputs": [
    {
     "data": {
      "text/plain": [
       "'010 1111 2222'"
      ]
     },
     "execution_count": 47,
     "metadata": {},
     "output_type": "execute_result"
    }
   ],
   "source": [
    "#25\n",
    "phone_number = \"010-1111-2222\"\n",
    "phone_number.replace('-',' ')"
   ]
  },
  {
   "cell_type": "code",
   "execution_count": 48,
   "id": "1063fbff-0bb7-42ec-9897-4066357a73bf",
   "metadata": {},
   "outputs": [
    {
     "data": {
      "text/plain": [
       "'01011112222'"
      ]
     },
     "execution_count": 48,
     "metadata": {},
     "output_type": "execute_result"
    }
   ],
   "source": [
    "#26\n",
    "phone_number = \"010-1111-2222\"\n",
    "phone_number.replace('-','')"
   ]
  },
  {
   "cell_type": "markdown",
   "id": "47070b26-fe4c-4424-b153-6a25823c85ea",
   "metadata": {},
   "source": [
    "27번 다시"
   ]
  },
  {
   "cell_type": "code",
   "execution_count": 55,
   "id": "a74cfa0b-4809-4c60-8f21-bef475b70930",
   "metadata": {},
   "outputs": [
    {
     "name": "stdout",
     "output_type": "stream",
     "text": [
      "kr\n"
     ]
    }
   ],
   "source": [
    "#27\n",
    "url = \"http://sharebook.kr\"\n",
    "url_split=url.split('.')\n",
    "print(url_split[-1])"
   ]
  },
  {
   "cell_type": "markdown",
   "id": "8fef4b95-977e-4696-b57b-66e4af6b4105",
   "metadata": {},
   "source": [
    "28번 다시 /대문자를 소문자로 변경 못한다는 말인가?"
   ]
  },
  {
   "cell_type": "code",
   "execution_count": 56,
   "id": "0776681c-a8c5-4392-9375-8dbb4954f695",
   "metadata": {},
   "outputs": [
    {
     "ename": "IndentationError",
     "evalue": "unexpected indent (118718031.py, line 2)",
     "output_type": "error",
     "traceback": [
      "\u001b[1;36m  Cell \u001b[1;32mIn[56], line 2\u001b[1;36m\u001b[0m\n\u001b[1;33m    lang = 'python'\u001b[0m\n\u001b[1;37m    ^\u001b[0m\n\u001b[1;31mIndentationError\u001b[0m\u001b[1;31m:\u001b[0m unexpected indent\n"
     ]
    }
   ],
   "source": [
    "#28\n",
    " lang = 'python'\n",
    " lang[0] = 'P'\n",
    " print(lang)"
   ]
  },
  {
   "cell_type": "code",
   "execution_count": 57,
   "id": "c1ca9908-fa4d-4cba-9e57-5288491480cb",
   "metadata": {},
   "outputs": [
    {
     "data": {
      "text/plain": [
       "'Abcdfe2A354A32A'"
      ]
     },
     "execution_count": 57,
     "metadata": {},
     "output_type": "execute_result"
    }
   ],
   "source": [
    "#29\n",
    "string = 'abcdfe2a354a32a'\n",
    "string.replace('a','A')\n"
   ]
  },
  {
   "cell_type": "markdown",
   "id": "06d55a66-284e-4803-b8cc-d8182835d837",
   "metadata": {},
   "source": [
    "30번 다시 /안되는건 알겠는데 답안 설명은 이해 못함"
   ]
  },
  {
   "cell_type": "code",
   "execution_count": 59,
   "id": "f1bf8d49-2322-46b3-b05f-9f6412fff8ce",
   "metadata": {},
   "outputs": [
    {
     "name": "stdout",
     "output_type": "stream",
     "text": [
      "abcd\n"
     ]
    }
   ],
   "source": [
    "#30\n",
    "string = 'abcd'\n",
    "string.replace('b', 'B')\n",
    "print(string)"
   ]
  },
  {
   "cell_type": "code",
   "execution_count": 61,
   "id": "efaa7c82-fb4c-467b-a78e-3cdd496b87de",
   "metadata": {},
   "outputs": [
    {
     "name": "stdout",
     "output_type": "stream",
     "text": [
      "34\n"
     ]
    }
   ],
   "source": [
    "#31\n",
    "a = \"3\"\n",
    "b = \"4\"\n",
    "print(a + b)\n"
   ]
  },
  {
   "cell_type": "code",
   "execution_count": 63,
   "id": "821a963a-d50f-41b1-ae7d-546e07948c1e",
   "metadata": {},
   "outputs": [
    {
     "name": "stdout",
     "output_type": "stream",
     "text": [
      "HiHiHi\n"
     ]
    }
   ],
   "source": [
    "#32\n",
    "print(\"Hi\" * 3)\n"
   ]
  },
  {
   "cell_type": "code",
   "execution_count": 65,
   "id": "b03a39b7-e57d-4da2-9044-27a0be65846d",
   "metadata": {},
   "outputs": [
    {
     "name": "stdout",
     "output_type": "stream",
     "text": [
      "--------------------------------------------------------------------------------\n"
     ]
    }
   ],
   "source": [
    "#33\n",
    "print('-'*80)"
   ]
  },
  {
   "cell_type": "code",
   "execution_count": 66,
   "id": "a2924876-7a87-4430-97b6-1f4df6a2e8d1",
   "metadata": {},
   "outputs": [
    {
     "name": "stdout",
     "output_type": "stream",
     "text": [
      "python java python java python java python java \n"
     ]
    }
   ],
   "source": [
    "#34\n",
    "t1 = \"python\"\n",
    "t2 = \"java\"\n",
    "t3 = t1 + ' ' + t2 + ' '\n",
    "print(t3 * 4)"
   ]
  },
  {
   "cell_type": "markdown",
   "id": "4cd86de1-ab37-4bec-af4c-ae3188a02726",
   "metadata": {},
   "source": [
    "35번 '%s'는 문자열 데이터 타입의 값, '%d'는 정수형 데이터 타입 값을 의미함"
   ]
  },
  {
   "cell_type": "code",
   "execution_count": 67,
   "id": "41aa3ad9-5fd3-460d-9b74-6dcb151d9d2e",
   "metadata": {},
   "outputs": [
    {
     "name": "stdout",
     "output_type": "stream",
     "text": [
      "이름: 김민수 나이: 10\n",
      "이름: 이철희 나이: 13\n"
     ]
    }
   ],
   "source": [
    "#35\n",
    "name1 = \"김민수\" \n",
    "age1 = 10\n",
    "name2 = \"이철희\"\n",
    "age2 = 13\n",
    "print(\"이름: %s 나이: %d\" % (name1, age1))\n",
    "print(\"이름: %s 나이: %d\" % (name2, age2))"
   ]
  },
  {
   "cell_type": "code",
   "execution_count": 68,
   "id": "cb23b5b4-d823-46f4-b822-5b6382a33508",
   "metadata": {},
   "outputs": [
    {
     "name": "stdout",
     "output_type": "stream",
     "text": [
      "이름: 김민수 나이: 10\n",
      "이름: 이철희 나이: 13\n"
     ]
    }
   ],
   "source": [
    "#36\n",
    "name1 = \"김민수\" \n",
    "age1 = 10\n",
    "name2 = \"이철희\"\n",
    "age2 = 13\n",
    "print(\"이름: {} 나이: {}\".format(name1, age1))\n",
    "print(\"이름: {} 나이: {}\".format(name2, age2))"
   ]
  },
  {
   "cell_type": "code",
   "execution_count": 69,
   "id": "5e38ed02-106e-46b4-a5e0-2e278f2a5417",
   "metadata": {},
   "outputs": [
    {
     "name": "stdout",
     "output_type": "stream",
     "text": [
      "이름: 김민수 나이: 10\n",
      "이름: 이철희 나이: 13\n"
     ]
    }
   ],
   "source": [
    "#37\n",
    "name1 = \"김민수\" \n",
    "age1 = 10\n",
    "name2 = \"이철희\"\n",
    "age2 = 13\n",
    "print(f\"이름: {name1} 나이: {age1}\")\n",
    "print(f\"이름: {name2} 나이: {age2}\")"
   ]
  },
  {
   "cell_type": "code",
   "execution_count": 70,
   "id": "9817feda-bf90-487d-9a13-d1af40e93659",
   "metadata": {},
   "outputs": [
    {
     "name": "stdout",
     "output_type": "stream",
     "text": [
      "5969782550 <class 'int'>\n"
     ]
    }
   ],
   "source": [
    "#38\n",
    "상장주식수 = \"5,969,782,550\"\n",
    "컴마제거 = 상장주식수.replace(\",\", \"\")\n",
    "타입변환 = int(컴마제거)\n",
    "print(타입변환, type(타입변환))\n"
   ]
  },
  {
   "cell_type": "markdown",
   "id": "85e76f4a-1b94-47cd-8e7d-528282780d79",
   "metadata": {},
   "source": [
    "39번 [:6] 이거 아닌가 왜 7일까"
   ]
  },
  {
   "cell_type": "code",
   "execution_count": 72,
   "id": "609e642d-533e-47e1-bc78-53d1588bb82f",
   "metadata": {},
   "outputs": [
    {
     "name": "stdout",
     "output_type": "stream",
     "text": [
      "2020/03\n"
     ]
    }
   ],
   "source": [
    "#39\n",
    "분기 = \"2020/03(E) (IFRS연결)\"\n",
    "print(분기[:7])"
   ]
  },
  {
   "cell_type": "code",
   "execution_count": 73,
   "id": "23b392cb-4b0d-47c6-91eb-78a9c9f5f0a9",
   "metadata": {},
   "outputs": [
    {
     "name": "stdout",
     "output_type": "stream",
     "text": [
      "삼성전자\n"
     ]
    }
   ],
   "source": [
    "#40\n",
    "data = \"   삼성전자    \"\n",
    "data1 = data.strip()\n",
    "print(data1)"
   ]
  },
  {
   "cell_type": "code",
   "execution_count": 74,
   "id": "b377d655-6252-48a7-ae3c-b1fa9f16ba55",
   "metadata": {},
   "outputs": [
    {
     "name": "stdout",
     "output_type": "stream",
     "text": [
      "BTC_KRW\n"
     ]
    }
   ],
   "source": [
    "#41\n",
    "ticker = \"btc_krw\"\n",
    "ticker1 = ticker.upper()\n",
    "print(ticker1)"
   ]
  },
  {
   "cell_type": "code",
   "execution_count": 78,
   "id": "7c17db38-3535-4af2-b4a7-873f1a3af177",
   "metadata": {},
   "outputs": [
    {
     "name": "stdout",
     "output_type": "stream",
     "text": [
      "btc_krw\n"
     ]
    }
   ],
   "source": [
    "#42\n",
    "ticker = \"BTC_KRW\"\n",
    "ticker = ticker.lower()\n",
    "print(ticker)"
   ]
  },
  {
   "cell_type": "code",
   "execution_count": 82,
   "id": "ca3ac50d-2e48-4c0e-b4f9-17a2ce3067bb",
   "metadata": {},
   "outputs": [
    {
     "name": "stdout",
     "output_type": "stream",
     "text": [
      "Hello\n"
     ]
    }
   ],
   "source": [
    "#43\n",
    "a = \"hello\"\n",
    "a = a.capitalize()\n",
    "print(a)"
   ]
  },
  {
   "cell_type": "code",
   "execution_count": 83,
   "id": "2c615f78-ba17-41bf-ade4-f5226ee83cbd",
   "metadata": {},
   "outputs": [
    {
     "data": {
      "text/plain": [
       "True"
      ]
     },
     "execution_count": 83,
     "metadata": {},
     "output_type": "execute_result"
    }
   ],
   "source": [
    "#44\n",
    "file_name = \"보고서.xlsx\"\n",
    "file_name.endswith(\"xlsx\")"
   ]
  },
  {
   "cell_type": "code",
   "execution_count": 84,
   "id": "24badce4-855e-4535-a8d5-1e6b6688cd17",
   "metadata": {},
   "outputs": [
    {
     "data": {
      "text/plain": [
       "True"
      ]
     },
     "execution_count": 84,
     "metadata": {},
     "output_type": "execute_result"
    }
   ],
   "source": [
    "#45\n",
    "file_name = \"보고서.xlsx\"\n",
    "file_name.endswith((\"xlsx\", \"xls\"))\n"
   ]
  },
  {
   "cell_type": "code",
   "execution_count": 85,
   "id": "996bf6be-d57d-4e2d-acd1-597c1e49e762",
   "metadata": {},
   "outputs": [
    {
     "data": {
      "text/plain": [
       "True"
      ]
     },
     "execution_count": 85,
     "metadata": {},
     "output_type": "execute_result"
    }
   ],
   "source": [
    "#46\n",
    "file_name = \"2020_보고서.xlsx\"\n",
    "file_name.startswith(\"2020\")\n"
   ]
  },
  {
   "cell_type": "code",
   "execution_count": 86,
   "id": "45b969c1-5b48-4780-b162-5d7e4ddac3df",
   "metadata": {},
   "outputs": [
    {
     "data": {
      "text/plain": [
       "['hello', 'world']"
      ]
     },
     "execution_count": 86,
     "metadata": {},
     "output_type": "execute_result"
    }
   ],
   "source": [
    "#47\n",
    "a = \"hello world\"\n",
    "a.split()\n"
   ]
  },
  {
   "cell_type": "code",
   "execution_count": 87,
   "id": "5a00a94e-d4ea-4246-80a7-224c9f88f140",
   "metadata": {},
   "outputs": [
    {
     "data": {
      "text/plain": [
       "['btc', 'krw']"
      ]
     },
     "execution_count": 87,
     "metadata": {},
     "output_type": "execute_result"
    }
   ],
   "source": [
    "#48\n",
    "ticker = \"btc_krw\"\n",
    "ticker.split(\"_\")\n"
   ]
  },
  {
   "cell_type": "code",
   "execution_count": 88,
   "id": "b1d4bea4-7dae-45cc-b253-b9cd51864b0c",
   "metadata": {},
   "outputs": [
    {
     "data": {
      "text/plain": [
       "['2020', '05', '01']"
      ]
     },
     "execution_count": 88,
     "metadata": {},
     "output_type": "execute_result"
    }
   ],
   "source": [
    "#49\n",
    "date = \"2020-05-01\"\n",
    "date.split(\"-\")\n"
   ]
  },
  {
   "cell_type": "code",
   "execution_count": 91,
   "id": "355fcfd3-4542-467d-a935-749e946ea59d",
   "metadata": {},
   "outputs": [
    {
     "name": "stdout",
     "output_type": "stream",
     "text": [
      "039490\n"
     ]
    }
   ],
   "source": [
    "#50\n",
    "data = \"039490     \"\n",
    "data=data.rstrip()\n",
    "print(data)"
   ]
  },
  {
   "cell_type": "markdown",
   "id": "9175d2a4-1172-407f-8a35-42db85e78e1d",
   "metadata": {},
   "source": [
    "20240904과제 끝!"
   ]
  }
 ],
 "metadata": {
  "kernelspec": {
   "display_name": "Python 3 (ipykernel)",
   "language": "python",
   "name": "python3"
  },
  "language_info": {
   "codemirror_mode": {
    "name": "ipython",
    "version": 3
   },
   "file_extension": ".py",
   "mimetype": "text/x-python",
   "name": "python",
   "nbconvert_exporter": "python",
   "pygments_lexer": "ipython3",
   "version": "3.12.4"
  }
 },
 "nbformat": 4,
 "nbformat_minor": 5
}
