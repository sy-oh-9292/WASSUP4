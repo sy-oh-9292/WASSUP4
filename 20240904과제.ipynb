{
 "cells": [
  {
   "cell_type": "markdown",
   "id": "358beb02-40bc-46dd-b665-ef94ea0e71a9",
   "metadata": {},
   "source": [
    "# 1-50번 과제"
   ]
  },
  {
   "cell_type": "code",
   "execution_count": 5,
   "id": "7a7ca7dd-4ccf-4539-b412-0eaa2c1ad4fa",
   "metadata": {},
   "outputs": [
    {
     "name": "stdout",
     "output_type": "stream",
     "text": [
      "Hello World\n"
     ]
    }
   ],
   "source": [
    "#1\n",
    "print('Hello World')"
   ]
  },
  {
   "cell_type": "code",
   "execution_count": 6,
   "id": "cc998823-117a-418a-9afa-77f6c8225afa",
   "metadata": {},
   "outputs": [
    {
     "name": "stdout",
     "output_type": "stream",
     "text": [
      "Mary's cosmetics\n"
     ]
    }
   ],
   "source": [
    "#2\n",
    "print(\"Mary's cosmetics\")"
   ]
  },
  {
   "cell_type": "code",
   "execution_count": 7,
   "id": "4b6e0be9-a785-4c52-bddb-ff1c0f0fb830",
   "metadata": {},
   "outputs": [
    {
     "name": "stdout",
     "output_type": "stream",
     "text": [
      "신씨가 소리질렀다. \"도둑이야\".\n"
     ]
    }
   ],
   "source": [
    "#3\n",
    "print('신씨가 소리질렀다. \"도둑이야\".')"
   ]
  },
  {
   "cell_type": "code",
   "execution_count": 9,
   "id": "33f80ec5-b3df-4a5b-be01-5ebe06dba098",
   "metadata": {},
   "outputs": [
    {
     "name": "stdout",
     "output_type": "stream",
     "text": [
      "C:\\Windows\n"
     ]
    }
   ],
   "source": [
    "#4\n",
    "print('C:\\\\Windows')"
   ]
  },
  {
   "cell_type": "code",
   "execution_count": 10,
   "id": "68b26c3c-b90b-4c70-90c9-eba6542fdbb6",
   "metadata": {},
   "outputs": [
    {
     "name": "stdout",
     "output_type": "stream",
     "text": [
      "안녕하세요.\n",
      "만나서\t\t반갑습니다.\n"
     ]
    }
   ],
   "source": [
    "#5\n",
    "print(\"안녕하세요.\\n만나서\\t\\t반갑습니다.\")"
   ]
  },
  {
   "cell_type": "markdown",
   "id": "8dd84f59-59df-44f3-ad06-d9de5aae265c",
   "metadata": {},
   "source": [
    "위 문제설명: \\n 은 줄바꿈이고 \\t 는 띄어쓰기 같아요"
   ]
  },
  {
   "cell_type": "code",
   "execution_count": 11,
   "id": "50849984-6d2c-4426-8412-fcd401bd2bd5",
   "metadata": {},
   "outputs": [
    {
     "name": "stdout",
     "output_type": "stream",
     "text": [
      "오늘은 일요일\n"
     ]
    }
   ],
   "source": [
    "#6\n",
    "print(\"오늘은\", \"일요일\")"
   ]
  },
  {
   "cell_type": "code",
   "execution_count": 12,
   "id": "6aff4483-e623-4b4e-b7cd-09f3a9cea1c6",
   "metadata": {},
   "outputs": [
    {
     "name": "stdout",
     "output_type": "stream",
     "text": [
      "naver;kakao;sk;samsung\n"
     ]
    }
   ],
   "source": [
    "#7\n",
    "print('naver;kakao;sk;samsung')"
   ]
  },
  {
   "cell_type": "code",
   "execution_count": 22,
   "id": "8e2ddb4d-72e5-4be4-a006-6edb935f0e2e",
   "metadata": {},
   "outputs": [
    {
     "name": "stdout",
     "output_type": "stream",
     "text": [
      "naver/kakao/samsung\n"
     ]
    }
   ],
   "source": [
    "#8\n",
    "print(\"naver\", \"kakao\", \"samsung\", sep=\"/\")"
   ]
  },
  {
   "cell_type": "code",
   "execution_count": 23,
   "id": "d7cf8fd7-fc10-42c8-932a-4531a5c905a0",
   "metadata": {},
   "outputs": [
    {
     "name": "stdout",
     "output_type": "stream",
     "text": [
      "first\n",
      "second\n"
     ]
    }
   ],
   "source": [
    "#9\n",
    "print(\"first\");print(\"second\")"
   ]
  },
  {
   "cell_type": "code",
   "execution_count": 24,
   "id": "616a1871-204a-4317-97cf-190cf7b68af5",
   "metadata": {},
   "outputs": [
    {
     "name": "stdout",
     "output_type": "stream",
     "text": [
      "firstsecond\n"
     ]
    }
   ],
   "source": [
    "print(\"first\", end=\"\"); print(\"second\")"
   ]
  },
  {
   "cell_type": "code",
   "execution_count": 25,
   "id": "1d1a162b-153c-4486-8d34-336b58a16de1",
   "metadata": {},
   "outputs": [
    {
     "name": "stdout",
     "output_type": "stream",
     "text": [
      "1.6666666666666667\n"
     ]
    }
   ],
   "source": [
    "#10\n",
    "print(5/3)"
   ]
  },
  {
   "cell_type": "code",
   "execution_count": 15,
   "id": "374d8393-60bb-43ae-a446-b28f2119517c",
   "metadata": {},
   "outputs": [
    {
     "name": "stdout",
     "output_type": "stream",
     "text": [
      "500000\n"
     ]
    }
   ],
   "source": [
    "#11\n",
    "삼성전자=50000\n",
    "총평가금액=삼성전자*10\n",
    "print(총평가금액)"
   ]
  },
  {
   "cell_type": "code",
   "execution_count": 26,
   "id": "abc3a86d-b345-4f1d-b83d-3fcf2a08f8de",
   "metadata": {},
   "outputs": [
    {
     "name": "stdout",
     "output_type": "stream",
     "text": [
      "298000000000000 <class 'int'>\n",
      "50000 <class 'int'>\n",
      "15.79 <class 'float'>\n"
     ]
    }
   ],
   "source": [
    "#12\n",
    "시가총액=298000000000000\n",
    "현재가=50000\n",
    "PER=15.79\n",
    "print(시가총액, type(시가총액))\n",
    "print(현재가, type(현재가))\n",
    "print(PER, type(PER))"
   ]
  },
  {
   "cell_type": "code",
   "execution_count": 13,
   "id": "3861d43d-d03c-471e-ab67-671f8409ffa4",
   "metadata": {},
   "outputs": [
    {
     "name": "stdout",
     "output_type": "stream",
     "text": [
      "hello\n",
      "python\n"
     ]
    }
   ],
   "source": [
    "#13\n",
    "s = \"hello\"\n",
    "t = \"python\"\n",
    "print(s)\n",
    "print(t)"
   ]
  },
  {
   "cell_type": "code",
   "execution_count": 14,
   "id": "9d2b80df-bea5-4827-9b1c-2d014df9941d",
   "metadata": {},
   "outputs": [
    {
     "name": "stdout",
     "output_type": "stream",
     "text": [
      "hello! python\n"
     ]
    }
   ],
   "source": [
    "print(s+\"!\",t)"
   ]
  },
  {
   "cell_type": "code",
   "execution_count": 17,
   "id": "997b564b-808a-49f2-a1c6-fe93b8c96ddf",
   "metadata": {},
   "outputs": [
    {
     "name": "stdout",
     "output_type": "stream",
     "text": [
      "8\n"
     ]
    }
   ],
   "source": [
    "#14\n",
    "print(2 + 2 * 3)"
   ]
  },
  {
   "cell_type": "code",
   "execution_count": 18,
   "id": "7412b551-6789-424d-9ef2-685691880ee3",
   "metadata": {},
   "outputs": [
    {
     "name": "stdout",
     "output_type": "stream",
     "text": [
      "<class 'int'>\n"
     ]
    }
   ],
   "source": [
    "#15\n",
    "a = 128\n",
    "print (type(a))"
   ]
  },
  {
   "cell_type": "code",
   "execution_count": 19,
   "id": "c691db8b-2f1b-431a-a04d-3ec342510ff0",
   "metadata": {},
   "outputs": [
    {
     "name": "stdout",
     "output_type": "stream",
     "text": [
      "<class 'str'>\n"
     ]
    }
   ],
   "source": [
    "a = \"132\"\n",
    "print (type(a))"
   ]
  },
  {
   "cell_type": "markdown",
   "id": "1cc70c96-88de-4d67-99ba-54e07ebf9b88",
   "metadata": {},
   "source": [
    "16번 다시"
   ]
  },
  {
   "cell_type": "code",
   "execution_count": 27,
   "id": "af07859e-1f00-459c-b576-c2e8430fdcb8",
   "metadata": {},
   "outputs": [
    {
     "name": "stdout",
     "output_type": "stream",
     "text": [
      "721 <class 'int'>\n"
     ]
    }
   ],
   "source": [
    "#16\n",
    "num_str = \"720\"\n",
    "num_int = int(num_str)\n",
    "print(num_int+1, type(num_int))"
   ]
  },
  {
   "cell_type": "code",
   "execution_count": null,
   "id": "821bb50b-7c8e-4f65-aaf9-edbfe6942dea",
   "metadata": {},
   "outputs": [],
   "source": []
  },
  {
   "cell_type": "code",
   "execution_count": 20,
   "id": "1f0b7ef9-63b5-42a2-a5d1-3346f265a4c3",
   "metadata": {},
   "outputs": [
    {
     "name": "stdout",
     "output_type": "stream",
     "text": [
      "100 <class 'str'>\n"
     ]
    }
   ],
   "source": [
    "#17\n",
    "num = 100\n",
    "result = str(num)\n",
    "print(result, type(result))"
   ]
  },
  {
   "cell_type": "code",
   "execution_count": 28,
   "id": "bb8b3cf6-3589-4ac3-bb3a-3ecc7b975ac3",
   "metadata": {},
   "outputs": [
    {
     "name": "stdout",
     "output_type": "stream",
     "text": [
      "15.79 <class 'float'>\n"
     ]
    }
   ],
   "source": [
    "#18\n",
    "data = \"15.79\"\n",
    "data = float(data)\n",
    "print(data, type(data))"
   ]
  },
  {
   "cell_type": "code",
   "execution_count": 30,
   "id": "f0faf08b-7f88-4974-b86b-03956232b834",
   "metadata": {},
   "outputs": [
    {
     "name": "stdout",
     "output_type": "stream",
     "text": [
      "2020\n"
     ]
    }
   ],
   "source": [
    "#19\n",
    "year = \"2020\"\n",
    "year= int(year)\n",
    "print(year)"
   ]
  },
  {
   "cell_type": "code",
   "execution_count": 31,
   "id": "8db37378-cb2a-491d-acdb-d05a5e8f05f6",
   "metadata": {},
   "outputs": [
    {
     "name": "stdout",
     "output_type": "stream",
     "text": [
      "2017\n",
      "2018\n",
      "2019\n"
     ]
    }
   ],
   "source": [
    "year = \"2020\"\n",
    "print(int(year)-3)  # 2017\n",
    "print(int(year)-2)  # 2018\n",
    "print(int(year)-1)  # 2019"
   ]
  },
  {
   "cell_type": "code",
   "execution_count": 21,
   "id": "04745ad3-70e0-4a49-a458-d4865a8cdc47",
   "metadata": {},
   "outputs": [
    {
     "name": "stdout",
     "output_type": "stream",
     "text": [
      "1749024\n"
     ]
    }
   ],
   "source": [
    "#20\n",
    "총금액=48584*36\n",
    "print(총금액)"
   ]
  },
  {
   "cell_type": "code",
   "execution_count": 34,
   "id": "6994948e-0855-4d31-b0f5-fe6544445748",
   "metadata": {},
   "outputs": [
    {
     "name": "stdout",
     "output_type": "stream",
     "text": [
      "python\n",
      "p t\n"
     ]
    }
   ],
   "source": [
    "#21\n",
    "letters = 'python'\n",
    "print(letters)\n",
    "print(letters[0], letters[2])"
   ]
  },
  {
   "cell_type": "code",
   "execution_count": 38,
   "id": "4b878655-d0fe-4c68-8ec7-52e95753bde7",
   "metadata": {},
   "outputs": [
    {
     "name": "stdout",
     "output_type": "stream",
     "text": [
      "2210\n"
     ]
    }
   ],
   "source": [
    "#22\n",
    "license_plate = \"24가 2210\"\n",
    "print(license_plate[-4:])\n"
   ]
  },
  {
   "cell_type": "markdown",
   "id": "e3537455-7f01-45fd-b614-d8419019ebbf",
   "metadata": {},
   "source": [
    "23번 다시"
   ]
  },
  {
   "cell_type": "code",
   "execution_count": 41,
   "id": "b594938f-79ac-42bd-b398-49e80b2cc792",
   "metadata": {},
   "outputs": [
    {
     "name": "stdout",
     "output_type": "stream",
     "text": [
      "홀홀홀\n"
     ]
    }
   ],
   "source": [
    "#23\n",
    "string = \"홀짝홀짝홀짝\"\n",
    "print(string[::2])\n"
   ]
  },
  {
   "cell_type": "code",
   "execution_count": 45,
   "id": "4cd31627-4c09-43b6-a687-af3818f67214",
   "metadata": {},
   "outputs": [
    {
     "name": "stdout",
     "output_type": "stream",
     "text": [
      "NOHTYP\n"
     ]
    }
   ],
   "source": [
    "#24\n",
    "string = \"PYTHON\"\n",
    "print(string[::-1])"
   ]
  },
  {
   "cell_type": "code",
   "execution_count": 47,
   "id": "07a64ed7-5d68-4f72-a955-d51945b63c18",
   "metadata": {},
   "outputs": [
    {
     "data": {
      "text/plain": [
       "'010 1111 2222'"
      ]
     },
     "execution_count": 47,
     "metadata": {},
     "output_type": "execute_result"
    }
   ],
   "source": [
    "#25\n",
    "phone_number = \"010-1111-2222\"\n",
    "phone_number.replace('-',' ')"
   ]
  },
  {
   "cell_type": "code",
   "execution_count": 48,
   "id": "1063fbff-0bb7-42ec-9897-4066357a73bf",
   "metadata": {},
   "outputs": [
    {
     "data": {
      "text/plain": [
       "'01011112222'"
      ]
     },
     "execution_count": 48,
     "metadata": {},
     "output_type": "execute_result"
    }
   ],
   "source": [
    "#26\n",
    "phone_number = \"010-1111-2222\"\n",
    "phone_number.replace('-','')"
   ]
  },
  {
   "cell_type": "markdown",
   "id": "47070b26-fe4c-4424-b153-6a25823c85ea",
   "metadata": {},
   "source": [
    "27번 다시"
   ]
  },
  {
   "cell_type": "code",
   "execution_count": 55,
   "id": "a74cfa0b-4809-4c60-8f21-bef475b70930",
   "metadata": {},
   "outputs": [
    {
     "name": "stdout",
     "output_type": "stream",
     "text": [
      "kr\n"
     ]
    }
   ],
   "source": [
    "#27\n",
    "url = \"http://sharebook.kr\"\n",
    "url_split=url.split('.')\n",
    "print(url_split[-1])"
   ]
  },
  {
   "cell_type": "markdown",
   "id": "8fef4b95-977e-4696-b57b-66e4af6b4105",
   "metadata": {},
   "source": [
    "28번 다시 /대문자를 소문자로 변경 못한다는 말인가?"
   ]
  },
  {
   "cell_type": "code",
   "execution_count": 56,
   "id": "0776681c-a8c5-4392-9375-8dbb4954f695",
   "metadata": {},
   "outputs": [
    {
     "ename": "IndentationError",
     "evalue": "unexpected indent (118718031.py, line 2)",
     "output_type": "error",
     "traceback": [
      "\u001b[1;36m  Cell \u001b[1;32mIn[56], line 2\u001b[1;36m\u001b[0m\n\u001b[1;33m    lang = 'python'\u001b[0m\n\u001b[1;37m    ^\u001b[0m\n\u001b[1;31mIndentationError\u001b[0m\u001b[1;31m:\u001b[0m unexpected indent\n"
     ]
    }
   ],
   "source": [
    "#28\n",
    " lang = 'python'\n",
    " lang[0] = 'P'\n",
    " print(lang)"
   ]
  },
  {
   "cell_type": "code",
   "execution_count": 57,
   "id": "c1ca9908-fa4d-4cba-9e57-5288491480cb",
   "metadata": {},
   "outputs": [
    {
     "data": {
      "text/plain": [
       "'Abcdfe2A354A32A'"
      ]
     },
     "execution_count": 57,
     "metadata": {},
     "output_type": "execute_result"
    }
   ],
   "source": [
    "#29\n",
    "string = 'abcdfe2a354a32a'\n",
    "string.replace('a','A')\n"
   ]
  },
  {
   "cell_type": "markdown",
   "id": "06d55a66-284e-4803-b8cc-d8182835d837",
   "metadata": {},
   "source": [
    "30번 다시 /안되는건 알겠는데 답안 설명은 이해 못함"
   ]
  },
  {
   "cell_type": "code",
   "execution_count": 59,
   "id": "f1bf8d49-2322-46b3-b05f-9f6412fff8ce",
   "metadata": {},
   "outputs": [
    {
     "name": "stdout",
     "output_type": "stream",
     "text": [
      "abcd\n"
     ]
    }
   ],
   "source": [
    "#30\n",
    "string = 'abcd'\n",
    "string.replace('b', 'B')\n",
    "print(string)"
   ]
  },
  {
   "cell_type": "code",
   "execution_count": 61,
   "id": "efaa7c82-fb4c-467b-a78e-3cdd496b87de",
   "metadata": {},
   "outputs": [
    {
     "name": "stdout",
     "output_type": "stream",
     "text": [
      "34\n"
     ]
    }
   ],
   "source": [
    "#31\n",
    "a = \"3\"\n",
    "b = \"4\"\n",
    "print(a + b)\n"
   ]
  },
  {
   "cell_type": "code",
   "execution_count": 63,
   "id": "821a963a-d50f-41b1-ae7d-546e07948c1e",
   "metadata": {},
   "outputs": [
    {
     "name": "stdout",
     "output_type": "stream",
     "text": [
      "HiHiHi\n"
     ]
    }
   ],
   "source": [
    "#32\n",
    "print(\"Hi\" * 3)\n"
   ]
  },
  {
   "cell_type": "code",
   "execution_count": 65,
   "id": "b03a39b7-e57d-4da2-9044-27a0be65846d",
   "metadata": {},
   "outputs": [
    {
     "name": "stdout",
     "output_type": "stream",
     "text": [
      "--------------------------------------------------------------------------------\n"
     ]
    }
   ],
   "source": [
    "#33\n",
    "print('-'*80)"
   ]
  },
  {
   "cell_type": "code",
   "execution_count": 66,
   "id": "a2924876-7a87-4430-97b6-1f4df6a2e8d1",
   "metadata": {},
   "outputs": [
    {
     "name": "stdout",
     "output_type": "stream",
     "text": [
      "python java python java python java python java \n"
     ]
    }
   ],
   "source": [
    "#34\n",
    "t1 = \"python\"\n",
    "t2 = \"java\"\n",
    "t3 = t1 + ' ' + t2 + ' '\n",
    "print(t3 * 4)"
   ]
  },
  {
   "cell_type": "markdown",
   "id": "4cd86de1-ab37-4bec-af4c-ae3188a02726",
   "metadata": {},
   "source": [
    "35번 '%s'는 문자열 데이터 타입의 값, '%d'는 정수형 데이터 타입 값을 의미함"
   ]
  },
  {
   "cell_type": "code",
   "execution_count": 67,
   "id": "41aa3ad9-5fd3-460d-9b74-6dcb151d9d2e",
   "metadata": {},
   "outputs": [
    {
     "name": "stdout",
     "output_type": "stream",
     "text": [
      "이름: 김민수 나이: 10\n",
      "이름: 이철희 나이: 13\n"
     ]
    }
   ],
   "source": [
    "#35\n",
    "name1 = \"김민수\" \n",
    "age1 = 10\n",
    "name2 = \"이철희\"\n",
    "age2 = 13\n",
    "print(\"이름: %s 나이: %d\" % (name1, age1))\n",
    "print(\"이름: %s 나이: %d\" % (name2, age2))"
   ]
  },
  {
   "cell_type": "code",
   "execution_count": 68,
   "id": "cb23b5b4-d823-46f4-b822-5b6382a33508",
   "metadata": {},
   "outputs": [
    {
     "name": "stdout",
     "output_type": "stream",
     "text": [
      "이름: 김민수 나이: 10\n",
      "이름: 이철희 나이: 13\n"
     ]
    }
   ],
   "source": [
    "#36\n",
    "name1 = \"김민수\" \n",
    "age1 = 10\n",
    "name2 = \"이철희\"\n",
    "age2 = 13\n",
    "print(\"이름: {} 나이: {}\".format(name1, age1))\n",
    "print(\"이름: {} 나이: {}\".format(name2, age2))"
   ]
  },
  {
   "cell_type": "code",
   "execution_count": 69,
   "id": "5e38ed02-106e-46b4-a5e0-2e278f2a5417",
   "metadata": {},
   "outputs": [
    {
     "name": "stdout",
     "output_type": "stream",
     "text": [
      "이름: 김민수 나이: 10\n",
      "이름: 이철희 나이: 13\n"
     ]
    }
   ],
   "source": [
    "#37\n",
    "name1 = \"김민수\" \n",
    "age1 = 10\n",
    "name2 = \"이철희\"\n",
    "age2 = 13\n",
    "print(f\"이름: {name1} 나이: {age1}\")\n",
    "print(f\"이름: {name2} 나이: {age2}\")"
   ]
  },
  {
   "cell_type": "code",
   "execution_count": 70,
   "id": "9817feda-bf90-487d-9a13-d1af40e93659",
   "metadata": {},
   "outputs": [
    {
     "name": "stdout",
     "output_type": "stream",
     "text": [
      "5969782550 <class 'int'>\n"
     ]
    }
   ],
   "source": [
    "#38\n",
    "상장주식수 = \"5,969,782,550\"\n",
    "컴마제거 = 상장주식수.replace(\",\", \"\")\n",
    "타입변환 = int(컴마제거)\n",
    "print(타입변환, type(타입변환))\n"
   ]
  },
  {
   "cell_type": "markdown",
   "id": "85e76f4a-1b94-47cd-8e7d-528282780d79",
   "metadata": {},
   "source": [
    "39번 [:6] 이거 아닌가 왜 7일까"
   ]
  },
  {
   "cell_type": "code",
   "execution_count": 72,
   "id": "609e642d-533e-47e1-bc78-53d1588bb82f",
   "metadata": {},
   "outputs": [
    {
     "name": "stdout",
     "output_type": "stream",
     "text": [
      "2020/03\n"
     ]
    }
   ],
   "source": [
    "#39\n",
    "분기 = \"2020/03(E) (IFRS연결)\"\n",
    "print(분기[:7])"
   ]
  },
  {
   "cell_type": "code",
   "execution_count": 73,
   "id": "23b392cb-4b0d-47c6-91eb-78a9c9f5f0a9",
   "metadata": {},
   "outputs": [
    {
     "name": "stdout",
     "output_type": "stream",
     "text": [
      "삼성전자\n"
     ]
    }
   ],
   "source": [
    "#40\n",
    "data = \"   삼성전자    \"\n",
    "data1 = data.strip()\n",
    "print(data1)"
   ]
  },
  {
   "cell_type": "code",
   "execution_count": 74,
   "id": "b377d655-6252-48a7-ae3c-b1fa9f16ba55",
   "metadata": {},
   "outputs": [
    {
     "name": "stdout",
     "output_type": "stream",
     "text": [
      "BTC_KRW\n"
     ]
    }
   ],
   "source": [
    "#41\n",
    "ticker = \"btc_krw\"\n",
    "ticker1 = ticker.upper()\n",
    "print(ticker1)"
   ]
  },
  {
   "cell_type": "code",
   "execution_count": 78,
   "id": "7c17db38-3535-4af2-b4a7-873f1a3af177",
   "metadata": {},
   "outputs": [
    {
     "name": "stdout",
     "output_type": "stream",
     "text": [
      "btc_krw\n"
     ]
    }
   ],
   "source": [
    "#42\n",
    "ticker = \"BTC_KRW\"\n",
    "ticker = ticker.lower()\n",
    "print(ticker)"
   ]
  },
  {
   "cell_type": "code",
   "execution_count": 82,
   "id": "ca3ac50d-2e48-4c0e-b4f9-17a2ce3067bb",
   "metadata": {},
   "outputs": [
    {
     "name": "stdout",
     "output_type": "stream",
     "text": [
      "Hello\n"
     ]
    }
   ],
   "source": [
    "#43\n",
    "a = \"hello\"\n",
    "a = a.capitalize()\n",
    "print(a)"
   ]
  },
  {
   "cell_type": "code",
   "execution_count": 83,
   "id": "2c615f78-ba17-41bf-ade4-f5226ee83cbd",
   "metadata": {},
   "outputs": [
    {
     "data": {
      "text/plain": [
       "True"
      ]
     },
     "execution_count": 83,
     "metadata": {},
     "output_type": "execute_result"
    }
   ],
   "source": [
    "#44\n",
    "file_name = \"보고서.xlsx\"\n",
    "file_name.endswith(\"xlsx\")"
   ]
  },
  {
   "cell_type": "code",
   "execution_count": 84,
   "id": "24badce4-855e-4535-a8d5-1e6b6688cd17",
   "metadata": {},
   "outputs": [
    {
     "data": {
      "text/plain": [
       "True"
      ]
     },
     "execution_count": 84,
     "metadata": {},
     "output_type": "execute_result"
    }
   ],
   "source": [
    "#45\n",
    "file_name = \"보고서.xlsx\"\n",
    "file_name.endswith((\"xlsx\", \"xls\"))\n"
   ]
  },
  {
   "cell_type": "code",
   "execution_count": 85,
   "id": "996bf6be-d57d-4e2d-acd1-597c1e49e762",
   "metadata": {},
   "outputs": [
    {
     "data": {
      "text/plain": [
       "True"
      ]
     },
     "execution_count": 85,
     "metadata": {},
     "output_type": "execute_result"
    }
   ],
   "source": [
    "#46\n",
    "file_name = \"2020_보고서.xlsx\"\n",
    "file_name.startswith(\"2020\")\n"
   ]
  },
  {
   "cell_type": "code",
   "execution_count": 86,
   "id": "45b969c1-5b48-4780-b162-5d7e4ddac3df",
   "metadata": {},
   "outputs": [
    {
     "data": {
      "text/plain": [
       "['hello', 'world']"
      ]
     },
     "execution_count": 86,
     "metadata": {},
     "output_type": "execute_result"
    }
   ],
   "source": [
    "#47\n",
    "a = \"hello world\"\n",
    "a.split()\n"
   ]
  },
  {
   "cell_type": "code",
   "execution_count": 87,
   "id": "5a00a94e-d4ea-4246-80a7-224c9f88f140",
   "metadata": {},
   "outputs": [
    {
     "data": {
      "text/plain": [
       "['btc', 'krw']"
      ]
     },
     "execution_count": 87,
     "metadata": {},
     "output_type": "execute_result"
    }
   ],
   "source": [
    "#48\n",
    "ticker = \"btc_krw\"\n",
    "ticker.split(\"_\")\n"
   ]
  },
  {
   "cell_type": "code",
   "execution_count": 88,
   "id": "b1d4bea4-7dae-45cc-b253-b9cd51864b0c",
   "metadata": {},
   "outputs": [
    {
     "data": {
      "text/plain": [
       "['2020', '05', '01']"
      ]
     },
     "execution_count": 88,
     "metadata": {},
     "output_type": "execute_result"
    }
   ],
   "source": [
    "#49\n",
    "date = \"2020-05-01\"\n",
    "date.split(\"-\")\n"
   ]
  },
  {
   "cell_type": "code",
   "execution_count": 91,
   "id": "355fcfd3-4542-467d-a935-749e946ea59d",
   "metadata": {},
   "outputs": [
    {
     "name": "stdout",
     "output_type": "stream",
     "text": [
      "039490\n"
     ]
    }
   ],
   "source": [
    "#50\n",
    "data = \"039490     \"\n",
    "data=data.rstrip()\n",
    "print(data)"
   ]
  },
  {
   "cell_type": "markdown",
   "id": "9175d2a4-1172-407f-8a35-42db85e78e1d",
   "metadata": {},
   "source": [
    "20240904과제 끝!"
   ]
  },
  {
   "cell_type": "markdown",
   "id": "fb3f4d95-fec2-4632-8012-f8586acfbc28",
   "metadata": {},
   "source": [
    "# 51-100번 과제"
   ]
  },
  {
   "cell_type": "code",
   "execution_count": 3,
   "id": "89117fc7-b286-4a4b-9ab5-7be0307c4641",
   "metadata": {},
   "outputs": [
    {
     "name": "stdout",
     "output_type": "stream",
     "text": [
      "['닥터 스트레인지', '스플릿', '럭키']\n"
     ]
    }
   ],
   "source": [
    "#51\n",
    "movie_rank = [\"닥터 스트레인지\", \"스플릿\", \"럭키\"]\n",
    "print(movie_rank)"
   ]
  },
  {
   "cell_type": "code",
   "execution_count": 5,
   "id": "22e26991-4df0-472d-b443-25728318dbec",
   "metadata": {},
   "outputs": [
    {
     "name": "stdout",
     "output_type": "stream",
     "text": [
      "['닥터 스트레인지', '스플릿', '럭키', '배트맨']\n"
     ]
    }
   ],
   "source": [
    "#52\n",
    "movie_rank = [\"닥터 스트레인지\", \"스플릿\", \"럭키\",\"배트맨\"]\n",
    "print(movie_rank)"
   ]
  },
  {
   "cell_type": "code",
   "execution_count": 7,
   "id": "4ed36352-537a-4b12-8c0c-c2d3bb14d258",
   "metadata": {},
   "outputs": [
    {
     "name": "stdout",
     "output_type": "stream",
     "text": [
      "['닥터 스트레인지', '스플릿', '럭키', '배트맨']\n"
     ]
    }
   ],
   "source": [
    "movie_rank = [\"닥터 스트레인지\", \"스플릿\", \"럭키\"]\n",
    "movie_rank.append(\"배트맨\")\n",
    "print(movie_rank)"
   ]
  },
  {
   "cell_type": "code",
   "execution_count": 8,
   "id": "1d5373c9-2403-4e2e-bd28-bf58ca8973cd",
   "metadata": {},
   "outputs": [
    {
     "name": "stdout",
     "output_type": "stream",
     "text": [
      "['닥터 스트레인지', '슈퍼맨', '스플릿', '럭키', '배트맨']\n"
     ]
    }
   ],
   "source": [
    "#53\n",
    "movie_rank = ['닥터 스트레인지', '스플릿', '럭키', '배트맨']\n",
    "movie_rank.insert(1,\"슈퍼맨\")\n",
    "print(movie_rank)"
   ]
  },
  {
   "cell_type": "code",
   "execution_count": 9,
   "id": "0128e0c6-de64-4e5c-8f5a-507ede8a042e",
   "metadata": {},
   "outputs": [
    {
     "name": "stdout",
     "output_type": "stream",
     "text": [
      "['닥터 스트레인지', '슈퍼맨', '스플릿', '배트맨']\n"
     ]
    }
   ],
   "source": [
    "#54\n",
    "movie_rank = ['닥터 스트레인지', '슈퍼맨', '스플릿', '럭키', '배트맨']\n",
    "del movie_rank[3]\n",
    "print(movie_rank)"
   ]
  },
  {
   "cell_type": "code",
   "execution_count": 21,
   "id": "a9112e05-66d5-4ddc-b161-7628e8420f1d",
   "metadata": {},
   "outputs": [
    {
     "name": "stdout",
     "output_type": "stream",
     "text": [
      "['닥터 스트레인지', '슈퍼맨']\n"
     ]
    }
   ],
   "source": [
    "#55\n",
    "movie_rank = ['닥터 스트레인지', '슈퍼맨', '스플릿', '배트맨']\n",
    "del movie_rank[2]\n",
    "del movie_rank[2]\n",
    "print(movie_rank)"
   ]
  },
  {
   "cell_type": "code",
   "execution_count": 24,
   "id": "7e18cd03-1fa3-4b9c-9d26-91e2fbded410",
   "metadata": {},
   "outputs": [
    {
     "name": "stdout",
     "output_type": "stream",
     "text": [
      "['C', 'C++', 'JAVA', 'Python', 'Go', 'C#']\n"
     ]
    }
   ],
   "source": [
    "#56\n",
    "lang1 = [\"C\", \"C++\", \"JAVA\"]\n",
    "lang2 = [\"Python\", \"Go\", \"C#\"]\n",
    "langs= lang1 + lang2\n",
    "print(langs)"
   ]
  },
  {
   "cell_type": "code",
   "execution_count": 25,
   "id": "ee3f0e21-ee5e-4aad-9cb2-2e99088e5b92",
   "metadata": {},
   "outputs": [
    {
     "name": "stdout",
     "output_type": "stream",
     "text": [
      "max:  7\n",
      "min:  1\n"
     ]
    }
   ],
   "source": [
    "#57\n",
    "nums = [1, 2, 3, 4, 5, 6, 7]\n",
    "print(\"max: \", max(nums))\n",
    "print(\"min: \", min(nums))"
   ]
  },
  {
   "cell_type": "code",
   "execution_count": 27,
   "id": "e63bc9dd-0555-40ca-9f8a-b08a8b84120b",
   "metadata": {},
   "outputs": [
    {
     "name": "stdout",
     "output_type": "stream",
     "text": [
      "15\n"
     ]
    }
   ],
   "source": [
    "#58\n",
    "nums = [1, 2, 3, 4, 5]\n",
    "print(sum(nums))\n"
   ]
  },
  {
   "cell_type": "code",
   "execution_count": 28,
   "id": "3eb062f6-4bcb-4772-9274-d780e74f0002",
   "metadata": {},
   "outputs": [
    {
     "name": "stdout",
     "output_type": "stream",
     "text": [
      "12\n"
     ]
    }
   ],
   "source": [
    "#59\n",
    "cook = [\"피자\", \"김밥\", \"만두\", \"양념치킨\", \"족발\", \"피자\", \"김치만두\", \"쫄면\", \"소시지\", \"라면\", \"팥빙수\", \"김치전\"]\n",
    "print(len(cook))"
   ]
  },
  {
   "cell_type": "code",
   "execution_count": 31,
   "id": "bea03198-c04e-4a79-ac99-717179af5ce3",
   "metadata": {},
   "outputs": [
    {
     "name": "stdout",
     "output_type": "stream",
     "text": [
      "3.0\n"
     ]
    }
   ],
   "source": [
    "#60\n",
    "nums = [1, 2, 3, 4, 5]\n",
    "더하기=(sum(nums))/5\n",
    "print(더하기)"
   ]
  },
  {
   "cell_type": "code",
   "execution_count": 34,
   "id": "1fed1a57-22bf-4ba2-8f64-b0051979eea7",
   "metadata": {},
   "outputs": [
    {
     "name": "stdout",
     "output_type": "stream",
     "text": [
      "[100, 130, 140, 150, 160, 170]\n"
     ]
    }
   ],
   "source": [
    "#61\n",
    "price = ['20180728', 100, 130, 140, 150, 160, 170]\n",
    "print(price[1:])"
   ]
  },
  {
   "cell_type": "code",
   "execution_count": 35,
   "id": "8677e71e-2359-49af-97b1-108c4f3a07c6",
   "metadata": {},
   "outputs": [
    {
     "name": "stdout",
     "output_type": "stream",
     "text": [
      "[1, 3, 5, 7, 9]\n"
     ]
    }
   ],
   "source": [
    "#62\n",
    "nums = [1, 2, 3, 4, 5, 6, 7, 8, 9, 10]\n",
    "print(nums[::2])"
   ]
  },
  {
   "cell_type": "code",
   "execution_count": 42,
   "id": "eccb461a-4ef4-4636-81d8-abffebf126a7",
   "metadata": {},
   "outputs": [
    {
     "name": "stdout",
     "output_type": "stream",
     "text": [
      "[2, 4, 6, 8, 10]\n"
     ]
    }
   ],
   "source": [
    "#63\n",
    "nums = [1, 2, 3, 4, 5, 6, 7, 8, 9, 10]\n",
    "print(nums[1::2])"
   ]
  },
  {
   "cell_type": "markdown",
   "id": "8e5c403d-39dc-4326-b51f-9c1244213071",
   "metadata": {},
   "source": [
    "64번 모르겠다"
   ]
  },
  {
   "cell_type": "code",
   "execution_count": 45,
   "id": "8d6d6611-911d-49bd-b234-a44183826d5b",
   "metadata": {},
   "outputs": [
    {
     "name": "stdout",
     "output_type": "stream",
     "text": [
      "[5, 4, 3, 2, 1]\n"
     ]
    }
   ],
   "source": [
    "#64\n",
    "nums = [1, 2, 3, 4, 5]\n",
    "print(nums[::-1])"
   ]
  },
  {
   "cell_type": "code",
   "execution_count": 51,
   "id": "84a3591c-64b4-4def-a53b-21b4f9a8ed8e",
   "metadata": {},
   "outputs": [
    {
     "name": "stdout",
     "output_type": "stream",
     "text": [
      "삼성전자 Naver\n"
     ]
    }
   ],
   "source": [
    "#65\n",
    "interest = ['삼성전자', 'LG전자', 'Naver']\n",
    "print(interest[0], interest[2])"
   ]
  },
  {
   "cell_type": "code",
   "execution_count": 58,
   "id": "024f7993-486d-4859-b75e-352a755a6e80",
   "metadata": {},
   "outputs": [
    {
     "name": "stdout",
     "output_type": "stream",
     "text": [
      "삼성전자 LG전자 Naver SK하이닉스 미래에셋대우\n"
     ]
    }
   ],
   "source": [
    "#66\n",
    "interest = ['삼성전자', 'LG전자', 'Naver', 'SK하이닉스', '미래에셋대우']\n",
    "print(\" \".join(interest))"
   ]
  },
  {
   "cell_type": "code",
   "execution_count": 59,
   "id": "3556b4e0-419d-49dd-9cfe-67c6c6244dc0",
   "metadata": {},
   "outputs": [
    {
     "name": "stdout",
     "output_type": "stream",
     "text": [
      "삼성전자/LG전자/Naver/SK하이닉스/미래에셋대우\n"
     ]
    }
   ],
   "source": [
    "#67\n",
    "interest = ['삼성전자', 'LG전자', 'Naver', 'SK하이닉스', '미래에셋대우']\n",
    "print(\"/\".join(interest))"
   ]
  },
  {
   "cell_type": "code",
   "execution_count": 62,
   "id": "54b989cb-cddf-4b22-bb18-1e87363555a1",
   "metadata": {},
   "outputs": [
    {
     "name": "stdout",
     "output_type": "stream",
     "text": [
      "삼성전자\n",
      "LG전자\n",
      "Naver\n",
      "SK하이닉스\n",
      "미래에셋대우\n"
     ]
    }
   ],
   "source": [
    "#68\n",
    "interest = ['삼성전자', 'LG전자', 'Naver', 'SK하이닉스', '미래에셋대우']\n",
    "print(\"\\n\".join(interest))"
   ]
  },
  {
   "cell_type": "code",
   "execution_count": 65,
   "id": "d9163335-2425-41b1-b06d-22c6eac31593",
   "metadata": {},
   "outputs": [
    {
     "name": "stdout",
     "output_type": "stream",
     "text": [
      "['삼성전자', 'LG전자', 'Naver']\n"
     ]
    }
   ],
   "source": [
    "#69\n",
    "string = \"삼성전자/LG전자/Naver\"\n",
    "interest=string.split(\"/\")\n",
    "print(interest)"
   ]
  },
  {
   "cell_type": "code",
   "execution_count": 70,
   "id": "0d517519-b426-4bba-8164-8f438c87cc63",
   "metadata": {},
   "outputs": [
    {
     "name": "stdout",
     "output_type": "stream",
     "text": [
      "[1, 2, 3, 4, 5, 9, 10]\n"
     ]
    }
   ],
   "source": [
    "#70\n",
    "data = [2, 4, 3, 1, 5, 10, 9]\n",
    "data.sort()\n",
    "print(data)"
   ]
  },
  {
   "cell_type": "code",
   "execution_count": 71,
   "id": "1528d364-340c-4fde-ab5d-106c182f75d2",
   "metadata": {},
   "outputs": [
    {
     "name": "stdout",
     "output_type": "stream",
     "text": [
      "<class 'tuple'>\n"
     ]
    }
   ],
   "source": [
    "#71\n",
    "my_variable = ()\n",
    "print(type(my_variable))"
   ]
  },
  {
   "cell_type": "code",
   "execution_count": 72,
   "id": "fcb72ef0-b310-4d35-96cb-466a4bb6a9fe",
   "metadata": {},
   "outputs": [
    {
     "name": "stdout",
     "output_type": "stream",
     "text": [
      "('닥터 스트레인지', '스플릿', '럭키')\n"
     ]
    }
   ],
   "source": [
    "#72\n",
    "movie_rank=('닥터 스트레인지','스플릿','럭키')\n",
    "print(movie_rank)"
   ]
  },
  {
   "cell_type": "code",
   "execution_count": 74,
   "id": "ce4164ed-7cdb-4b3e-85c9-c4c3398585d8",
   "metadata": {},
   "outputs": [
    {
     "name": "stdout",
     "output_type": "stream",
     "text": [
      "<class 'tuple'>\n"
     ]
    }
   ],
   "source": [
    "#73\n",
    "tuple=(1,)\n",
    "print(type(tuple))"
   ]
  },
  {
   "cell_type": "code",
   "execution_count": 75,
   "id": "14e5ca4f-dacd-4980-84bf-c5b4b2a169bf",
   "metadata": {},
   "outputs": [
    {
     "ename": "SyntaxError",
     "evalue": "invalid syntax (987351756.py, line 2)",
     "output_type": "error",
     "traceback": [
      "\u001b[1;36m  Cell \u001b[1;32mIn[75], line 2\u001b[1;36m\u001b[0m\n\u001b[1;33m    >> t = (1, 2, 3)\u001b[0m\n\u001b[1;37m    ^\u001b[0m\n\u001b[1;31mSyntaxError\u001b[0m\u001b[1;31m:\u001b[0m invalid syntax\n"
     ]
    }
   ],
   "source": [
    "#74\n",
    ">> t = (1, 2, 3)\n",
    ">> t[0] = 'a'\n",
    "Traceback (most recent call last):\n",
    "  File \"<pyshell#46>\", line 1, in <module>\n",
    "    t[0] = 'a'\n",
    "TypeError: 'tuple' object does not support item assignment"
   ]
  },
  {
   "cell_type": "markdown",
   "id": "c4b1d8b3-1740-41fc-98da-e83ff24ad9d5",
   "metadata": {},
   "source": [
    "에러 이유를 설명하세요: 튜플은 변경 할 수 없어용"
   ]
  },
  {
   "cell_type": "code",
   "execution_count": 76,
   "id": "de5297f1-bcde-4201-bd72-1b73082e94bc",
   "metadata": {},
   "outputs": [
    {
     "name": "stdout",
     "output_type": "stream",
     "text": [
      "<class 'tuple'>\n"
     ]
    }
   ],
   "source": [
    "#75\n",
    "t = 1, 2, 3, 4\n",
    "print(type(t))\n"
   ]
  },
  {
   "cell_type": "code",
   "execution_count": null,
   "id": "c24d2aa9-6233-48c5-bf3d-647867edff2f",
   "metadata": {},
   "outputs": [],
   "source": [
    "#76\n",
    "t = ('a', 'b', 'c')\n"
   ]
  },
  {
   "cell_type": "markdown",
   "id": "bbedbc56-1e5b-42d1-9600-2e857511c374",
   "metadata": {},
   "source": [
    "튜플 값은 변경이 안된당 하고싶으면 삭제하고 새로운 튜플을 만들어야한다. 근데 왜 이전꺼가 자동삭제 되는지는 모르겠넹"
   ]
  },
  {
   "cell_type": "code",
   "execution_count": 77,
   "id": "23b6dc38-8dbe-405d-89be-bb20af84a0d0",
   "metadata": {},
   "outputs": [
    {
     "name": "stdout",
     "output_type": "stream",
     "text": [
      "['삼성전자', 'LG전자', 'SK Hynix']\n"
     ]
    }
   ],
   "source": [
    "#77\n",
    "interest = ('삼성전자', 'LG전자', 'SK Hynix')\n",
    "interest변환=list(interest)\n",
    "print(interest변환)"
   ]
  },
  {
   "cell_type": "markdown",
   "id": "b836e59f-3c25-49ad-8111-bf4fee2d6da3",
   "metadata": {},
   "source": [
    "78번 모르겠다"
   ]
  },
  {
   "cell_type": "code",
   "execution_count": 81,
   "id": "44b577c1-0660-43fd-add2-69acb38ab605",
   "metadata": {},
   "outputs": [
    {
     "ename": "TypeError",
     "evalue": "'tuple' object is not callable",
     "output_type": "error",
     "traceback": [
      "\u001b[1;31m---------------------------------------------------------------------------\u001b[0m",
      "\u001b[1;31mTypeError\u001b[0m                                 Traceback (most recent call last)",
      "Cell \u001b[1;32mIn[81], line 3\u001b[0m\n\u001b[0;32m      1\u001b[0m \u001b[38;5;66;03m#78\u001b[39;00m\n\u001b[0;32m      2\u001b[0m interest \u001b[38;5;241m=\u001b[39m [\u001b[38;5;124m'\u001b[39m\u001b[38;5;124m삼성전자\u001b[39m\u001b[38;5;124m'\u001b[39m, \u001b[38;5;124m'\u001b[39m\u001b[38;5;124mLG전자\u001b[39m\u001b[38;5;124m'\u001b[39m, \u001b[38;5;124m'\u001b[39m\u001b[38;5;124mSK Hynix\u001b[39m\u001b[38;5;124m'\u001b[39m]\n\u001b[1;32m----> 3\u001b[0m data \u001b[38;5;241m=\u001b[39m \u001b[38;5;28mtuple\u001b[39m(interest)\n\u001b[0;32m      4\u001b[0m \u001b[38;5;28mprint\u001b[39m(\u001b[38;5;28mtype\u001b[39m(data))\n",
      "\u001b[1;31mTypeError\u001b[0m: 'tuple' object is not callable"
     ]
    }
   ],
   "source": [
    "#78\n",
    "interest = ['삼성전자', 'LG전자', 'SK Hynix']\n",
    "data = tuple(interest)\n",
    "print(type(data))"
   ]
  },
  {
   "cell_type": "code",
   "execution_count": 82,
   "id": "e5e94ad7-e9bb-4b73-8d2c-b4be47074ae1",
   "metadata": {},
   "outputs": [
    {
     "name": "stdout",
     "output_type": "stream",
     "text": [
      "apple banana cake\n"
     ]
    }
   ],
   "source": [
    "#79\n",
    "temp = ('apple', 'banana', 'cake')\n",
    "a, b, c = temp\n",
    "print(a, b, c)"
   ]
  },
  {
   "cell_type": "markdown",
   "id": "571e6265-15e7-4195-a8ea-d7e7479cd7e6",
   "metadata": {},
   "source": [
    "80-83번은 안배웠고? 지금 너무 졸려서 나중에 해보겠음"
   ]
  },
  {
   "cell_type": "code",
   "execution_count": null,
   "id": "9ccb5fb0-939e-49a3-8625-8ad92c646de2",
   "metadata": {},
   "outputs": [],
   "source": [
    "#80\n",
    "(2, 4, 6, 8 ... 98)\n"
   ]
  },
  {
   "cell_type": "code",
   "execution_count": null,
   "id": "80d4264b-ecdd-4694-a8f3-8ef7a7edca36",
   "metadata": {},
   "outputs": [],
   "source": [
    "#81"
   ]
  },
  {
   "cell_type": "code",
   "execution_count": null,
   "id": "b2b94761-4664-4f43-a2d1-5684fe222704",
   "metadata": {},
   "outputs": [],
   "source": [
    "#82"
   ]
  },
  {
   "cell_type": "code",
   "execution_count": null,
   "id": "680f2344-376c-4c74-a149-4a7f7db6e4a1",
   "metadata": {},
   "outputs": [],
   "source": [
    "#83"
   ]
  },
  {
   "cell_type": "code",
   "execution_count": 83,
   "id": "480c867f-f004-4778-937f-3b2391114f15",
   "metadata": {},
   "outputs": [
    {
     "name": "stdout",
     "output_type": "stream",
     "text": [
      "<class 'dict'>\n"
     ]
    }
   ],
   "source": [
    "#84\n",
    "temp = { }\n",
    "print(type(temp))"
   ]
  },
  {
   "cell_type": "code",
   "execution_count": 84,
   "id": "848ebe3c-4d3b-4446-93b7-ba227e9c315e",
   "metadata": {},
   "outputs": [
    {
     "name": "stdout",
     "output_type": "stream",
     "text": [
      "{'메로나': 1000, '폴라포': 1200, '빵빠레': 1800}\n"
     ]
    }
   ],
   "source": [
    "#85\n",
    "아이스크림= {'메로나':1000,'폴라포':1200,'빵빠레':1800}\n",
    "print(아이스크림)"
   ]
  },
  {
   "cell_type": "code",
   "execution_count": 86,
   "id": "1add9799-812b-4ff2-be24-d8eed8181841",
   "metadata": {},
   "outputs": [
    {
     "name": "stdout",
     "output_type": "stream",
     "text": [
      "{'메로나': 1000, '폴라포': 1200, '빵빠레': 1800, '죠스바': 1200, '월드콘': 1500}\n"
     ]
    }
   ],
   "source": [
    "#86\n",
    "아이스크림= {'메로나':1000,'폴라포':1200,'빵빠레':1800}\n",
    "아이스크림['죠스바']=1200\n",
    "아이스크림['월드콘']=1500\n",
    "print(아이스크림)"
   ]
  },
  {
   "cell_type": "code",
   "execution_count": 90,
   "id": "054a42d3-910e-4462-b131-999bc4d3c590",
   "metadata": {},
   "outputs": [
    {
     "name": "stdout",
     "output_type": "stream",
     "text": [
      "메로나가격: 1000\n"
     ]
    }
   ],
   "source": [
    "#87\n",
    "ice = {'메로나': 1000,\n",
    "       '폴로포': 1200,\n",
    "       '빵빠레': 1800,\n",
    "       '죠스바': 1200,\n",
    "       '월드콘': 1500}\n",
    "print('메로나가격:',ice['메로나'])"
   ]
  },
  {
   "cell_type": "code",
   "execution_count": 97,
   "id": "2c6bfbca-b1b6-473c-a260-86be029ca25c",
   "metadata": {},
   "outputs": [
    {
     "name": "stdout",
     "output_type": "stream",
     "text": [
      "{'메로나': 1300, '폴로포': 1200, '빵빠레': 1800, '죠스바': 1200, '월드콘': 1500}\n"
     ]
    }
   ],
   "source": [
    "#88\n",
    "ice = {'메로나': 1000,\n",
    "       '폴로포': 1200,\n",
    "       '빵빠레': 1800,\n",
    "       '죠스바': 1200,\n",
    "       '월드콘': 1500}\n",
    "ice['메로나']=1300\n",
    "print(ice)"
   ]
  },
  {
   "cell_type": "code",
   "execution_count": 98,
   "id": "639793cd-9a75-4a24-adf9-e9f576a174ab",
   "metadata": {},
   "outputs": [
    {
     "name": "stdout",
     "output_type": "stream",
     "text": [
      "{'폴로포': 1200, '빵빠레': 1800, '죠스바': 1200, '월드콘': 1500}\n"
     ]
    }
   ],
   "source": [
    "#89\n",
    "ice = {'메로나': 1000,\n",
    "       '폴로포': 1200,\n",
    "       '빵빠레': 1800,\n",
    "       '죠스바': 1200,\n",
    "       '월드콘': 1500}\n",
    "del ice[\"메로나\"]\n",
    "print(ice)"
   ]
  },
  {
   "cell_type": "code",
   "execution_count": null,
   "id": "4cb9276a-8282-4f60-835d-ce038cfe384c",
   "metadata": {},
   "outputs": [],
   "source": [
    "#90\n",
    ">> icecream = {'폴라포': 1200, '빵빠레': 1800, '월드콘': 1500, '메로나': 1000}\n",
    ">> icecream['누가바']\n",
    "Traceback (most recent call last):\n",
    "  File \"<pyshell#69>\", line 1, in <module>\n",
    "    icecream['누가바']\n",
    "KeyError: '누가바'\n"
   ]
  },
  {
   "cell_type": "markdown",
   "id": "e722fcc8-54f2-4c90-9e9e-ecfb9c052033",
   "metadata": {},
   "source": [
    "에러설명: 누가바는 없는 key 라서 에러났다"
   ]
  },
  {
   "cell_type": "code",
   "execution_count": 99,
   "id": "4ea94b04-f198-4d77-a4b9-c9745b3dd23a",
   "metadata": {},
   "outputs": [
    {
     "name": "stdout",
     "output_type": "stream",
     "text": [
      "{'메로나': [300, 20], '비비빅': [400, 3], '죠스바': [250, 100]}\n"
     ]
    }
   ],
   "source": [
    "#91\n",
    "inventory = {\"메로나\": [300, 20], \n",
    "             \"비비빅\": [400, 3], \n",
    "             \"죠스바\": [250, 100]}\n",
    "print(inventory)"
   ]
  },
  {
   "cell_type": "code",
   "execution_count": 101,
   "id": "47624cc3-b60d-4fe1-8db6-1927b3a849a8",
   "metadata": {},
   "outputs": [
    {
     "name": "stdout",
     "output_type": "stream",
     "text": [
      "300\n"
     ]
    }
   ],
   "source": [
    "#92\n",
    "inventory = {\"메로나\": [300, 20],\n",
    "              \"비비빅\": [400, 3],\n",
    "              \"죠스바\": [250, 100]}\n",
    "print(inventory[\"메로나\"][0])"
   ]
  },
  {
   "cell_type": "code",
   "execution_count": 103,
   "id": "cca9e96a-1c8e-40ce-9114-12c40c3694cb",
   "metadata": {},
   "outputs": [
    {
     "name": "stdout",
     "output_type": "stream",
     "text": [
      "20 개\n"
     ]
    }
   ],
   "source": [
    "#93\n",
    "inventory = {\"메로나\": [300, 20],\n",
    "              \"비비빅\": [400, 3],\n",
    "              \"죠스바\": [250, 100]}\n",
    "print(inventory[\"메로나\"][1], \"개\")"
   ]
  },
  {
   "cell_type": "code",
   "execution_count": 105,
   "id": "a3e0005c-84c9-4b9d-8aa2-48435fc75944",
   "metadata": {},
   "outputs": [
    {
     "name": "stdout",
     "output_type": "stream",
     "text": [
      "{'메로나': [300, 20], '비비빅': [400, 3], '죠스바': [250, 100], '월드콘': [500, 7]}\n"
     ]
    }
   ],
   "source": [
    "#94\n",
    "inventory = {\"메로나\": [300, 20],\n",
    "              \"비비빅\": [400, 3],\n",
    "              \"죠스바\": [250, 100]}\n",
    "inventory['월드콘']=[500, 7]\n",
    "print(inventory)"
   ]
  },
  {
   "cell_type": "code",
   "execution_count": 107,
   "id": "3bfeecab-f0db-48f8-aa94-d384763045bc",
   "metadata": {},
   "outputs": [
    {
     "name": "stdout",
     "output_type": "stream",
     "text": [
      "['탱크보이', '폴라포', '빵빠레', '월드콘', '메로나']\n"
     ]
    }
   ],
   "source": [
    "#95\n",
    "icecream = {'탱크보이': 1200, '폴라포': 1200, '빵빠레': 1800, '월드콘': 1500, '메로나': 1000}\n",
    "icecream.keys()\n",
    "ice=list(icecream)\n",
    "print(ice)"
   ]
  },
  {
   "cell_type": "code",
   "execution_count": 108,
   "id": "2310a80c-97a3-4003-8f3b-cc9f99264040",
   "metadata": {},
   "outputs": [
    {
     "name": "stdout",
     "output_type": "stream",
     "text": [
      "[1200, 1200, 1800, 1500, 1000]\n"
     ]
    }
   ],
   "source": [
    "#96\n",
    "icecream = {'탱크보이': 1200, '폴라포': 1200, '빵빠레': 1800, '월드콘': 1500, '메로나': 1000}\n",
    "ice=list(icecream.values())\n",
    "print(ice)"
   ]
  },
  {
   "cell_type": "code",
   "execution_count": 115,
   "id": "9a2f3b01-17f6-4243-b17f-3937030eff50",
   "metadata": {},
   "outputs": [
    {
     "name": "stdout",
     "output_type": "stream",
     "text": [
      "6700\n"
     ]
    }
   ],
   "source": [
    "#97\n",
    "icecream = {'탱크보이': 1200, '폴라포': 1200, '빵빠레': 1800, '월드콘': 1500, '메로나': 1000}\n",
    "print(sum(icecream.values()))"
   ]
  },
  {
   "cell_type": "code",
   "execution_count": 118,
   "id": "b0d41f54-fc9e-47e8-bb47-14f96e28d01d",
   "metadata": {},
   "outputs": [
    {
     "name": "stdout",
     "output_type": "stream",
     "text": [
      "{'탱크보이': 1200, '폴라포': 1200, '빵빠레': 1800, '월드콘': 1500, '메로나': 1000, '팥빙수': 2700, '아맛나': 1000}\n"
     ]
    }
   ],
   "source": [
    "#98\n",
    "icecream = {'탱크보이': 1200, '폴라포': 1200, '빵빠레': 1800, '월드콘': 1500, '메로나': 1000}\n",
    "new_product = {'팥빙수':2700, '아맛나':1000}\n",
    "icecream.update(new_product)\n",
    "print(icecream)"
   ]
  },
  {
   "cell_type": "markdown",
   "id": "59353e23-8678-4da7-86c9-a01bff5a7408",
   "metadata": {},
   "source": [
    "99-100번 zip을 배웠나.. 기억안남 안배운듯 나중에 찾아보겠다 너무 졸리다"
   ]
  },
  {
   "cell_type": "code",
   "execution_count": 119,
   "id": "580c8a0d-0032-45ae-bde7-b63799823a0a",
   "metadata": {},
   "outputs": [
    {
     "name": "stdout",
     "output_type": "stream",
     "text": [
      "{'apple': 300, 'pear': 250, 'peach': 400}\n"
     ]
    }
   ],
   "source": [
    "#99\n",
    "keys = (\"apple\", \"pear\", \"peach\")\n",
    "vals = (300, 250, 400)\n",
    "result = dict(zip(keys, vals))\n",
    "print(result)"
   ]
  },
  {
   "cell_type": "code",
   "execution_count": null,
   "id": "a8f11ed9-dec1-4b59-b130-b2189005b418",
   "metadata": {},
   "outputs": [],
   "source": [
    "#100"
   ]
  },
  {
   "cell_type": "markdown",
   "id": "38cfcf23-cb77-41de-b09c-baca358b2604",
   "metadata": {},
   "source": [
    "20240905과제 끝!"
   ]
  },
  {
   "cell_type": "markdown",
   "id": "c40531e7-57d7-4d3a-91fe-9d5ec2ea1066",
   "metadata": {},
   "source": [
    "# 101-160번 과제"
   ]
  },
  {
   "cell_type": "code",
   "execution_count": null,
   "id": "028acded-24d5-4918-a65f-09a7991fb155",
   "metadata": {},
   "outputs": [],
   "source": [
    "#101\n",
    "bool 입니다."
   ]
  },
  {
   "cell_type": "code",
   "execution_count": null,
   "id": "b062a16d-51e4-462e-9aa2-57988b76c533",
   "metadata": {},
   "outputs": [],
   "source": [
    "#102\n",
    "False"
   ]
  },
  {
   "cell_type": "code",
   "execution_count": null,
   "id": "df940b8a-ca56-47aa-a09a-d3343319134f",
   "metadata": {},
   "outputs": [],
   "source": [
    "#103\n",
    "True"
   ]
  },
  {
   "cell_type": "code",
   "execution_count": null,
   "id": "51bb0cfa-62b8-4935-bd2a-133e2ac02d10",
   "metadata": {},
   "outputs": [],
   "source": [
    "#104\n",
    "True"
   ]
  },
  {
   "cell_type": "code",
   "execution_count": null,
   "id": "57ef62af-cebb-4495-8ea2-48246afb0950",
   "metadata": {},
   "outputs": [],
   "source": [
    "#105\n",
    "True"
   ]
  },
  {
   "cell_type": "code",
   "execution_count": null,
   "id": "8de25347-93e0-46f6-bba5-c89fc517ffd8",
   "metadata": {},
   "outputs": [],
   "source": [
    "#106\n",
    "존재하지 않는 연산자라 에러가 납니다."
   ]
  },
  {
   "cell_type": "code",
   "execution_count": null,
   "id": "b8d2c293-63e5-46bb-bfa1-b2cc66a7ce64",
   "metadata": {},
   "outputs": [],
   "source": [
    "#107\n",
    "조건을 만족하지 않기 때문에 출력불가함"
   ]
  },
  {
   "cell_type": "code",
   "execution_count": null,
   "id": "fd224042-8464-4701-b395-045034a26ad0",
   "metadata": {},
   "outputs": [],
   "source": [
    "#108\n",
    "하이데얼"
   ]
  },
  {
   "cell_type": "code",
   "execution_count": null,
   "id": "bb49bd25-8cef-4ab7-abd3-3bdfece6995e",
   "metadata": {},
   "outputs": [],
   "source": [
    "#109\n",
    "1\n",
    "2\n",
    "4"
   ]
  },
  {
   "cell_type": "code",
   "execution_count": null,
   "id": "5341fdd7-af47-4110-83b0-98d3af5a53ff",
   "metadata": {},
   "outputs": [],
   "source": [
    "#110\n",
    "3, 5"
   ]
  },
  {
   "cell_type": "markdown",
   "id": "b6330233-2652-4851-902a-71fcf34aa7fb",
   "metadata": {},
   "source": [
    "111번 '안녕하삼'으로 작성했는데 왜 '안녕하세요'로 출력될까"
   ]
  },
  {
   "cell_type": "code",
   "execution_count": 6,
   "id": "8b9d20ac-a837-4004-97b9-42083c45e3d8",
   "metadata": {},
   "outputs": [
    {
     "name": "stdin",
     "output_type": "stream",
     "text": [
      "입력:  안녕하삼\n"
     ]
    },
    {
     "name": "stdout",
     "output_type": "stream",
     "text": [
      "안녕하세요안녕하세요\n"
     ]
    }
   ],
   "source": [
    "#111\n",
    "user: input(\"입력: \")\n",
    "print(user*2)\n"
   ]
  },
  {
   "cell_type": "code",
   "execution_count": 16,
   "id": "77eaa481-39e5-4555-b53b-647a19d0ca5a",
   "metadata": {},
   "outputs": [
    {
     "name": "stdin",
     "output_type": "stream",
     "text": [
      "숫자입력:  30\n"
     ]
    },
    {
     "name": "stdout",
     "output_type": "stream",
     "text": [
      "40\n"
     ]
    }
   ],
   "source": [
    "#112\n",
    "user= input(\"숫자입력: \")\n",
    "print(int(user)+10)\n"
   ]
  },
  {
   "cell_type": "code",
   "execution_count": 22,
   "id": "cfb8d37c-bba7-48a3-9b0b-9825b4d21d96",
   "metadata": {},
   "outputs": [
    {
     "name": "stdin",
     "output_type": "stream",
     "text": [
      "입력: 10\n"
     ]
    },
    {
     "name": "stdout",
     "output_type": "stream",
     "text": [
      "짝수\n"
     ]
    }
   ],
   "source": [
    "#113\n",
    "user=input(\"입력:\")\n",
    "\n",
    "if int(user)%2==0 :\n",
    "    print(\"짝수\")\n",
    "else:\n",
    "    print(\"홀수\")"
   ]
  },
  {
   "cell_type": "code",
   "execution_count": 31,
   "id": "f00c446b-ae9e-4667-adbf-55b1d21d14f0",
   "metadata": {},
   "outputs": [
    {
     "name": "stdin",
     "output_type": "stream",
     "text": [
      "숫자입력:  300\n"
     ]
    },
    {
     "name": "stdout",
     "output_type": "stream",
     "text": [
      "255\n"
     ]
    }
   ],
   "source": [
    "#114\n",
    "user= input(\"숫자입력: \")\n",
    "num=(int(user)+20)\n",
    "if num>255:\n",
    "    print(255)\n",
    "\n",
    "else:\n",
    "    print(num)"
   ]
  },
  {
   "cell_type": "code",
   "execution_count": 37,
   "id": "fd4e06c2-df8c-4233-9e63-c2d1992d7ea1",
   "metadata": {},
   "outputs": [
    {
     "name": "stdin",
     "output_type": "stream",
     "text": [
      "숫자입력:  200\n"
     ]
    },
    {
     "name": "stdout",
     "output_type": "stream",
     "text": [
      "180\n"
     ]
    }
   ],
   "source": [
    "#115\n",
    "user= input(\"숫자입력: \")\n",
    "num=(int(user)-20)\n",
    "if num <0:\n",
    "    print(0)\n",
    "elif num>255:\n",
    "    print(255)\n",
    "else:\n",
    "    print(num)"
   ]
  },
  {
   "cell_type": "code",
   "execution_count": 40,
   "id": "073aeadb-c5fe-4cf1-8522-3bf61fd3d075",
   "metadata": {},
   "outputs": [
    {
     "name": "stdin",
     "output_type": "stream",
     "text": [
      "시간: 1:00\n"
     ]
    },
    {
     "name": "stdout",
     "output_type": "stream",
     "text": [
      "정각\n"
     ]
    }
   ],
   "source": [
    "#116\n",
    "user=input(\"시간:\")\n",
    "\n",
    "if user[-2:]==\"00\" :\n",
    "    print(\"정각\")\n",
    "else:\n",
    "    print(\"정각 아닙니다\")"
   ]
  },
  {
   "cell_type": "code",
   "execution_count": 42,
   "id": "03204655-fbf0-41dd-ac99-580d0d744612",
   "metadata": {},
   "outputs": [
    {
     "name": "stdin",
     "output_type": "stream",
     "text": [
      "과일: 망고\n"
     ]
    },
    {
     "name": "stdout",
     "output_type": "stream",
     "text": [
      "오답\n"
     ]
    }
   ],
   "source": [
    "#117\n",
    "user=input(\"과일:\")\n",
    "fruit = [\"사과\", \"포도\", \"홍시\"]\n",
    "\n",
    "if user in fruit:\n",
    "    print(\"정답\")\n",
    "else:\n",
    "    print(\"오답\")"
   ]
  },
  {
   "cell_type": "code",
   "execution_count": 43,
   "id": "cee885c4-023a-4622-bb53-d048fa892342",
   "metadata": {},
   "outputs": [
    {
     "name": "stdin",
     "output_type": "stream",
     "text": [
      "종목: daum\n"
     ]
    },
    {
     "name": "stdout",
     "output_type": "stream",
     "text": [
      "안전\n"
     ]
    }
   ],
   "source": [
    "#118\n",
    "user=input(\"종목:\")\n",
    "list = [\"Microsoft\", \"Google\", \"Naver\", \"Kakao\", \"SAMSUNG\", \"LG\"]\n",
    "\n",
    "if user in list:\n",
    "    print(\"경고\")\n",
    "else:\n",
    "    print(\"안전\")"
   ]
  },
  {
   "cell_type": "code",
   "execution_count": 49,
   "id": "546b6eb7-2209-445d-8fa7-3fcc6d1c9d28",
   "metadata": {},
   "outputs": [
    {
     "name": "stdin",
     "output_type": "stream",
     "text": [
      "계절: 가을\n"
     ]
    },
    {
     "name": "stdout",
     "output_type": "stream",
     "text": [
      "정답\n"
     ]
    }
   ],
   "source": [
    "#119\n",
    "user=input(\"계절:\")\n",
    "fruit = {\"봄\" : \"딸기\", \"여름\" : \"토마토\", \"가을\" : \"사과\"}\n",
    "\n",
    "if user in fruit :\n",
    "    print(\"정답\")\n",
    "\n",
    "else:\n",
    "    print(\"오답\")"
   ]
  },
  {
   "cell_type": "code",
   "execution_count": 51,
   "id": "59bfee93-68d4-4a36-b928-94e9e283a5f8",
   "metadata": {},
   "outputs": [
    {
     "name": "stdin",
     "output_type": "stream",
     "text": [
      "과일: 딸기\n"
     ]
    },
    {
     "name": "stdout",
     "output_type": "stream",
     "text": [
      "정답\n"
     ]
    }
   ],
   "source": [
    "#120\n",
    "user=input(\"과일:\")\n",
    "fruit = {\"봄\" : \"딸기\", \"여름\" : \"토마토\", \"가을\" : \"사과\"}\n",
    "\n",
    "if user in fruit.values() :\n",
    "    print(\"정답\")\n",
    "\n",
    "else:\n",
    "    print(\"오답\")"
   ]
  },
  {
   "cell_type": "code",
   "execution_count": 1,
   "id": "3b095fc0-2402-4d24-b673-608668378031",
   "metadata": {},
   "outputs": [
    {
     "name": "stdin",
     "output_type": "stream",
     "text": [
      "뭘까요: a\n"
     ]
    },
    {
     "name": "stdout",
     "output_type": "stream",
     "text": [
      "A\n"
     ]
    }
   ],
   "source": [
    "#121\n",
    "user=input(\"뭘까요:\")\n",
    "\n",
    "if user.islower() :\n",
    "    print(user.upper())\n",
    "else:\n",
    "    print(user.lower())\n"
   ]
  },
  {
   "cell_type": "code",
   "execution_count": 4,
   "id": "f2543590-a7aa-436b-be1b-9cdcc364210b",
   "metadata": {},
   "outputs": [
    {
     "name": "stdin",
     "output_type": "stream",
     "text": [
      "점수: 100\n"
     ]
    },
    {
     "name": "stdout",
     "output_type": "stream",
     "text": [
      "a\n"
     ]
    }
   ],
   "source": [
    "#122\n",
    "user=input(\"점수:\")\n",
    "스코어=int(user)\n",
    "if 81<= 스코어 <=100 : \n",
    "    print(\"a\")\n",
    "elif 61<=스코어<= 80:\n",
    "    print(\"b\")\n",
    "elif 41<=스코어<= 60:\n",
    "    print(\"c\")\n",
    "elif 21<=스코어 <=40:\n",
    "    print(\"d\")\n",
    "else:\n",
    "    print(\"e\")"
   ]
  },
  {
   "cell_type": "markdown",
   "id": "9fa1d0e4-3a12-4b86-a7f2-df028ec2dc40",
   "metadata": {},
   "source": [
    "123번 모르겠어용"
   ]
  },
  {
   "cell_type": "code",
   "execution_count": 14,
   "id": "ae0c7e10-8ab5-4341-8826-3f1a613b90f4",
   "metadata": {},
   "outputs": [
    {
     "name": "stdin",
     "output_type": "stream",
     "text": [
      "입력:  100\n"
     ]
    },
    {
     "ename": "ValueError",
     "evalue": "empty separator",
     "output_type": "error",
     "traceback": [
      "\u001b[1;31m---------------------------------------------------------------------------\u001b[0m",
      "\u001b[1;31mValueError\u001b[0m                                Traceback (most recent call last)",
      "Cell \u001b[1;32mIn[14], line 7\u001b[0m\n\u001b[0;32m      2\u001b[0m 환율 \u001b[38;5;241m=\u001b[39m {\u001b[38;5;124m\"\u001b[39m\u001b[38;5;124m달러\u001b[39m\u001b[38;5;124m\"\u001b[39m: \u001b[38;5;241m1167\u001b[39m, \n\u001b[0;32m      3\u001b[0m         \u001b[38;5;124m\"\u001b[39m\u001b[38;5;124m엔\u001b[39m\u001b[38;5;124m\"\u001b[39m: \u001b[38;5;241m1.096\u001b[39m, \n\u001b[0;32m      4\u001b[0m         \u001b[38;5;124m\"\u001b[39m\u001b[38;5;124m유로\u001b[39m\u001b[38;5;124m\"\u001b[39m: \u001b[38;5;241m1268\u001b[39m, \n\u001b[0;32m      5\u001b[0m         \u001b[38;5;124m\"\u001b[39m\u001b[38;5;124m위안\u001b[39m\u001b[38;5;124m\"\u001b[39m: \u001b[38;5;241m171\u001b[39m}\n\u001b[0;32m      6\u001b[0m user \u001b[38;5;241m=\u001b[39m \u001b[38;5;28minput\u001b[39m(\u001b[38;5;124m\"\u001b[39m\u001b[38;5;124m입력: \u001b[39m\u001b[38;5;124m\"\u001b[39m)\n\u001b[1;32m----> 7\u001b[0m num, currency \u001b[38;5;241m=\u001b[39m user\u001b[38;5;241m.\u001b[39msplit(\u001b[38;5;124m\"\u001b[39m\u001b[38;5;124m\"\u001b[39m)\n\u001b[0;32m      8\u001b[0m \u001b[38;5;28mprint\u001b[39m(\u001b[38;5;28mfloat\u001b[39m(num) \u001b[38;5;241m*\u001b[39m 환율[currency], \u001b[38;5;124m\"\u001b[39m\u001b[38;5;124m원\u001b[39m\u001b[38;5;124m\"\u001b[39m)\n",
      "\u001b[1;31mValueError\u001b[0m: empty separator"
     ]
    }
   ],
   "source": [
    "#123\n",
    "환율 = {\"달러\": 1167, \n",
    "        \"엔\": 1.096, \n",
    "        \"유로\": 1268, \n",
    "        \"위안\": 171}\n",
    "user = input(\"입력: \")\n",
    "num, currency = user.split(\"\")\n",
    "print(float(num) * 환율[currency], \"원\")\n",
    "\n"
   ]
  },
  {
   "cell_type": "code",
   "execution_count": 15,
   "id": "2244363f-2a2c-414a-bac8-1fd899d0f9e0",
   "metadata": {},
   "outputs": [
    {
     "name": "stdin",
     "output_type": "stream",
     "text": [
      "점수: 2\n",
      "점수: 3\n",
      "점수: 5\n"
     ]
    },
    {
     "name": "stdout",
     "output_type": "stream",
     "text": [
      "5\n"
     ]
    }
   ],
   "source": [
    "#124\n",
    "user1=input(\"점수:\")\n",
    "user2=input(\"점수:\")\n",
    "user3=input(\"점수:\")\n",
    "user1=int(user1)\n",
    "user2=int(user2)\n",
    "user3=int(user3)\n",
    "\n",
    "if user1 >=user2 and user1>= user3:\n",
    "    print(user1)\n",
    "elif user2>= user1 and user2>= user3:\n",
    "    print(user2)\n",
    "else:\n",
    "    print(user3)"
   ]
  },
  {
   "cell_type": "code",
   "execution_count": 17,
   "id": "4009f97c-4654-4936-b1c5-c4f6ee0c3b92",
   "metadata": {},
   "outputs": [
    {
     "name": "stdin",
     "output_type": "stream",
     "text": [
      "휴대전화 번호 입력:  011\n"
     ]
    },
    {
     "name": "stdout",
     "output_type": "stream",
     "text": [
      "당신은 SKT 사용자입니다.\n"
     ]
    }
   ],
   "source": [
    "#125\n",
    "number = input(\"휴대전화 번호 입력: \")\n",
    "num = number.split(\"-\")[0]\n",
    "if num == \"011\":\n",
    "    com = \"SKT\"\n",
    "elif num == \"016\":\n",
    "    com = \"KT\"\n",
    "elif num == \"019\":\n",
    "    com = \"LGU\"\n",
    "else:\n",
    "    com = \"알수없음\"\n",
    "print(f\"당신은 {com} 사용자입니다.\")\n"
   ]
  },
  {
   "cell_type": "code",
   "execution_count": 19,
   "id": "41ab2833-b00a-48fe-b7e2-cda700360984",
   "metadata": {},
   "outputs": [
    {
     "name": "stdin",
     "output_type": "stream",
     "text": [
      "우편번호:  010\n"
     ]
    },
    {
     "name": "stdout",
     "output_type": "stream",
     "text": [
      "강북구\n"
     ]
    }
   ],
   "source": [
    "#126\n",
    "우편번호 = input(\"우편번호: \")\n",
    "우편번호 = 우편번호[:3]\n",
    "if 우편번호 in [\"010\", \"011\", \"012\"]:\n",
    "    print(\"강북구\")\n",
    "elif 우편번호 in [\"014\", \"015\", \"016\"]:\n",
    "    print(\"도봉구\")\n",
    "else:\n",
    "    print(\"노원구\")\n"
   ]
  },
  {
   "cell_type": "code",
   "execution_count": 21,
   "id": "230aff47-8efd-46d1-bb2a-345ff2947c55",
   "metadata": {},
   "outputs": [
    {
     "name": "stdin",
     "output_type": "stream",
     "text": [
      "주민등록번호:  821010-1234567\n"
     ]
    },
    {
     "name": "stdout",
     "output_type": "stream",
     "text": [
      "남자\n"
     ]
    }
   ],
   "source": [
    "#127\n",
    "주민번호 = input(\"주민등록번호: \")\n",
    "주민번호 = 주민번호.split(\"-\")[1]\n",
    "if 주민번호[0] == \"1\" or 주민번호[0] == \"3\":\n",
    "    print(\"남자\")\n",
    "else:\n",
    "    print(\"여자\")\n"
   ]
  },
  {
   "cell_type": "code",
   "execution_count": 22,
   "id": "42e5c02c-fd76-48a1-a778-15999f3183f2",
   "metadata": {},
   "outputs": [
    {
     "name": "stdin",
     "output_type": "stream",
     "text": [
      "주민등록번호:  821010-1234567\n"
     ]
    },
    {
     "name": "stdout",
     "output_type": "stream",
     "text": [
      "서울이 아닙니다.\n"
     ]
    }
   ],
   "source": [
    "#128\n",
    "주민번호 = input(\"주민등록번호: \")\n",
    "뒷자리 = 주민번호.split(\"-\")[1]\n",
    "if 0 <= int(뒷자리[1:3]) <= 8:\n",
    "    print(\"서울입니다.\")\n",
    "else:\n",
    "    print(\"서울이 아닙니다.\")\n"
   ]
  },
  {
   "cell_type": "code",
   "execution_count": 23,
   "id": "cadc8163-1331-4018-b2d9-6a8b7177f13c",
   "metadata": {},
   "outputs": [
    {
     "name": "stdin",
     "output_type": "stream",
     "text": [
      "주민등록번호:  821010-1234567\n"
     ]
    },
    {
     "name": "stdout",
     "output_type": "stream",
     "text": [
      "유효하지 않은 주민등록번호입니다.\n"
     ]
    }
   ],
   "source": [
    "#129\n",
    "num = input(\"주민등록번호: \")\n",
    "계산1 = int(num[0]) * 2 + int(num[1]) * 3 + int(num[2]) * 4 + int(num[3]) * 5 + int(num[4]) * 6 + \\\n",
    "        int(num[5]) * 7 + int(num[7]) * 8 + int(num[8]) * 9 + int(num[9]) * 2 + int(num[10])* 3 + \\\n",
    "        int(num[11])* 4 + int(num[12]) * 5\n",
    "계산2 = 11 - (계산1 % 11)\n",
    "\n",
    "if num[-1] == 계산2:\n",
    "    print(\"유효한 주민등록번호입니다.\")\n",
    "else:\n",
    "    print(\"유효하지 않은 주민등록번호입니다.\")\n"
   ]
  },
  {
   "cell_type": "markdown",
   "id": "3097ea06-7359-4485-9c63-0bfaa1b942ea",
   "metadata": {},
   "source": [
    "130번 모르겠어요"
   ]
  },
  {
   "cell_type": "code",
   "execution_count": 27,
   "id": "7425c12f-bde7-45ab-953c-03dba506ea93",
   "metadata": {},
   "outputs": [],
   "source": [
    "#130\n",
    "import requests\n",
    "btc = requests.get(\"https://api.bithumb.com/public/ticker/\").json()['data']\n",
    "\n"
   ]
  },
  {
   "cell_type": "code",
   "execution_count": 28,
   "id": "4731608f-2449-4149-aa5e-3a49f1255056",
   "metadata": {},
   "outputs": [
    {
     "name": "stdout",
     "output_type": "stream",
     "text": [
      "사과\n",
      "귤\n",
      "수박\n"
     ]
    }
   ],
   "source": [
    "#131\n",
    "과일 = [\"사과\", \"귤\", \"수박\"]\n",
    "for 변수 in 과일:\n",
    "    print(변수)\n"
   ]
  },
  {
   "cell_type": "markdown",
   "id": "d33dfc82-6276-41ce-b9ee-5f72a79581c8",
   "metadata": {},
   "source": [
    "132번 무슨말인지 모르겠다"
   ]
  },
  {
   "cell_type": "code",
   "execution_count": null,
   "id": "08651cd9-8847-4709-bec6-7721153155aa",
   "metadata": {},
   "outputs": [],
   "source": [
    "#132\n"
   ]
  },
  {
   "cell_type": "code",
   "execution_count": 29,
   "id": "e079062f-8db9-4c6b-a565-fbdf8174c83d",
   "metadata": {},
   "outputs": [
    {
     "name": "stdout",
     "output_type": "stream",
     "text": [
      "A\n",
      "B\n",
      "C\n"
     ]
    }
   ],
   "source": [
    "#133\n",
    "print(\"A\")\n",
    "print(\"B\")\n",
    "print(\"C\")\n"
   ]
  },
  {
   "cell_type": "code",
   "execution_count": 30,
   "id": "0b57d352-881a-413c-971e-07381dba4d4e",
   "metadata": {},
   "outputs": [
    {
     "name": "stdout",
     "output_type": "stream",
     "text": [
      "출력: A\n",
      "출력: B\n",
      "출력: C\n"
     ]
    }
   ],
   "source": [
    "#134\n",
    "print(\"출력:\", \"A\")\n",
    "print(\"출력:\", \"B\")\n",
    "print(\"출력:\", \"C\")\n"
   ]
  },
  {
   "cell_type": "code",
   "execution_count": 31,
   "id": "404f1d56-b920-41ac-b918-d8d2c01d7629",
   "metadata": {},
   "outputs": [
    {
     "name": "stdout",
     "output_type": "stream",
     "text": [
      "변환: a\n",
      "변환: b\n",
      "변환: c\n"
     ]
    }
   ],
   "source": [
    "#135\n",
    "변수 = \"A\"\n",
    "b = 변수.lower()\n",
    "print(\"변환:\", b)\n",
    "변수 = \"B\"\n",
    "b = 변수.lower()\n",
    "print(\"변환:\", b)\n",
    "변수 = \"C\"\n",
    "b = 변수.lower()\n",
    "print(\"변환:\", b)\n"
   ]
  },
  {
   "cell_type": "code",
   "execution_count": 32,
   "id": "c122fc65-830d-4909-a976-e10e06334d74",
   "metadata": {},
   "outputs": [
    {
     "name": "stdout",
     "output_type": "stream",
     "text": [
      "10\n",
      "20\n",
      "30\n"
     ]
    }
   ],
   "source": [
    "#136\n",
    "for 변수 in [10, 20, 30]:\n",
    "  print(변수)\n"
   ]
  },
  {
   "cell_type": "code",
   "execution_count": 33,
   "id": "b24cb113-af0c-4061-a317-3eed050cdd16",
   "metadata": {},
   "outputs": [
    {
     "name": "stdout",
     "output_type": "stream",
     "text": [
      "10\n",
      "20\n",
      "30\n"
     ]
    }
   ],
   "source": [
    "#137\n",
    "for 변수 in [10, 20, 30]:\n",
    "  print(변수)\n"
   ]
  },
  {
   "cell_type": "code",
   "execution_count": 34,
   "id": "a9455a60-5e7e-444b-8fbe-cd0fb4854721",
   "metadata": {},
   "outputs": [
    {
     "name": "stdout",
     "output_type": "stream",
     "text": [
      "10\n",
      "-------\n",
      "20\n",
      "-------\n",
      "30\n",
      "-------\n"
     ]
    }
   ],
   "source": [
    "#138\n",
    "for 변수 in [10, 20, 30]:\n",
    "  print(변수)\n",
    "  print(\"-------\")\n"
   ]
  },
  {
   "cell_type": "code",
   "execution_count": 35,
   "id": "dd39d1f2-b68a-449b-8fac-0e55243cc11c",
   "metadata": {},
   "outputs": [
    {
     "name": "stdout",
     "output_type": "stream",
     "text": [
      "++++\n",
      "10\n",
      "20\n",
      "30\n"
     ]
    }
   ],
   "source": [
    "#139\n",
    "print(\"++++\")\n",
    "for 변수 in [10, 20, 30]:\n",
    "  print(변수)\n"
   ]
  },
  {
   "cell_type": "code",
   "execution_count": 36,
   "id": "b8d5eb7c-a9c1-46d7-bc91-b28908e68979",
   "metadata": {},
   "outputs": [
    {
     "name": "stdout",
     "output_type": "stream",
     "text": [
      "-------\n",
      "-------\n",
      "-------\n",
      "-------\n"
     ]
    }
   ],
   "source": [
    "#140\n",
    "for 변수 in [1, 2, 3, 4]:\n",
    "  print(\"-------\")\n"
   ]
  },
  {
   "cell_type": "code",
   "execution_count": 38,
   "id": "c77a8788-2762-41e9-9016-f0b662626cf1",
   "metadata": {},
   "outputs": [
    {
     "name": "stdout",
     "output_type": "stream",
     "text": [
      "110\n",
      "210\n",
      "310\n"
     ]
    }
   ],
   "source": [
    "#141\n",
    "리스트 = [100, 200, 300]\n",
    "for 변수 in 리스트:\n",
    "  print(변수 + 10)\n"
   ]
  },
  {
   "cell_type": "code",
   "execution_count": 41,
   "id": "8fa2b65c-54da-4d90-a36f-da9d781aa3d7",
   "metadata": {},
   "outputs": [
    {
     "name": "stdout",
     "output_type": "stream",
     "text": [
      "오늘의 메뉴: 김밥\n",
      "오늘의 메뉴: 라면\n",
      "오늘의 메뉴: 튀김\n"
     ]
    }
   ],
   "source": [
    "#142\n",
    "리스트 = [\"김밥\", \"라면\", \"튀김\"]\n",
    "for 메뉴 in 리스트:\n",
    "    print(\"오늘의 메뉴:\", 메뉴)\n"
   ]
  },
  {
   "cell_type": "code",
   "execution_count": 43,
   "id": "428ded8d-5242-44ab-b5fd-c85b0ab519ef",
   "metadata": {},
   "outputs": [
    {
     "name": "stdout",
     "output_type": "stream",
     "text": [
      "6\n",
      "4\n",
      "4\n"
     ]
    }
   ],
   "source": [
    "#143\n",
    "리스트 = [\"SK하이닉스\", \"삼성전자\", \"LG전자\"]\n",
    "\n",
    "for 종목 in 리스트:\n",
    "    갯수=len(종목)\n",
    "    print(갯수)"
   ]
  },
  {
   "cell_type": "code",
   "execution_count": 45,
   "id": "157b0134-fe1d-4c8e-9f68-8783156d9a1b",
   "metadata": {},
   "outputs": [
    {
     "name": "stdout",
     "output_type": "stream",
     "text": [
      "dog 3\n",
      "cat 3\n",
      "parrot 6\n"
     ]
    }
   ],
   "source": [
    "#144\n",
    "리스트 = ['dog', 'cat', 'parrot']\n",
    "\n",
    "for 동물 in 리스트:\n",
    "    갯수=len(동물)\n",
    "    print(동물, 갯수)"
   ]
  },
  {
   "cell_type": "code",
   "execution_count": 47,
   "id": "812e174d-c60a-4945-9b02-d0a4da0062a7",
   "metadata": {},
   "outputs": [
    {
     "name": "stdout",
     "output_type": "stream",
     "text": [
      "d\n",
      "c\n",
      "p\n"
     ]
    }
   ],
   "source": [
    "#145\n",
    "리스트 = ['dog', 'cat', 'parrot']\n",
    "for 동물 in 리스트:\n",
    "    print(동물[0])"
   ]
  },
  {
   "cell_type": "code",
   "execution_count": 48,
   "id": "3e345c3d-056a-4807-8dee-e8c71fc01556",
   "metadata": {},
   "outputs": [
    {
     "name": "stdout",
     "output_type": "stream",
     "text": [
      "3 x 1\n",
      "3 x 2\n",
      "3 x 3\n"
     ]
    }
   ],
   "source": [
    "#146\n",
    "리스트 = [1, 2, 3]\n",
    "for 변수 in 리스트:\n",
    "  print(\"3 x \" + str(변수))\n"
   ]
  },
  {
   "cell_type": "code",
   "execution_count": 49,
   "id": "3013e3e3-31da-4b34-8780-bc6ef20ea19e",
   "metadata": {},
   "outputs": [
    {
     "name": "stdout",
     "output_type": "stream",
     "text": [
      "3 x  1 = 3\n",
      "3 x  2 = 6\n",
      "3 x  3 = 9\n"
     ]
    }
   ],
   "source": [
    "#147\n",
    "리스트 = [1, 2, 3]\n",
    "for 변수 in 리스트:\n",
    "  print(\"3 x \", 변수, \"=\", 3 * 변수)\n"
   ]
  },
  {
   "cell_type": "code",
   "execution_count": 53,
   "id": "16858938-98ab-442d-b779-0399a381d5cc",
   "metadata": {},
   "outputs": [
    {
     "name": "stdout",
     "output_type": "stream",
     "text": [
      "나\n",
      "다\n",
      "라\n"
     ]
    }
   ],
   "source": [
    "#148\n",
    "리스트 = [\"가\", \"나\", \"다\", \"라\"]\n",
    "for 변수 in 리스트[1:] :\n",
    "    print(변수)\n"
   ]
  },
  {
   "cell_type": "markdown",
   "id": "069b5265-9aa9-48db-927b-b57d426b869d",
   "metadata": {},
   "source": [
    "149번,150번 슬라이싱 잘 모르겠다"
   ]
  },
  {
   "cell_type": "code",
   "execution_count": null,
   "id": "d143ac10-09b0-4864-a860-acd47389de8d",
   "metadata": {},
   "outputs": [],
   "source": [
    "#149"
   ]
  },
  {
   "cell_type": "code",
   "execution_count": null,
   "id": "3b8fd2c0-87d7-42a6-aad2-09261f3dfce7",
   "metadata": {},
   "outputs": [],
   "source": [
    "#150"
   ]
  },
  {
   "cell_type": "code",
   "execution_count": 55,
   "id": "050a0937-de64-45db-8d8c-4484def968f3",
   "metadata": {},
   "outputs": [
    {
     "name": "stdout",
     "output_type": "stream",
     "text": [
      "-20\n",
      "-3\n"
     ]
    }
   ],
   "source": [
    "#151\n",
    "리스트 = [3, -20, -3, 44]\n",
    "for 변수 in 리스트:\n",
    "    if 변수 < 0:\n",
    "        print(변수)"
   ]
  },
  {
   "cell_type": "code",
   "execution_count": 56,
   "id": "6162b106-8c7c-4ad0-8f3c-af705d2e5c28",
   "metadata": {},
   "outputs": [
    {
     "name": "stdout",
     "output_type": "stream",
     "text": [
      "3\n"
     ]
    }
   ],
   "source": [
    "#152\n",
    "리스트 = [3, 100, 23, 44]\n",
    "for 변수 in 리스트:\n",
    "  if 변수 % 3 == 0:\n",
    "    print(변수)\n"
   ]
  },
  {
   "cell_type": "code",
   "execution_count": 57,
   "id": "a0d550e7-0db8-4da4-a8a9-461ace3cf194",
   "metadata": {},
   "outputs": [
    {
     "name": "stdout",
     "output_type": "stream",
     "text": [
      "12\n",
      "18\n"
     ]
    }
   ],
   "source": [
    "#153\n",
    "리스트 = [13, 21, 12, 14, 30, 18]\n",
    "for 변수 in 리스트:\n",
    "  if (변수 < 20) and (변수 % 3 == 0):\n",
    "    print(변수)\n"
   ]
  },
  {
   "cell_type": "code",
   "execution_count": 58,
   "id": "0c50f143-85b3-4258-846b-2e9699418aec",
   "metadata": {},
   "outputs": [
    {
     "name": "stdout",
     "output_type": "stream",
     "text": [
      "study\n",
      "python\n",
      "language\n"
     ]
    }
   ],
   "source": [
    "#154\n",
    "리스트 = [\"I\", \"study\", \"python\", \"language\", \"!\"]\n",
    "for 변수 in 리스트:\n",
    "  if len(변수) >= 3:\n",
    "    print(변수)\n"
   ]
  },
  {
   "cell_type": "code",
   "execution_count": 59,
   "id": "379ecfab-20e9-43ab-857c-4c94252c544a",
   "metadata": {},
   "outputs": [
    {
     "name": "stdout",
     "output_type": "stream",
     "text": [
      "A\n",
      "D\n"
     ]
    }
   ],
   "source": [
    "#155\n",
    "리스트 = [\"A\", \"b\", \"c\", \"D\"]\n",
    "for 변수 in 리스트:\n",
    "  if 변수.isupper():\n",
    "    print(변수)\n"
   ]
  },
  {
   "cell_type": "code",
   "execution_count": 60,
   "id": "c8078f0b-9dd5-48d3-b89c-e3d333023c98",
   "metadata": {},
   "outputs": [
    {
     "name": "stdout",
     "output_type": "stream",
     "text": [
      "b\n",
      "c\n"
     ]
    }
   ],
   "source": [
    "#156\n",
    "리스트 = [\"A\", \"b\", \"c\", \"D\"]\n",
    "for 변수 in 리스트:\n",
    "  if not 변수.isupper():\n",
    "    print(변수)\n"
   ]
  },
  {
   "cell_type": "code",
   "execution_count": 64,
   "id": "cb588d30-3d36-4d4d-b0ca-525c758f3b33",
   "metadata": {},
   "outputs": [
    {
     "name": "stdout",
     "output_type": "stream",
     "text": [
      "Dog\n",
      "Cat\n",
      "Parrot\n"
     ]
    }
   ],
   "source": [
    "#157\n",
    "리스트 = ['dog', 'cat', 'parrot']\n",
    "for 변수 in 리스트:\n",
    "    첫글자=변수[0]\n",
    "    대문자=첫글자.upper()\n",
    "    print(대문자+변수[1:])"
   ]
  },
  {
   "cell_type": "code",
   "execution_count": 65,
   "id": "50d73d36-9cf3-4a4d-bbc4-98b24a5d1231",
   "metadata": {},
   "outputs": [
    {
     "name": "stdout",
     "output_type": "stream",
     "text": [
      "hello\n",
      "ex01\n",
      "intro\n"
     ]
    }
   ],
   "source": [
    "#158\n",
    "리스트 = ['hello.py', 'ex01.py', 'intro.hwp']\n",
    "for 변수 in 리스트:\n",
    "  파일명 = 변수.split(\".\")\n",
    "  print(파일명[0])\n"
   ]
  },
  {
   "cell_type": "code",
   "execution_count": 66,
   "id": "ab7ca253-19fb-4d2a-b184-c0c741735ef2",
   "metadata": {},
   "outputs": [
    {
     "name": "stdout",
     "output_type": "stream",
     "text": [
      "intra.h\n",
      "define.h\n"
     ]
    }
   ],
   "source": [
    "#159\n",
    "리스트 = ['intra.h', 'intra.c', 'define.h', 'run.py']\n",
    "for 변수 in 리스트:\n",
    "  split = 변수.split(\".\")\n",
    "  if split[1] == \"h\":\n",
    "    print(변수)\n"
   ]
  },
  {
   "cell_type": "code",
   "execution_count": 67,
   "id": "7b08ca55-3711-468e-9486-864343bbe3d8",
   "metadata": {},
   "outputs": [
    {
     "name": "stdout",
     "output_type": "stream",
     "text": [
      "intra.h\n",
      "intra.c\n",
      "define.h\n"
     ]
    }
   ],
   "source": [
    "#160\n",
    "리스트 = ['intra.h', 'intra.c', 'define.h', 'run.py']\n",
    "for 변수 in 리스트:\n",
    "  split = 변수.split(\".\")\n",
    "  if (split[1] == \"h\") or (split[1] == \"c\"):\n",
    "    print(변수)\n"
   ]
  },
  {
   "cell_type": "markdown",
   "id": "5dd3b4f0-6ea2-4e08-b590-cc49906251cc",
   "metadata": {},
   "source": [
    "20240906 과제 끝"
   ]
  },
  {
   "cell_type": "markdown",
   "id": "a8cc0fab-f777-49de-9d2d-9281215bdf5b",
   "metadata": {},
   "source": [
    "# 161-200번 과제"
   ]
  },
  {
   "cell_type": "code",
   "execution_count": 1,
   "id": "dbf6b218-7daa-4608-88a8-90eed2fb23b3",
   "metadata": {},
   "outputs": [
    {
     "name": "stdout",
     "output_type": "stream",
     "text": [
      "0\n",
      "1\n",
      "2\n",
      "3\n",
      "4\n",
      "5\n",
      "6\n",
      "7\n",
      "8\n",
      "9\n",
      "10\n",
      "11\n",
      "12\n",
      "13\n",
      "14\n",
      "15\n",
      "16\n",
      "17\n",
      "18\n",
      "19\n",
      "20\n",
      "21\n",
      "22\n",
      "23\n",
      "24\n",
      "25\n",
      "26\n",
      "27\n",
      "28\n",
      "29\n",
      "30\n",
      "31\n",
      "32\n",
      "33\n",
      "34\n",
      "35\n",
      "36\n",
      "37\n",
      "38\n",
      "39\n",
      "40\n",
      "41\n",
      "42\n",
      "43\n",
      "44\n",
      "45\n",
      "46\n",
      "47\n",
      "48\n",
      "49\n",
      "50\n",
      "51\n",
      "52\n",
      "53\n",
      "54\n",
      "55\n",
      "56\n",
      "57\n",
      "58\n",
      "59\n",
      "60\n",
      "61\n",
      "62\n",
      "63\n",
      "64\n",
      "65\n",
      "66\n",
      "67\n",
      "68\n",
      "69\n",
      "70\n",
      "71\n",
      "72\n",
      "73\n",
      "74\n",
      "75\n",
      "76\n",
      "77\n",
      "78\n",
      "79\n",
      "80\n",
      "81\n",
      "82\n",
      "83\n",
      "84\n",
      "85\n",
      "86\n",
      "87\n",
      "88\n",
      "89\n",
      "90\n",
      "91\n",
      "92\n",
      "93\n",
      "94\n",
      "95\n",
      "96\n",
      "97\n",
      "98\n",
      "99\n"
     ]
    }
   ],
   "source": [
    "#161\n",
    "for i in range(100):\n",
    "    print(i)\n"
   ]
  },
  {
   "cell_type": "code",
   "execution_count": 2,
   "id": "ff68885f-210a-4430-aa34-313d96c36c61",
   "metadata": {},
   "outputs": [
    {
     "name": "stdout",
     "output_type": "stream",
     "text": [
      "2002\n",
      "2006\n",
      "2010\n",
      "2014\n",
      "2018\n",
      "2022\n",
      "2026\n",
      "2030\n",
      "2034\n",
      "2038\n",
      "2042\n",
      "2046\n",
      "2050\n"
     ]
    }
   ],
   "source": [
    "#162\n",
    "for a in range(2002,2051,4):\n",
    "    print(a)"
   ]
  },
  {
   "cell_type": "code",
   "execution_count": 3,
   "id": "eca1bcc1-efb8-4228-ba28-22de93b1dd94",
   "metadata": {},
   "outputs": [
    {
     "name": "stdout",
     "output_type": "stream",
     "text": [
      "3\n",
      "6\n",
      "9\n",
      "12\n",
      "15\n",
      "18\n",
      "21\n",
      "24\n",
      "27\n",
      "30\n"
     ]
    }
   ],
   "source": [
    "#163\n",
    "for num in range(3,31,3):\n",
    "    print(num)"
   ]
  },
  {
   "cell_type": "code",
   "execution_count": 4,
   "id": "7488e337-4988-4575-b8d6-7223a1d30418",
   "metadata": {},
   "outputs": [
    {
     "name": "stdout",
     "output_type": "stream",
     "text": [
      "99\n",
      "98\n",
      "97\n",
      "96\n",
      "95\n",
      "94\n",
      "93\n",
      "92\n",
      "91\n",
      "90\n",
      "89\n",
      "88\n",
      "87\n",
      "86\n",
      "85\n",
      "84\n",
      "83\n",
      "82\n",
      "81\n",
      "80\n",
      "79\n",
      "78\n",
      "77\n",
      "76\n",
      "75\n",
      "74\n",
      "73\n",
      "72\n",
      "71\n",
      "70\n",
      "69\n",
      "68\n",
      "67\n",
      "66\n",
      "65\n",
      "64\n",
      "63\n",
      "62\n",
      "61\n",
      "60\n",
      "59\n",
      "58\n",
      "57\n",
      "56\n",
      "55\n",
      "54\n",
      "53\n",
      "52\n",
      "51\n",
      "50\n",
      "49\n",
      "48\n",
      "47\n",
      "46\n",
      "45\n",
      "44\n",
      "43\n",
      "42\n",
      "41\n",
      "40\n",
      "39\n",
      "38\n",
      "37\n",
      "36\n",
      "35\n",
      "34\n",
      "33\n",
      "32\n",
      "31\n",
      "30\n",
      "29\n",
      "28\n",
      "27\n",
      "26\n",
      "25\n",
      "24\n",
      "23\n",
      "22\n",
      "21\n",
      "20\n",
      "19\n",
      "18\n",
      "17\n",
      "16\n",
      "15\n",
      "14\n",
      "13\n",
      "12\n",
      "11\n",
      "10\n",
      "9\n",
      "8\n",
      "7\n",
      "6\n",
      "5\n",
      "4\n",
      "3\n",
      "2\n",
      "1\n",
      "0\n"
     ]
    }
   ],
   "source": [
    "#164\n",
    "for i in range(100):\n",
    "    print(99 - i)\n"
   ]
  },
  {
   "cell_type": "code",
   "execution_count": 5,
   "id": "bbbd24e0-f73d-4367-9415-9f9fd5c92775",
   "metadata": {},
   "outputs": [
    {
     "name": "stdout",
     "output_type": "stream",
     "text": [
      "0.0\n",
      "0.1\n",
      "0.2\n",
      "0.3\n",
      "0.4\n",
      "0.5\n",
      "0.6\n",
      "0.7\n",
      "0.8\n",
      "0.9\n"
     ]
    }
   ],
   "source": [
    "#165\n",
    "for num in range(10) :\n",
    "    print(num / 10)\n"
   ]
  },
  {
   "cell_type": "code",
   "execution_count": 6,
   "id": "c96822c3-9e63-4696-b0da-e7111dda2c89",
   "metadata": {},
   "outputs": [
    {
     "name": "stdout",
     "output_type": "stream",
     "text": [
      "3 x 1  =  3\n",
      "3 x 2  =  6\n",
      "3 x 3  =  9\n",
      "3 x 4  =  12\n",
      "3 x 5  =  15\n",
      "3 x 6  =  18\n",
      "3 x 7  =  21\n",
      "3 x 8  =  24\n",
      "3 x 9  =  27\n"
     ]
    }
   ],
   "source": [
    "#166\n",
    "for i in range(1, 10) :\n",
    "    print (3, \"x\", i, \" = \", 3 * i)\n"
   ]
  },
  {
   "cell_type": "code",
   "execution_count": 7,
   "id": "ca50da8b-1ad8-4d4a-9c9f-cb0fb92bcaf6",
   "metadata": {},
   "outputs": [
    {
     "name": "stdout",
     "output_type": "stream",
     "text": [
      "3 x 1  =  3\n",
      "3 x 3  =  9\n",
      "3 x 5  =  15\n",
      "3 x 7  =  21\n",
      "3 x 9  =  27\n"
     ]
    }
   ],
   "source": [
    "#167\n",
    "num = 3\n",
    "for i in range(1, 10) :\n",
    "    if i % 2 == 1 :\n",
    "        print (num, \"x\", i, \" = \", num * i)\n"
   ]
  },
  {
   "cell_type": "markdown",
   "id": "7a49180c-cef0-4dcd-9dc7-0c12c64f3009",
   "metadata": {},
   "source": [
    "168번 hab은 어떤 이유로 덧셈 누적이 가능한것일까"
   ]
  },
  {
   "cell_type": "code",
   "execution_count": 8,
   "id": "8ebdf2d8-d8d5-4cb9-87cf-e0b8b33222c5",
   "metadata": {},
   "outputs": [
    {
     "name": "stdout",
     "output_type": "stream",
     "text": [
      "합 : 55\n"
     ]
    }
   ],
   "source": [
    "#168\n",
    "hab = 0\n",
    "for i in range(1, 11):\n",
    "    hab += i\n",
    "print (\"합 :\", hab)\n"
   ]
  },
  {
   "cell_type": "code",
   "execution_count": 9,
   "id": "1ecda73b-551d-4a28-abe2-46bf53d58a58",
   "metadata": {},
   "outputs": [
    {
     "name": "stdout",
     "output_type": "stream",
     "text": [
      "합 : 25\n"
     ]
    }
   ],
   "source": [
    "#169\n",
    "hab = 0\n",
    "for i in range(1, 11, 2):\n",
    "    hab += i\n",
    "print (\"합 :\", hab)\n"
   ]
  },
  {
   "cell_type": "code",
   "execution_count": 10,
   "id": "68b54970-7b6f-44d0-a02b-6a81c71988e4",
   "metadata": {},
   "outputs": [
    {
     "name": "stdout",
     "output_type": "stream",
     "text": [
      "3628800\n"
     ]
    }
   ],
   "source": [
    "#170\n",
    "result = 1\n",
    "for i in range(1, 11) :\n",
    "    result *= i\n",
    "print(result)\n"
   ]
  },
  {
   "cell_type": "code",
   "execution_count": 11,
   "id": "34928d2d-911d-45b5-b20a-135ce05e25be",
   "metadata": {},
   "outputs": [
    {
     "name": "stdout",
     "output_type": "stream",
     "text": [
      "32100\n",
      "32150\n",
      "32000\n",
      "32500\n"
     ]
    }
   ],
   "source": [
    "#171\n",
    "price_list = [32100, 32150, 32000, 32500]\n",
    "for i in range(len(price_list)):\n",
    "    print(price_list[i])\n"
   ]
  },
  {
   "cell_type": "markdown",
   "id": "e34a3e0c-df6d-47f4-8bb6-2d427d28aef5",
   "metadata": {},
   "source": [
    "172번,173번 모르겠다"
   ]
  },
  {
   "cell_type": "code",
   "execution_count": 4,
   "id": "e39a8c48-4035-44d6-a96a-cb9c49f311a8",
   "metadata": {},
   "outputs": [
    {
     "name": "stdout",
     "output_type": "stream",
     "text": [
      "0 32100\n",
      "1 32150\n",
      "2 32000\n",
      "3 32500\n"
     ]
    }
   ],
   "source": [
    "#172\n",
    "price_list = [32100, 32150, 32000, 32500]\n",
    "for i in range(0, 4) :\n",
    "    print(i, price_list[i])\n"
   ]
  },
  {
   "cell_type": "code",
   "execution_count": 6,
   "id": "9f46701f-5196-49f4-bcce-6c7b8744cc9c",
   "metadata": {},
   "outputs": [
    {
     "name": "stdout",
     "output_type": "stream",
     "text": [
      "3 32100\n",
      "2 32150\n",
      "1 32000\n",
      "0 32500\n"
     ]
    }
   ],
   "source": [
    "#173\n",
    "price_list = [32100, 32150, 32000, 32500]\n",
    "for i in range(0, 4) :\n",
    "    print(3-i, price_list[i])"
   ]
  },
  {
   "cell_type": "code",
   "execution_count": 13,
   "id": "5b069ca5-0ab1-4085-8eb3-988088bbaada",
   "metadata": {},
   "outputs": [
    {
     "name": "stdout",
     "output_type": "stream",
     "text": [
      "100 32150\n",
      "110 32000\n",
      "120 32500\n"
     ]
    }
   ],
   "source": [
    "#174\n",
    "price_list = [32100, 32150, 32000, 32500]\n",
    "\n",
    "for i in range(1, 4):\n",
    "    print(90 + 10 * i, price_list[i])\n"
   ]
  },
  {
   "cell_type": "code",
   "execution_count": 14,
   "id": "ff0ebbe4-8c8a-4898-a5d5-83e0f20fe622",
   "metadata": {},
   "outputs": [
    {
     "name": "stdout",
     "output_type": "stream",
     "text": [
      "가 나\n",
      "나 다\n",
      "다 라\n"
     ]
    }
   ],
   "source": [
    "#175\n",
    "my_list = [\"가\", \"나\", \"다\", \"라\"]\n",
    "for i in [0, 1, 2]:\n",
    "    print(my_list[i], my_list[i+1])\n"
   ]
  },
  {
   "cell_type": "code",
   "execution_count": 15,
   "id": "bda8a364-7baa-4048-a5e8-efea0e23c72f",
   "metadata": {},
   "outputs": [
    {
     "name": "stdout",
     "output_type": "stream",
     "text": [
      "가 나 다\n",
      "나 다 라\n",
      "다 라 마\n"
     ]
    }
   ],
   "source": [
    "#176\n",
    "my_list = [\"가\", \"나\", \"다\", \"라\", \"마\"]\n",
    "for i in range( len(my_list) - 2 ):\n",
    "    print(my_list[i], my_list[i+1], my_list[i+2])\n"
   ]
  },
  {
   "cell_type": "markdown",
   "id": "e62223d3-bd4a-4c84-969d-c21eb83ed10c",
   "metadata": {},
   "source": [
    "177-179번 어렵다악"
   ]
  },
  {
   "cell_type": "code",
   "execution_count": 7,
   "id": "dd3c7c46-88d5-4817-a8e0-cc49119b5ed6",
   "metadata": {},
   "outputs": [
    {
     "name": "stdout",
     "output_type": "stream",
     "text": [
      "라 다\n",
      "다 나\n",
      "나 가\n"
     ]
    }
   ],
   "source": [
    "#177\n",
    "my_list = [\"가\", \"나\", \"다\", \"라\"]\n",
    "for i in range(len(my_list) - 1):\n",
    "    print(my_list[len(my_list) - 1 - i], my_list[len(my_list) - 2 - i])\n"
   ]
  },
  {
   "cell_type": "code",
   "execution_count": 12,
   "id": "4983d841-6416-4630-a5fb-e2a78f10cf44",
   "metadata": {},
   "outputs": [
    {
     "name": "stdout",
     "output_type": "stream",
     "text": [
      "100\n",
      "200\n",
      "400\n"
     ]
    }
   ],
   "source": [
    "#178\n",
    "my_list = [100, 200, 400, 800]\n",
    "for i in range(len(my_list) - 1):\n",
    "    print(my_list[i+1] - my_list[i])\n"
   ]
  },
  {
   "cell_type": "code",
   "execution_count": 15,
   "id": "9f875492-0733-41d3-b3a1-e9d0369bce57",
   "metadata": {},
   "outputs": [
    {
     "name": "stdout",
     "output_type": "stream",
     "text": [
      "233.33333333333334\n",
      "466.6666666666667\n",
      "733.3333333333334\n",
      "1033.3333333333333\n"
     ]
    }
   ],
   "source": [
    "#179\n",
    "my_list = [100, 200, 400, 800, 1000, 1300]\n",
    "for i in [1, 2, 3, 4]:\n",
    "    print((my_list[i-1] + my_list[i] + my_list[i+1]) / 3)\n"
   ]
  },
  {
   "cell_type": "code",
   "execution_count": 19,
   "id": "84caaebb-5a0d-4a39-a0a1-b339e55da5c5",
   "metadata": {},
   "outputs": [
    {
     "name": "stdout",
     "output_type": "stream",
     "text": [
      "[50]\n",
      "[50, 100]\n",
      "[50, 100, 30]\n",
      "[50, 100, 30, 80]\n",
      "[50, 100, 30, 80, 0]\n"
     ]
    }
   ],
   "source": [
    "#180\n",
    "low_prices  = [100, 200, 400, 800, 1000]\n",
    "high_prices = [150, 300, 430, 880, 1000]\n",
    "\n",
    "valatility=[]\n",
    "\n",
    "for i in range(len(low_prices)):\n",
    "    valatility.append(high_prices[i]-low_prices[i])\n",
    "    print(valatility)"
   ]
  },
  {
   "cell_type": "code",
   "execution_count": 17,
   "id": "63db964e-6b7f-4b2a-a57e-08a6088dee64",
   "metadata": {},
   "outputs": [
    {
     "name": "stdout",
     "output_type": "stream",
     "text": [
      "[['101호', '102호'], ['201호', '202호'], ['301호', '302호']]\n"
     ]
    }
   ],
   "source": [
    "#181\n",
    "apart = [ [\"101호\", \"102호\"], [\"201호\", \"202호\"], [\"301호\", \"302호\"] ]\n",
    "print(apart)"
   ]
  },
  {
   "cell_type": "code",
   "execution_count": 18,
   "id": "7d7bcf7a-250a-4052-854a-addd7fe21239",
   "metadata": {},
   "outputs": [
    {
     "name": "stdout",
     "output_type": "stream",
     "text": [
      "[['시가', 100, 200, 300], ['종가', 80, 210, 330]]\n"
     ]
    }
   ],
   "source": [
    "#182\n",
    "stock = [ [\"시가\", 100, 200, 300], [\"종가\", 80, 210, 330] ]\n",
    "print(stock)\n"
   ]
  },
  {
   "cell_type": "code",
   "execution_count": 23,
   "id": "694494ac-f064-4e84-a983-9acbe2510e75",
   "metadata": {},
   "outputs": [
    {
     "name": "stdout",
     "output_type": "stream",
     "text": [
      "{'시가': [100, 200, 300], '종가': [80, 210, 330]}\n"
     ]
    }
   ],
   "source": [
    "#183\n",
    "stock={\"시가\":[100,200,300],\"종가\":[80,210,330]}\n",
    "print(stock)"
   ]
  },
  {
   "cell_type": "code",
   "execution_count": 25,
   "id": "7cdaa94d-efbc-4742-8c16-13d53325cf13",
   "metadata": {},
   "outputs": [
    {
     "name": "stdout",
     "output_type": "stream",
     "text": [
      "{'10/10': [80, 110, 70, 90], '10/11': [210, 230, 190, 200]}\n"
     ]
    }
   ],
   "source": [
    "#184\n",
    "stock={\"10/10\":[80,110,70,90], \"10/11\":[210,230,190,200]}\n",
    "print(stock)"
   ]
  },
  {
   "cell_type": "code",
   "execution_count": 26,
   "id": "6ffd24cc-0967-4f87-86fd-bc5c697db950",
   "metadata": {},
   "outputs": [
    {
     "name": "stdout",
     "output_type": "stream",
     "text": [
      "101 호\n",
      "102 호\n",
      "201 호\n",
      "202 호\n",
      "301 호\n",
      "302 호\n"
     ]
    }
   ],
   "source": [
    "#185\n",
    "apart = [ [101, 102], [201, 202], [301, 302] ]\n",
    "for 층 in apart:\n",
    "    for 집 in 층:\n",
    "        print(집,\"호\")"
   ]
  },
  {
   "cell_type": "code",
   "execution_count": 27,
   "id": "fd4b7907-b16d-4509-8914-ab2d4d40fd32",
   "metadata": {},
   "outputs": [
    {
     "name": "stdout",
     "output_type": "stream",
     "text": [
      "301 호\n",
      "302 호\n",
      "201 호\n",
      "202 호\n",
      "101 호\n",
      "102 호\n"
     ]
    }
   ],
   "source": [
    "#186\n",
    "apart = [ [101, 102], [201, 202], [301, 302] ]\n",
    "for 층 in apart[::-1]:\n",
    "    for 집 in 층:\n",
    "        print(집,\"호\")"
   ]
  },
  {
   "cell_type": "code",
   "execution_count": 28,
   "id": "70bd7a8b-9f65-4098-bbee-ed1cc1a9c275",
   "metadata": {},
   "outputs": [
    {
     "name": "stdout",
     "output_type": "stream",
     "text": [
      "302 호\n",
      "301 호\n",
      "202 호\n",
      "201 호\n",
      "102 호\n",
      "101 호\n"
     ]
    }
   ],
   "source": [
    "#187\n",
    "apart = [ [101, 102], [201, 202], [301, 302] ]\n",
    "for 층 in apart[::-1]:\n",
    "    for 집 in 층[::-1]:\n",
    "        print(집,\"호\")"
   ]
  },
  {
   "cell_type": "code",
   "execution_count": 31,
   "id": "b5b051f5-d950-4b96-8389-881e8909ee66",
   "metadata": {},
   "outputs": [
    {
     "name": "stdout",
     "output_type": "stream",
     "text": [
      "101 호\n",
      "-----\n",
      "102 호\n",
      "-----\n",
      "201 호\n",
      "-----\n",
      "202 호\n",
      "-----\n",
      "301 호\n",
      "-----\n",
      "302 호\n",
      "-----\n"
     ]
    }
   ],
   "source": [
    "#188\n",
    "apart = [ [101, 102], [201, 202], [301, 302] ]\n",
    "for 층 in apart:\n",
    "    for 집 in 층:\n",
    "        print(집, \"호\")\n",
    "        print(\"-\" * 5)\n"
   ]
  },
  {
   "cell_type": "code",
   "execution_count": 33,
   "id": "a2a53fb4-eeeb-4dda-8c13-8e4674fd778e",
   "metadata": {},
   "outputs": [
    {
     "name": "stdout",
     "output_type": "stream",
     "text": [
      "101 호\n",
      "102 호\n",
      "-----\n",
      "201 호\n",
      "202 호\n",
      "-----\n",
      "301 호\n",
      "302 호\n",
      "-----\n"
     ]
    }
   ],
   "source": [
    "#189\n",
    "apart = [ [101, 102], [201, 202], [301, 302] ]\n",
    "for 층 in apart:\n",
    "    for 집 in 층:\n",
    "        print(집, \"호\")\n",
    "    print(\"-\"*5)"
   ]
  },
  {
   "cell_type": "code",
   "execution_count": 34,
   "id": "cacf858f-2f6c-4142-b80c-cb1e755b1a8f",
   "metadata": {},
   "outputs": [
    {
     "name": "stdout",
     "output_type": "stream",
     "text": [
      "101 호\n",
      "102 호\n",
      "201 호\n",
      "202 호\n",
      "301 호\n",
      "302 호\n",
      "-----\n"
     ]
    }
   ],
   "source": [
    "#190\n",
    "apart = [ [101, 102], [201, 202], [301, 302] ]\n",
    "for 층 in apart:\n",
    "    for 집 in 층:\n",
    "        print(집, \"호\")\n",
    "print(\"-\"*5)"
   ]
  },
  {
   "cell_type": "code",
   "execution_count": 36,
   "id": "ffa70e90-9e29-4063-b441-85e001c6b84d",
   "metadata": {},
   "outputs": [
    {
     "name": "stdout",
     "output_type": "stream",
     "text": [
      "2000.28\n",
      "3050.427\n",
      "2050.287\n",
      "1980.2772\n",
      "7501.05\n",
      "2050.287\n",
      "2050.287\n",
      "1980.2772\n",
      "15452.163\n",
      "15052.107\n",
      "15552.177\n",
      "14902.086\n"
     ]
    }
   ],
   "source": [
    "#191\n",
    "data = [\n",
    "    [ 2000,  3050,  2050,  1980],\n",
    "    [ 7500,  2050,  2050,  1980],\n",
    "    [15450, 15050, 15550, 14900]\n",
    "]\n",
    "\n",
    "for day in data:\n",
    "    for price in day:\n",
    "        print(price+(price*0.014*0.01))"
   ]
  },
  {
   "cell_type": "code",
   "execution_count": 39,
   "id": "89182377-b976-4051-aa04-d1e77b806810",
   "metadata": {},
   "outputs": [
    {
     "name": "stdout",
     "output_type": "stream",
     "text": [
      "2000.28\n",
      "3050.427\n",
      "2050.287\n",
      "1980.2772\n",
      "----\n",
      "7501.05\n",
      "2050.287\n",
      "2050.287\n",
      "1980.2772\n",
      "----\n",
      "15452.163\n",
      "15052.107\n",
      "15552.177\n",
      "14902.086\n",
      "----\n"
     ]
    }
   ],
   "source": [
    "#192\n",
    "data = [\n",
    "    [ 2000,  3050,  2050,  1980],\n",
    "    [ 7500,  2050,  2050,  1980],\n",
    "    [15450, 15050, 15550, 14900]\n",
    "]\n",
    "\n",
    "for day in data:\n",
    "    for price in day:\n",
    "        print(price+(price*0.014*0.01))\n",
    "    print(\"----\")"
   ]
  },
  {
   "cell_type": "code",
   "execution_count": 40,
   "id": "ae6441ea-6cca-42cc-80db-98c89e10c867",
   "metadata": {},
   "outputs": [
    {
     "name": "stdout",
     "output_type": "stream",
     "text": [
      "[2000.28, 3050.427, 2050.287, 1980.2772, 7501.05, 2050.287, 2050.287, 1980.2772, 15452.163, 15052.107, 15552.177, 14902.086]\n"
     ]
    }
   ],
   "source": [
    "#193\n",
    "data = [\n",
    "    [ 2000,  3050,  2050,  1980],\n",
    "    [ 7500,  2050,  2050,  1980],\n",
    "    [15450, 15050, 15550, 14900]\n",
    "]\n",
    "\n",
    "result=[]\n",
    "for day in data:\n",
    "    for price in day:\n",
    "        result.append(price+(price*0.014*0.01))\n",
    "\n",
    "print(result)"
   ]
  },
  {
   "cell_type": "markdown",
   "id": "5c516997-6235-411a-9562-377a3a55b93f",
   "metadata": {},
   "source": [
    "194번 모르겠습니당"
   ]
  },
  {
   "cell_type": "code",
   "execution_count": 42,
   "id": "d416d875-778e-475a-ac2b-2295aa375c56",
   "metadata": {},
   "outputs": [
    {
     "name": "stdout",
     "output_type": "stream",
     "text": [
      "[[2000.28, 3050.427, 2050.287, 1980.2772], [7501.05, 2050.287, 2050.287, 1980.2772], [15452.163, 15052.107, 15552.177, 14902.086]]\n"
     ]
    }
   ],
   "source": [
    "#194\n",
    "data = [ [ 2000,  3050,  2050,  1980],[ 7500,  2050,  2050,  1980],[15450, 15050, 15550, 14900] ]\n",
    "\n",
    "result=[]\n",
    "for day in data:\n",
    "    day_price=[]\n",
    "    for price in day:\n",
    "        new_price=price+(price*0.014*0.01)\n",
    "        day_price.append(new_price)\n",
    "    result.append(day_price)\n",
    "\n",
    "print(result)"
   ]
  },
  {
   "cell_type": "code",
   "execution_count": 43,
   "id": "6ebd9504-a801-40ef-90cd-66f4ae36f188",
   "metadata": {},
   "outputs": [
    {
     "name": "stdout",
     "output_type": "stream",
     "text": [
      "100\n",
      "190\n",
      "310\n"
     ]
    }
   ],
   "source": [
    "#195\n",
    "ohlc = [[\"open\", \"high\", \"low\", \"close\"],\n",
    "        [100, 110, 70, 100],\n",
    "        [200, 210, 180, 190],\n",
    "        [300, 310, 300, 310]]\n",
    "\n",
    "for day_price in ohlc[1:] :\n",
    "    print(day_price[3])"
   ]
  },
  {
   "cell_type": "code",
   "execution_count": 44,
   "id": "f3cf1a95-2fac-44e0-b717-5187ce806c7d",
   "metadata": {},
   "outputs": [
    {
     "name": "stdout",
     "output_type": "stream",
     "text": [
      "190\n",
      "310\n"
     ]
    }
   ],
   "source": [
    "#196\n",
    "ohlc = [[\"open\", \"high\", \"low\", \"close\"],\n",
    "        [100, 110, 70, 100],\n",
    "        [200, 210, 180, 190],\n",
    "        [300, 310, 300, 310]]\n",
    "\n",
    "for day_price in ohlc[1:] :\n",
    "    close=day_price[3]\n",
    "    if close>150:\n",
    "        print(close)"
   ]
  },
  {
   "cell_type": "code",
   "execution_count": 45,
   "id": "43ee30e9-0e69-45bc-bd6c-9a755336b9d6",
   "metadata": {},
   "outputs": [
    {
     "name": "stdout",
     "output_type": "stream",
     "text": [
      "100\n",
      "310\n"
     ]
    }
   ],
   "source": [
    "#197\n",
    "ohlc = [[\"open\", \"high\", \"low\", \"close\"],\n",
    "        [100, 110, 70, 100],\n",
    "        [200, 210, 180, 190],\n",
    "        [300, 310, 300, 310]]\n",
    "\n",
    "for day_price in ohlc[1:] :\n",
    "    open=day_price[0]\n",
    "    close=day_price[3]\n",
    "    if close >= open :\n",
    "        print(close)"
   ]
  },
  {
   "cell_type": "code",
   "execution_count": 46,
   "id": "e8375f61-a717-493f-a74c-51780ced9dbd",
   "metadata": {},
   "outputs": [
    {
     "name": "stdout",
     "output_type": "stream",
     "text": [
      "[40, 30, 10]\n"
     ]
    }
   ],
   "source": [
    "#198\n",
    "ohlc = [[\"open\", \"high\", \"low\", \"close\"],\n",
    "        [100, 110, 70, 100],\n",
    "        [200, 210, 180, 190],\n",
    "        [300, 310, 300, 310]]\n",
    "\n",
    "# 변동폭: 고가-저가\n",
    "\n",
    "변동폭리스트=[]\n",
    "for day_price in ohlc[1:] :\n",
    "    high=day_price[1]\n",
    "    low=day_price[2]\n",
    "    변동폭=high-low\n",
    "    변동폭리스트.append(변동폭)\n",
    "\n",
    "print(변동폭리스트)"
   ]
  },
  {
   "cell_type": "code",
   "execution_count": 53,
   "id": "b4e84e8f-ae43-4766-8b36-155aa6dd8d50",
   "metadata": {},
   "outputs": [
    {
     "name": "stdout",
     "output_type": "stream",
     "text": [
      "10\n"
     ]
    }
   ],
   "source": [
    "#199\n",
    "ohlc = [[\"open\", \"high\", \"low\", \"close\"],\n",
    "        [100, 110, 70, 100],\n",
    "        [200, 210, 180, 190],\n",
    "        [300, 310, 300, 310]]\n",
    "\n",
    "# 시가<종가 , 하이-로우\n",
    "for day_price in ohlc[1:] :\n",
    "    open, high, low, close=day_price\n",
    "    if open<close :\n",
    "        print(high-low)"
   ]
  },
  {
   "cell_type": "code",
   "execution_count": 54,
   "id": "4fbed201-1872-4a2d-9ad4-9e6b1a8ec0b2",
   "metadata": {},
   "outputs": [
    {
     "name": "stdout",
     "output_type": "stream",
     "text": [
      "0\n"
     ]
    }
   ],
   "source": [
    "#200\n",
    "ohlc = [[\"open\", \"high\", \"low\", \"close\"],\n",
    "        [100, 110, 70, 100],\n",
    "        [200, 210, 180, 190],\n",
    "        [300, 310, 300, 310]]\n",
    "\n",
    "수익금 = 0\n",
    "for day_price in ohlc[1:]:\n",
    "    수익금 += (day_price[3] - day_price[0])\n",
    "\n",
    "print(수익금)\n"
   ]
  },
  {
   "cell_type": "markdown",
   "id": "cc231f0d-9b36-4b64-b967-8bd362d1792a",
   "metadata": {},
   "source": [
    "20240909 과제"
   ]
  },
  {
   "cell_type": "markdown",
   "id": "52b4f122-889d-4320-904b-d85f82259749",
   "metadata": {},
   "source": [
    "# 201-240번 과제"
   ]
  },
  {
   "cell_type": "markdown",
   "id": "7ae13e78-9fa4-4adb-b535-e70bfd31dbf1",
   "metadata": {},
   "source": [
    "201번 왜 def 써야되는지 모르겠다 밑에 처럼 print만 써도 가능하지 않나용"
   ]
  },
  {
   "cell_type": "code",
   "execution_count": 1,
   "id": "21bdbc1b-2e9e-4c97-aa5a-69bc086749aa",
   "metadata": {},
   "outputs": [
    {
     "name": "stdout",
     "output_type": "stream",
     "text": [
      "비트코인\n"
     ]
    }
   ],
   "source": [
    "#201\n",
    "print(\"비트코인\")"
   ]
  },
  {
   "cell_type": "code",
   "execution_count": 3,
   "id": "f8308b2a-7193-4860-853b-711b93ca80b9",
   "metadata": {},
   "outputs": [],
   "source": [
    "def print_coin():\n",
    "    print(\"비트코인\")"
   ]
  },
  {
   "cell_type": "code",
   "execution_count": 5,
   "id": "fb93b86c-13e9-4f2c-87b1-16928876eab8",
   "metadata": {},
   "outputs": [
    {
     "name": "stdout",
     "output_type": "stream",
     "text": [
      "비트코인\n"
     ]
    }
   ],
   "source": [
    "#202\n",
    "def print_coin():\n",
    "    print(\"비트코인\")\n",
    "\n",
    "print_coin()"
   ]
  },
  {
   "cell_type": "code",
   "execution_count": 6,
   "id": "b356c89b-d9b2-491a-8531-5f5a5f3103f4",
   "metadata": {},
   "outputs": [
    {
     "name": "stdout",
     "output_type": "stream",
     "text": [
      "비트코인\n",
      "비트코인\n",
      "비트코인\n",
      "비트코인\n",
      "비트코인\n",
      "비트코인\n",
      "비트코인\n",
      "비트코인\n",
      "비트코인\n",
      "비트코인\n",
      "비트코인\n",
      "비트코인\n",
      "비트코인\n",
      "비트코인\n",
      "비트코인\n",
      "비트코인\n",
      "비트코인\n",
      "비트코인\n",
      "비트코인\n",
      "비트코인\n",
      "비트코인\n",
      "비트코인\n",
      "비트코인\n",
      "비트코인\n",
      "비트코인\n",
      "비트코인\n",
      "비트코인\n",
      "비트코인\n",
      "비트코인\n",
      "비트코인\n",
      "비트코인\n",
      "비트코인\n",
      "비트코인\n",
      "비트코인\n",
      "비트코인\n",
      "비트코인\n",
      "비트코인\n",
      "비트코인\n",
      "비트코인\n",
      "비트코인\n",
      "비트코인\n",
      "비트코인\n",
      "비트코인\n",
      "비트코인\n",
      "비트코인\n",
      "비트코인\n",
      "비트코인\n",
      "비트코인\n",
      "비트코인\n",
      "비트코인\n",
      "비트코인\n",
      "비트코인\n",
      "비트코인\n",
      "비트코인\n",
      "비트코인\n",
      "비트코인\n",
      "비트코인\n",
      "비트코인\n",
      "비트코인\n",
      "비트코인\n",
      "비트코인\n",
      "비트코인\n",
      "비트코인\n",
      "비트코인\n",
      "비트코인\n",
      "비트코인\n",
      "비트코인\n",
      "비트코인\n",
      "비트코인\n",
      "비트코인\n",
      "비트코인\n",
      "비트코인\n",
      "비트코인\n",
      "비트코인\n",
      "비트코인\n",
      "비트코인\n",
      "비트코인\n",
      "비트코인\n",
      "비트코인\n",
      "비트코인\n",
      "비트코인\n",
      "비트코인\n",
      "비트코인\n",
      "비트코인\n",
      "비트코인\n",
      "비트코인\n",
      "비트코인\n",
      "비트코인\n",
      "비트코인\n",
      "비트코인\n",
      "비트코인\n",
      "비트코인\n",
      "비트코인\n",
      "비트코인\n",
      "비트코인\n",
      "비트코인\n",
      "비트코인\n",
      "비트코인\n",
      "비트코인\n",
      "비트코인\n"
     ]
    }
   ],
   "source": [
    "#203\n",
    "for i in range(100):\n",
    "    print_coin()\n"
   ]
  },
  {
   "cell_type": "code",
   "execution_count": 8,
   "id": "7433e703-106a-4436-be7d-d1934c7d6920",
   "metadata": {},
   "outputs": [],
   "source": [
    "#204\n",
    "def print_coins():\n",
    "    for i in range(100):\n",
    "        print(\"비트코인\")\n"
   ]
  },
  {
   "cell_type": "code",
   "execution_count": null,
   "id": "f0c86631-204f-4f12-9daa-e83dd44dd607",
   "metadata": {},
   "outputs": [],
   "source": [
    "#205\n",
    "함수가 정의되지 않았다."
   ]
  },
  {
   "cell_type": "code",
   "execution_count": 9,
   "id": "5a32bdb7-dec9-44c7-821f-f099b03a655b",
   "metadata": {},
   "outputs": [
    {
     "name": "stdout",
     "output_type": "stream",
     "text": [
      "A\n",
      "B\n",
      "C\n",
      "A\n",
      "B\n"
     ]
    }
   ],
   "source": [
    "#206\n",
    "def message() :\n",
    "    print(\"A\")\n",
    "    print(\"B\")\n",
    "\n",
    "message()\n",
    "print(\"C\")\n",
    "message()\n"
   ]
  },
  {
   "cell_type": "code",
   "execution_count": 10,
   "id": "fdcd6c17-d595-4336-9eab-516b761d37d4",
   "metadata": {},
   "outputs": [
    {
     "name": "stdout",
     "output_type": "stream",
     "text": [
      "A\n",
      "C\n",
      "B\n"
     ]
    }
   ],
   "source": [
    "#207\n",
    "print(\"A\")\n",
    "\n",
    "def message() :\n",
    "    print(\"B\")\n",
    "\n",
    "print(\"C\")\n",
    "message()\n"
   ]
  },
  {
   "cell_type": "code",
   "execution_count": 11,
   "id": "c111c9cd-4f06-4bd4-aad1-f78508651741",
   "metadata": {},
   "outputs": [
    {
     "name": "stdout",
     "output_type": "stream",
     "text": [
      "A\n",
      "C\n",
      "B\n",
      "E\n",
      "D\n"
     ]
    }
   ],
   "source": [
    "#208\n",
    "print(\"A\")\n",
    "def message1() :\n",
    "    print(\"B\")\n",
    "print(\"C\")\n",
    "def message2() :\n",
    "    print(\"D\")\n",
    "message1()\n",
    "print(\"E\")\n",
    "message2()\n"
   ]
  },
  {
   "cell_type": "code",
   "execution_count": 12,
   "id": "c01ee119-2a71-4ea2-9d3c-4634b665b192",
   "metadata": {},
   "outputs": [
    {
     "name": "stdout",
     "output_type": "stream",
     "text": [
      "B\n",
      "A\n"
     ]
    }
   ],
   "source": [
    "#209\n",
    "def message1():\n",
    "    print(\"A\")\n",
    "\n",
    "def message2():\n",
    "    print(\"B\")\n",
    "    message1()\n",
    "\n",
    "message2()\n"
   ]
  },
  {
   "cell_type": "markdown",
   "id": "5f95113b-b04f-48cb-8769-a6c2063b018c",
   "metadata": {},
   "source": [
    "210번 모르겠다"
   ]
  },
  {
   "cell_type": "code",
   "execution_count": 13,
   "id": "12ab1cbb-77e0-47ad-ba0c-ff20b692e81a",
   "metadata": {},
   "outputs": [
    {
     "name": "stdout",
     "output_type": "stream",
     "text": [
      "B\n",
      "C\n",
      "B\n",
      "C\n",
      "B\n",
      "C\n",
      "A\n"
     ]
    }
   ],
   "source": [
    "#210\n",
    "def message1():\n",
    "    print(\"A\")\n",
    "\n",
    "def message2():\n",
    "    print(\"B\")\n",
    "\n",
    "def message3():\n",
    "    for i in range (3) :\n",
    "        message2()\n",
    "        print(\"C\")\n",
    "    message1()\n",
    "\n",
    "message3()\n"
   ]
  },
  {
   "cell_type": "code",
   "execution_count": 14,
   "id": "b2a1c6c7-0e34-4eb1-9df6-fde9c5cb1645",
   "metadata": {},
   "outputs": [
    {
     "name": "stdout",
     "output_type": "stream",
     "text": [
      "안녕\n",
      "Hi\n"
     ]
    }
   ],
   "source": [
    "#211\n",
    "def 함수(문자열) :\n",
    "    print(문자열)\n",
    "\n",
    "함수(\"안녕\")\n",
    "함수(\"Hi\")\n"
   ]
  },
  {
   "cell_type": "code",
   "execution_count": 15,
   "id": "3fc019f6-884a-4cb7-b04b-3e83830cfd62",
   "metadata": {},
   "outputs": [
    {
     "name": "stdout",
     "output_type": "stream",
     "text": [
      "7\n",
      "15\n"
     ]
    }
   ],
   "source": [
    "#212\n",
    "def 함수(a, b) :\n",
    "    print(a + b)\n",
    "\n",
    "함수(3, 4)\n",
    "함수(7, 8)\n"
   ]
  },
  {
   "cell_type": "code",
   "execution_count": null,
   "id": "2063b46e-d33a-47a6-80e0-41e94e26b9bb",
   "metadata": {},
   "outputs": [],
   "source": [
    "#213\n",
    "함수를 호출할 때 하나의 파라미터를 입력해야 한다."
   ]
  },
  {
   "cell_type": "code",
   "execution_count": null,
   "id": "d7ac6f63-baad-44ea-bd72-b47362888266",
   "metadata": {},
   "outputs": [],
   "source": [
    "#214\n",
    "문자열과 숫자는 덧셈이 불가해서 에러가 난다."
   ]
  },
  {
   "cell_type": "code",
   "execution_count": 23,
   "id": "409a0435-5655-4f18-a576-201373368392",
   "metadata": {},
   "outputs": [
    {
     "data": {
      "text/plain": [
       "<function __main__.print_with_smile(string)>"
      ]
     },
     "execution_count": 23,
     "metadata": {},
     "output_type": "execute_result"
    }
   ],
   "source": [
    "#215\n",
    "def print_with_smile (string) :\n",
    "    print (string + \":D\")\n",
    "\n",
    "print_with_smile"
   ]
  },
  {
   "cell_type": "code",
   "execution_count": 36,
   "id": "e886f0e7-53d7-4fc7-84c6-b793ea1973e8",
   "metadata": {},
   "outputs": [
    {
     "ename": "SyntaxError",
     "evalue": "invalid syntax (1087021694.py, line 2)",
     "output_type": "error",
     "traceback": [
      "\u001b[1;36m  Cell \u001b[1;32mIn[36], line 2\u001b[1;36m\u001b[0m\n\u001b[1;33m    def print_with_smile (\"안녕하세요\") :\u001b[0m\n\u001b[1;37m                          ^\u001b[0m\n\u001b[1;31mSyntaxError\u001b[0m\u001b[1;31m:\u001b[0m invalid syntax\n"
     ]
    }
   ],
   "source": [
    "#216\n",
    "def print_with_smile (\"안녕하세요\") :\n",
    "    print (\"안녕하세요\"+ \":D\")\n",
    "\n",
    "print_with_smile"
   ]
  },
  {
   "cell_type": "code",
   "execution_count": null,
   "id": "0329c56f-8c40-4159-a82d-11b448d44982",
   "metadata": {},
   "outputs": [],
   "source": [
    "#217\n"
   ]
  },
  {
   "cell_type": "code",
   "execution_count": null,
   "id": "af8cece1-8ee4-414d-8f3c-203d1c28681c",
   "metadata": {},
   "outputs": [],
   "source": [
    "#218\n",
    "def print_sum(a ,b ):\n",
    "    print(a+b)"
   ]
  },
  {
   "cell_type": "code",
   "execution_count": 39,
   "id": "6f526146-ccc6-4d34-bf37-ee10a71904e8",
   "metadata": {},
   "outputs": [
    {
     "data": {
      "text/plain": [
       "<function __main__.print_arithmetic_operation(a, b)>"
      ]
     },
     "execution_count": 39,
     "metadata": {},
     "output_type": "execute_result"
    }
   ],
   "source": [
    "#219\n",
    "def print_arithmetic_operation(a, b):\n",
    "    print(a, \"+\", b, \"=\", a + b)\n",
    "    print(a, \"-\", b, \"=\", a - b)\n",
    "    print(a, \"*\", b, \"=\", a * b)\n",
    "    print(a, \"/\", b, \"=\", a / b)\n",
    "print_arithmetic_operation"
   ]
  },
  {
   "cell_type": "markdown",
   "id": "6f60b767-7023-4268-be6e-54300b50f198",
   "metadata": {},
   "source": [
    "220번 모르겠다"
   ]
  },
  {
   "cell_type": "code",
   "execution_count": null,
   "id": "4bfecf18-2057-443b-85b3-721e513ae2ad",
   "metadata": {},
   "outputs": [],
   "source": [
    "#220\n",
    "def print_max(a, b, c) :\n",
    "    max_val = 0\n",
    "    if a > max_val :\n",
    "        max_val = a\n",
    "    if b > max_val :\n",
    "        max_val = b\n",
    "    if c > max_val :\n",
    "        max_val = c\n",
    "    print(max_val)\n"
   ]
  },
  {
   "cell_type": "code",
   "execution_count": 40,
   "id": "cf014646-b840-44a5-bad0-418ab13c4e7a",
   "metadata": {},
   "outputs": [
    {
     "data": {
      "text/plain": [
       "<function __main__.print_reverse(string)>"
      ]
     },
     "execution_count": 40,
     "metadata": {},
     "output_type": "execute_result"
    }
   ],
   "source": [
    "#221\n",
    "def print_reverse(string) :\n",
    "    print(string[::-1])\n",
    "print_reverse"
   ]
  },
  {
   "cell_type": "code",
   "execution_count": null,
   "id": "1fa1439a-5eaf-4ac8-9044-dabf2aa11571",
   "metadata": {},
   "outputs": [],
   "source": [
    "#222\n",
    "def print_score(score_list) :\n",
    "    print(sum(score_list)/len(score_list))\n"
   ]
  },
  {
   "cell_type": "markdown",
   "id": "b64931c6-5495-4c3c-8ff0-10a68c49e430",
   "metadata": {},
   "source": [
    "223번 왜 출력이 안되는거지"
   ]
  },
  {
   "cell_type": "code",
   "execution_count": 44,
   "id": "4c171842-5790-454d-be3a-b76713fd1e43",
   "metadata": {},
   "outputs": [
    {
     "ename": "NameError",
     "evalue": "name 'print_even' is not defined",
     "output_type": "error",
     "traceback": [
      "\u001b[1;31m---------------------------------------------------------------------------\u001b[0m",
      "\u001b[1;31mNameError\u001b[0m                                 Traceback (most recent call last)",
      "Cell \u001b[1;32mIn[44], line 2\u001b[0m\n\u001b[0;32m      1\u001b[0m \u001b[38;5;66;03m#223\u001b[39;00m\n\u001b[1;32m----> 2\u001b[0m print_even ([\u001b[38;5;241m1\u001b[39m, \u001b[38;5;241m3\u001b[39m, \u001b[38;5;241m2\u001b[39m, \u001b[38;5;241m10\u001b[39m, \u001b[38;5;241m12\u001b[39m, \u001b[38;5;241m11\u001b[39m, \u001b[38;5;241m15\u001b[39m])\n\u001b[0;32m      4\u001b[0m \u001b[38;5;28;01mdef\u001b[39;00m \u001b[38;5;21mprint_even\u001b[39m (my_list) :\n\u001b[0;32m      5\u001b[0m     \u001b[38;5;28;01mfor\u001b[39;00m v \u001b[38;5;129;01min\u001b[39;00m my_list :\n",
      "\u001b[1;31mNameError\u001b[0m: name 'print_even' is not defined"
     ]
    }
   ],
   "source": [
    "#223\n",
    "print_even ([1, 3, 2, 10, 12, 11, 15])\n",
    "\n",
    "def print_even (my_list) :\n",
    "    for v in my_list :\n",
    "        if v % 2 == 0 :\n",
    "            print(v)\n",
    "\n",
    "print_even"
   ]
  },
  {
   "cell_type": "code",
   "execution_count": null,
   "id": "da5e18f1-aeb2-4303-88b0-04214b06a237",
   "metadata": {},
   "outputs": [],
   "source": [
    "#224\n",
    "print_keys ({\"이름\":\"김말똥\", \"나이\":30, \"성별\":0})\n",
    "\n",
    "def print_keys(dic):\n",
    "    for keys in dic.keys :\n",
    "        print(keys)\n",
    "        "
   ]
  },
  {
   "cell_type": "code",
   "execution_count": null,
   "id": "fad6cdef-bcbc-47c1-a588-adaa861e9beb",
   "metadata": {},
   "outputs": [],
   "source": [
    "#225\n",
    "my_dict = {\"10/26\" : [100, 130, 100, 100],\n",
    "           \"10/27\" : [10, 12, 10, 11]}\n",
    "\n",
    "def print_value_by_key (my_dict, key) :\n",
    "    print(my_dict[key])\n"
   ]
  },
  {
   "cell_type": "code",
   "execution_count": null,
   "id": "4bffebd0-12e1-4bb8-81da-add070353d4f",
   "metadata": {},
   "outputs": [],
   "source": [
    "#226"
   ]
  },
  {
   "cell_type": "code",
   "execution_count": null,
   "id": "25b0e31b-4709-40ac-9c5c-34814c8c0126",
   "metadata": {},
   "outputs": [],
   "source": [
    "#227"
   ]
  },
  {
   "cell_type": "code",
   "execution_count": null,
   "id": "72772206-60f4-4fb8-b039-44216ade2ee9",
   "metadata": {},
   "outputs": [],
   "source": [
    "#228"
   ]
  },
  {
   "cell_type": "code",
   "execution_count": null,
   "id": "19ca39e5-9598-4dfe-9eda-04fb5e2d8201",
   "metadata": {},
   "outputs": [],
   "source": [
    "#229"
   ]
  },
  {
   "cell_type": "code",
   "execution_count": null,
   "id": "42156cfb-4742-4940-93b2-449d94ba822c",
   "metadata": {},
   "outputs": [],
   "source": [
    "#230"
   ]
  },
  {
   "cell_type": "code",
   "execution_count": null,
   "id": "8f80e4ec-3ba8-496b-9b93-a023b8eaacfb",
   "metadata": {},
   "outputs": [],
   "source": []
  },
  {
   "cell_type": "code",
   "execution_count": null,
   "id": "7d4b2f72-fd20-470d-b376-ee653b9beca1",
   "metadata": {},
   "outputs": [],
   "source": []
  },
  {
   "cell_type": "code",
   "execution_count": null,
   "id": "a94f7d37-14bb-40ff-b3f8-514a26da649a",
   "metadata": {},
   "outputs": [],
   "source": []
  },
  {
   "cell_type": "code",
   "execution_count": null,
   "id": "db792928-f0f6-4dba-bc2e-fe80f0b3ae6a",
   "metadata": {},
   "outputs": [],
   "source": []
  },
  {
   "cell_type": "code",
   "execution_count": null,
   "id": "5c29ec6d-50c6-45ba-aaae-fd9daaa013e1",
   "metadata": {},
   "outputs": [],
   "source": []
  }
 ],
 "metadata": {
  "kernelspec": {
   "display_name": "Python 3 (ipykernel)",
   "language": "python",
   "name": "python3"
  },
  "language_info": {
   "codemirror_mode": {
    "name": "ipython",
    "version": 3
   },
   "file_extension": ".py",
   "mimetype": "text/x-python",
   "name": "python",
   "nbconvert_exporter": "python",
   "pygments_lexer": "ipython3",
   "version": "3.12.4"
  }
 },
 "nbformat": 4,
 "nbformat_minor": 5
}
