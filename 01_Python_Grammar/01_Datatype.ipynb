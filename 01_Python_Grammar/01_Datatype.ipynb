{
 "cells": [
  {
   "cell_type": "markdown",
   "id": "7a967903-b6ae-4c51-b4eb-d059c158364a",
   "metadata": {},
   "source": [
    "# 문자열"
   ]
  },
  {
   "cell_type": "code",
   "execution_count": 1,
   "id": "6d7a41f1-3fa9-45bc-9ec6-a13e0b5a219f",
   "metadata": {},
   "outputs": [
    {
     "data": {
      "text/plain": [
       "'Hello world'"
      ]
     },
     "execution_count": 1,
     "metadata": {},
     "output_type": "execute_result"
    }
   ],
   "source": [
    "\"Hello world\""
   ]
  },
  {
   "cell_type": "markdown",
   "id": "f0a72e76-96ae-4c2b-8370-0ae14251ee3a",
   "metadata": {},
   "source": [
    "## 여러 줄인 문자열을 변수에 대입하고 싶을 때"
   ]
  },
  {
   "cell_type": "markdown",
   "id": "93dd1edf-0c3d-4e12-93b9-f9f2408838b8",
   "metadata": {},
   "source": [
    "줄 바꾸기 위한 이스케이프 코드"
   ]
  },
  {
   "cell_type": "code",
   "execution_count": 5,
   "id": "9743cdba-a52a-4b16-8dc4-78a99332e300",
   "metadata": {},
   "outputs": [
    {
     "data": {
      "text/plain": [
       "'Life is too short\\nYou need python'"
      ]
     },
     "execution_count": 5,
     "metadata": {},
     "output_type": "execute_result"
    }
   ],
   "source": [
    "multiline = \"Life is too short\\nYou need python\"\n",
    "multiline"
   ]
  },
  {
   "cell_type": "code",
   "execution_count": 6,
   "id": "37102f2c-46d5-4972-b70f-d41c5b17308f",
   "metadata": {},
   "outputs": [
    {
     "name": "stdout",
     "output_type": "stream",
     "text": [
      "Life is too short\n",
      "You need python\n"
     ]
    }
   ],
   "source": [
    "print(multiline)"
   ]
  },
  {
   "cell_type": "code",
   "execution_count": 7,
   "id": "1836ecee-280b-49a2-8866-5be28b021e85",
   "metadata": {},
   "outputs": [
    {
     "data": {
      "text/plain": [
       "'\\nLife is too short\\nYou need python\\n'"
      ]
     },
     "execution_count": 7,
     "metadata": {},
     "output_type": "execute_result"
    }
   ],
   "source": [
    "'''\n",
    "Life is too short\n",
    "You need python\n",
    "'''"
   ]
  },
  {
   "cell_type": "markdown",
   "id": "38aae7de-f9e7-4986-b59b-e64725dcd8ca",
   "metadata": {},
   "source": [
    "# 문자열 연산하기"
   ]
  },
  {
   "cell_type": "markdown",
   "id": "670f86a3-c272-4020-b314-f2d5e2a5c026",
   "metadata": {},
   "source": [
    "f 포매팅"
   ]
  },
  {
   "cell_type": "code",
   "execution_count": 8,
   "id": "efce5b4c-e356-4b9d-bcaa-29bf9097b430",
   "metadata": {},
   "outputs": [],
   "source": [
    "name='홍길동'\n",
    "age=30"
   ]
  },
  {
   "cell_type": "code",
   "execution_count": 9,
   "id": "fce513ad-ba7e-434d-8f74-3791b0d0f6e8",
   "metadata": {},
   "outputs": [
    {
     "data": {
      "text/plain": [
       "'나의 이름은 홍길동입니다. 나이는 30입니다.'"
      ]
     },
     "execution_count": 9,
     "metadata": {},
     "output_type": "execute_result"
    }
   ],
   "source": [
    "f'나의 이름은 {name}입니다. 나이는 {age}입니다.'"
   ]
  },
  {
   "cell_type": "markdown",
   "id": "c013cf70-3427-4b4f-8108-86cd1c20b75e",
   "metadata": {},
   "source": [
    "### 문자열 관련 함수들"
   ]
  },
  {
   "cell_type": "code",
   "execution_count": null,
   "id": "b263cb6e-7aec-47f1-95ba-9311b2cb2561",
   "metadata": {},
   "outputs": [],
   "source": []
  },
  {
   "cell_type": "code",
   "execution_count": null,
   "id": "f39b9b58-f6d3-494a-9017-bb3eb5d52e91",
   "metadata": {},
   "outputs": [],
   "source": []
  },
  {
   "cell_type": "code",
   "execution_count": null,
   "id": "fc84e07d-7da2-4cb0-8df0-0fc00f75288e",
   "metadata": {},
   "outputs": [],
   "source": []
  },
  {
   "cell_type": "code",
   "execution_count": null,
   "id": "f6753d7b-4186-48bd-bdd9-7ff8f9d834e1",
   "metadata": {},
   "outputs": [],
   "source": []
  },
  {
   "cell_type": "code",
   "execution_count": null,
   "id": "2199e390-d6ab-4a6e-afa4-31e099ea0a55",
   "metadata": {},
   "outputs": [],
   "source": []
  },
  {
   "cell_type": "code",
   "execution_count": null,
   "id": "c3a0d66f-38a3-4e5b-a2e5-9c296e674d42",
   "metadata": {},
   "outputs": [],
   "source": []
  }
 ],
 "metadata": {
  "kernelspec": {
   "display_name": "Python 3 (ipykernel)",
   "language": "python",
   "name": "python3"
  },
  "language_info": {
   "codemirror_mode": {
    "name": "ipython",
    "version": 3
   },
   "file_extension": ".py",
   "mimetype": "text/x-python",
   "name": "python",
   "nbconvert_exporter": "python",
   "pygments_lexer": "ipython3",
   "version": "3.12.4"
  }
 },
 "nbformat": 4,
 "nbformat_minor": 5
}
