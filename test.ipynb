{
 "cells": [
  {
   "cell_type": "markdown",
   "id": "f2933779-5b1f-4ac5-b9a3-2ab7e57ccc4e",
   "metadata": {},
   "source": [
    "#마크다운은 서식을 입력할 수 있다."
   ]
  },
  {
   "cell_type": "markdown",
   "id": "5f2ea8c8-33b7-4709-bf6c-2338e16d5489",
   "metadata": {},
   "source": [
    "#hello world"
   ]
  },
  {
   "cell_type": "markdown",
   "id": "62a1ea9a-c3ff-4e5b-849d-4c3910be60d1",
   "metadata": {},
   "source": [
    "# hello world"
   ]
  },
  {
   "cell_type": "code",
   "execution_count": null,
   "id": "f50bec15-10dd-40fc-9590-3ec74b59a013",
   "metadata": {},
   "outputs": [],
   "source": [
    "#안녕\n",
    "print(\"hello world\")"
   ]
  },
  {
   "cell_type": "code",
   "execution_count": null,
   "id": "2c01956b-fad9-4022-b12e-cdc042201f04",
   "metadata": {},
   "outputs": [],
   "source": []
  }
 ],
 "metadata": {
  "kernelspec": {
   "display_name": "Python 3 (ipykernel)",
   "language": "python",
   "name": "python3"
  },
  "language_info": {
   "codemirror_mode": {
    "name": "ipython",
    "version": 3
   },
   "file_extension": ".py",
   "mimetype": "text/x-python",
   "name": "python",
   "nbconvert_exporter": "python",
   "pygments_lexer": "ipython3",
   "version": "3.12.4"
  }
 },
 "nbformat": 4,
 "nbformat_minor": 5
}
