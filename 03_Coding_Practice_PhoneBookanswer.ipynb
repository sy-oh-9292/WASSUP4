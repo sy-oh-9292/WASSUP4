{
 "cells": [
  {
   "cell_type": "markdown",
   "metadata": {},
   "source": [
    "# 전화번호 프로그램 만들기\n",
    "\n",
    "* 사용자 입력 : 홍길동 010-123-4567\n",
    "* 기능1 : 연락처 추가\n",
    "* 기능2 : 연락처 전체 보기\n",
    "* 기능3 : 검색, 이름을 입력받아서 전화번호 조회\n",
    "* 기능4 : 수정, 이름을 입력받아서 전화번호 입력수정\n",
    "* 기능5 : 삭제, 이름 입력받아서 삭제\n",
    "* 기능6 : 프로그램 종료"
   ]
  },
  {
   "cell_type": "markdown",
   "metadata": {},
   "source": [
    "## 설계\n",
    "1. 입출력 정의 : 문자열, 딕셔너리 K:V\r\n",
    "2. 인터페이스 : input(, 프롬프트)\r\n",
    "3. 구조 : while 반복문, 6개 기능을 구현 -> if분기문\r\n",
    "4. 기능 구현 + 인터페이스\n",
    "- 1번 연락처 추가 : dict[key] = value\n",
    "- 2번 연락처 전체 보기 : print(dict)\n",
    "- 3번 연락처 검색 : dict[key]\n",
    "- 4번 연락처 수정 : dict[key] = value\n",
    "- 5번 연락처 삭제 : del\n",
    "- 6번 종료 : break  정책\r\n"
   ]
  },
  {
   "cell_type": "code",
   "execution_count": null,
   "metadata": {
    "scrolled": true
   },
   "outputs": [
    {
     "name": "stdout",
     "output_type": "stream",
     "text": [
      "---------전화번호부 프로그램---------\n",
      "1.추가   2.조회   3.검색   4.수정   5.삭제   9.종료\n"
     ]
    },
    {
     "name": "stdin",
     "output_type": "stream",
     "text": [
      "메뉴를 선택해주세요.(숫자 only) :  문자열\n"
     ]
    },
    {
     "name": "stdout",
     "output_type": "stream",
     "text": [
      "형식이 잘못되었어요. 숫자로 넣어주세요\n",
      "잘못된 입력입니다.\n",
      "---------전화번호부 프로그램---------\n",
      "1.추가   2.조회   3.검색   4.수정   5.삭제   9.종료\n"
     ]
    },
    {
     "name": "stdin",
     "output_type": "stream",
     "text": [
      "메뉴를 선택해주세요.(숫자 only) :  1\n"
     ]
    },
    {
     "name": "stdout",
     "output_type": "stream",
     "text": [
      "연락처를 추가합니다.\n"
     ]
    },
    {
     "name": "stdin",
     "output_type": "stream",
     "text": [
      "이름:  \n"
     ]
    },
    {
     "name": "stdout",
     "output_type": "stream",
     "text": [
      "이름이 비었습니다.\n",
      "---------전화번호부 프로그램---------\n",
      "1.추가   2.조회   3.검색   4.수정   5.삭제   9.종료\n"
     ]
    }
   ],
   "source": [
    "contact = {\"홍길동\":1222}\n",
    "menu= \"\"\n",
    "\n",
    "while True:\n",
    "    print('---------전화번호부 프로그램---------')\n",
    "    print('1.추가   2.조회   3.검색   4.수정   5.삭제   9.종료')\n",
    "    try :\n",
    "        menu = int(input('메뉴를 선택해주세요.(숫자 only) : '))\n",
    "    except :\n",
    "        print(\"형식이 잘못되었어요. 숫자로 넣어주세요\")\n",
    "    \n",
    "    if menu == 1: # 연락처 추가\n",
    "        print('연락처를 추가합니다.')\n",
    "        new_name = input('이름: ')\n",
    "        \n",
    "        if new_name == \"\" :\n",
    "            print(\"이름이 비었습니다.\")\n",
    "            continue\n",
    "        elif contact.get(new_name) :\n",
    "            print(\"이미 저장된 사람입니다.\")\n",
    "            continue\n",
    "        \n",
    "        new_tel = input('전화번호: ')\n",
    "        if new_tel == \"\" :\n",
    "            print(\"전화번호가 비었습니다.\")\n",
    "            continue\n",
    "        \n",
    "        new_tel = new_tel.replace(\"-\",\"\")\n",
    "        if len(new_tel) < 8 or len(new_tel) > 11 or new_tel[0] != \"0\" :\n",
    "            print(\"전화번호 형식이 틀려요\")\n",
    "            continue\n",
    "        \n",
    "        try:\n",
    "            int(new_tel)\n",
    "        except:\n",
    "            print(\"전화번호에 숫자 외의 값이 들어갔어요\")\n",
    "            continue\n",
    "        print(new_name, new_tel)\n",
    "        # contact[new_name] = new_tel\n",
    "        contact.setdefault(new_name, new_tel)\n",
    "        \n",
    "    elif menu == 2: # 연락처 조회\n",
    "        print('연락처를 조회합니다.')\n",
    "        # print(contact)\n",
    "        for name, tel in contact.items():\n",
    "            print(name, ':', tel)\n",
    "        \n",
    "    elif menu == 3: # 연락처 검색\n",
    "        print('연락처를 검색합니다.')\n",
    "        while True :\n",
    "            search_name = input('검색 이름: ')\n",
    "            # print(contact[search_name])\n",
    "            if search_name == \"\" :\n",
    "                print(\"검색하고자 하는 값이 비었어요\")\n",
    "                continue\n",
    "            elif search_name ==\"취소\" :\n",
    "                print(\"취소되었습니다.\")\n",
    "                break\n",
    "            else :\n",
    "                break\n",
    "        if \"취소\"==search_name :\n",
    "            continue;\n",
    "        print(contact.get(search_name, '없는 이름입니다.'))\n",
    "        \n",
    "    elif menu == 4: # 연락처 수정\n",
    "        print('연락처를 수정합니다.')\n",
    "        mod_name = input('수정 이름 : ')\n",
    "        if mod_name == \"\" :\n",
    "            print(\"검색하고자 하는 값이 비었어요\")\n",
    "            continue\n",
    "        if mod_name in contact:\n",
    "            mod_tel = input('새 전화번호: ')\n",
    "            contact[mod_name] = mod_tel\n",
    "            if mod_tel == \"\" :\n",
    "                print(\"전화번호가 비었습니다.\")\n",
    "                continue\n",
    "            \n",
    "            mod_tel = mod_tel.replace(\"-\",\"\")\n",
    "            if 8 > len(mod_tel) or 11 < len(mod_tel) or mod_tel[0] != \"0\"  :\n",
    "                print(\"전화번호 형식이 틀려요\")\n",
    "                continue\n",
    "            try:\n",
    "                int(mod_tel)\n",
    "            except:\n",
    "                print(\"전화번호에 숫자 외의 값이 들어갔어요\")\n",
    "                continue\n",
    "        \n",
    "        else:\n",
    "            print('등록되지 않은 이름입니다.')       \n",
    "\n",
    "    elif menu == 5: # 연락처 삭제\n",
    "        print('연락처를 삭제합니다.')\n",
    "        del_name = input('삭제 이름 : ')\n",
    "        if del_name == \"\" :\n",
    "            print(\"검색하고자 하는 값이 비었어요\")\n",
    "            continue\n",
    "        \n",
    "        if del_name in contact:\n",
    "            del contact[del_name]\n",
    "        else:\n",
    "            print('등록되지 않은 이름입니다.')     \n",
    "        \n",
    "    elif menu == 9: # 프로그램 종료\n",
    "        print('프로그램을 종료합니다.')\n",
    "        break\n",
    "\n",
    "    else :\n",
    "        print('잘못된 입력입니다.')\n",
    "\n",
    "    "
   ]
  },
  {
   "cell_type": "code",
   "execution_count": null,
   "metadata": {},
   "outputs": [],
   "source": []
  },
  {
   "cell_type": "code",
   "execution_count": null,
   "metadata": {},
   "outputs": [],
   "source": []
  },
  {
   "cell_type": "code",
   "execution_count": null,
   "metadata": {},
   "outputs": [],
   "source": []
  },
  {
   "cell_type": "code",
   "execution_count": null,
   "metadata": {},
   "outputs": [],
   "source": []
  },
  {
   "cell_type": "code",
   "execution_count": null,
   "metadata": {},
   "outputs": [],
   "source": []
  },
  {
   "cell_type": "code",
   "execution_count": null,
   "metadata": {},
   "outputs": [],
   "source": []
  },
  {
   "cell_type": "code",
   "execution_count": null,
   "metadata": {},
   "outputs": [],
   "source": []
  },
  {
   "cell_type": "code",
   "execution_count": null,
   "metadata": {},
   "outputs": [],
   "source": []
  },
  {
   "cell_type": "code",
   "execution_count": null,
   "metadata": {},
   "outputs": [],
   "source": []
  },
  {
   "cell_type": "code",
   "execution_count": null,
   "metadata": {},
   "outputs": [],
   "source": []
  },
  {
   "cell_type": "code",
   "execution_count": null,
   "metadata": {},
   "outputs": [],
   "source": []
  },
  {
   "cell_type": "code",
   "execution_count": null,
   "metadata": {},
   "outputs": [],
   "source": []
  },
  {
   "cell_type": "code",
   "execution_count": null,
   "metadata": {},
   "outputs": [],
   "source": []
  },
  {
   "cell_type": "code",
   "execution_count": null,
   "metadata": {},
   "outputs": [],
   "source": []
  },
  {
   "cell_type": "code",
   "execution_count": null,
   "metadata": {},
   "outputs": [],
   "source": []
  },
  {
   "cell_type": "markdown",
   "metadata": {},
   "source": [
    "## 요구사항 분석 및 설계\n",
    "1. I/O, 데이터타입 : 문자열, 딕셔너리 K:V\n",
    "2. 데이터 :  사용자 입력 input()\n",
    "3. 구조 : 프로그램 : while 반복 문, 기능:  if 분기문\n",
    "4. 기능 + 인터페이스 정책\n",
    "- 1번 연락처 추가 : dict[key] = value\n",
    "- 2번 연락처 전체 보기 : print(dict)\n",
    "- 3번 검색 : get메서드, dict[key] + 편의기능(사전에 사용자가 존재하는지 확인 if user in dict)\n",
    "- 4번 수정 : update 메서드, dict[key] = value\n",
    "- 5번 삭제 : del\n",
    "- 9번 종료 : break\n",
    "+ 예외처리"
   ]
  },
  {
   "cell_type": "code",
   "execution_count": 26,
   "metadata": {
    "scrolled": true,
    "tags": []
   },
   "outputs": [
    {
     "name": "stdout",
     "output_type": "stream",
     "text": [
      "-----전화번호부 프로그램-----\n",
      "1.추가   2.보기   3.검색   4.수정   5.삭제   9.종료\n"
     ]
    },
    {
     "name": "stdin",
     "output_type": "stream",
     "text": [
      "메뉴를 선택해주세요.(숫자only):  20\n"
     ]
    },
    {
     "name": "stdout",
     "output_type": "stream",
     "text": [
      "잘못된 입력입니다.\n",
      "-----전화번호부 프로그램-----\n",
      "1.추가   2.보기   3.검색   4.수정   5.삭제   9.종료\n"
     ]
    },
    {
     "name": "stdin",
     "output_type": "stream",
     "text": [
      "메뉴를 선택해주세요.(숫자only):  9\n"
     ]
    },
    {
     "name": "stdout",
     "output_type": "stream",
     "text": [
      "연락처를 종료합니다.\n",
      "끝났습니다.\n"
     ]
    }
   ],
   "source": [
    "contact = {}\n",
    "# 사람의 이름 키\n",
    "# 전화번호 밸류 \n",
    "\n",
    "    \n",
    "while True:\n",
    "    print('-----전화번호부 프로그램-----')\n",
    "    print('1.추가   2.보기   3.검색   4.수정   5.삭제   9.종료')\n",
    "    menu = int(input('메뉴를 선택해주세요.(숫자only): ' ))\n",
    "    \n",
    "    if menu == 1:\n",
    "        print('연락처를 추가합니다.')\n",
    "        new_name = input('이름: ')\n",
    "        new_tel = input('전화번호: ')\n",
    "        print(new_name, new_tel)\n",
    "        # contact[new_name] = new_tel\n",
    "        contact.setdefault(new_name, new_tel)\n",
    "        \n",
    "    elif menu == 2: #완성\n",
    "        print('연락처를 조회합니다.')\n",
    "        # print(contact)\n",
    "        for name, tel in contact.items():\n",
    "            print(name, '=', tel )\n",
    "        \n",
    "    elif menu == 3: # 완성\n",
    "        print('연락처를 검색합니다.')\n",
    "        search_name = input('검색 이름: ')\n",
    "        # print(contact[search_name])\n",
    "        print(contact.get(search_name, '없는 이름입니다.'))\n",
    "        \n",
    "        \n",
    "    elif menu == 4: # 완성\n",
    "        print('연락처를 수정합니다.')\n",
    "        mod_name = input('수정 이름 : ')\n",
    "        \n",
    "        if mod_name in contact:\n",
    "            mod_tel = input('새 전화번호 : ')\n",
    "            contact[mod_name] = mod_tel\n",
    "        else :\n",
    "            print('등록되지 않은 이름입니다.')     \n",
    "        \n",
    "    elif menu == 5: # 완성\n",
    "        print('연락처를 삭제합니다.')\n",
    "        del_name = input('삭제 이름: ')\n",
    "        \n",
    "        if del_name in contact:\n",
    "            del contact[del_name]\n",
    "        else :\n",
    "            print('등록되지 않은 이름입니다.')\n",
    "    \n",
    "    \n",
    "    elif menu == 9: # 완성\n",
    "        print('연락처를 종료합니다.')\n",
    "        break\n",
    "    \n",
    "    else :\n",
    "        print('잘못된 입력입니다.')\n",
    "    \n",
    "print(\"끝났습니다.\")    "
   ]
  },
  {
   "cell_type": "code",
   "execution_count": null,
   "metadata": {},
   "outputs": [],
   "source": []
  }
 ],
 "metadata": {
  "kernelspec": {
   "display_name": "Python 3 (ipykernel)",
   "language": "python",
   "name": "python3"
  },
  "language_info": {
   "codemirror_mode": {
    "name": "ipython",
    "version": 3
   },
   "file_extension": ".py",
   "mimetype": "text/x-python",
   "name": "python",
   "nbconvert_exporter": "python",
   "pygments_lexer": "ipython3",
   "version": "3.12.4"
  },
  "toc": {
   "base_numbering": 1,
   "nav_menu": {},
   "number_sections": true,
   "sideBar": true,
   "skip_h1_title": false,
   "title_cell": "Table of Contents",
   "title_sidebar": "Contents",
   "toc_cell": false,
   "toc_position": {},
   "toc_section_display": true,
   "toc_window_display": false
  },
  "varInspector": {
   "cols": {
    "lenName": 16,
    "lenType": 16,
    "lenVar": 40
   },
   "kernels_config": {
    "python": {
     "delete_cmd_postfix": "",
     "delete_cmd_prefix": "del ",
     "library": "var_list.py",
     "varRefreshCmd": "print(var_dic_list())"
    },
    "r": {
     "delete_cmd_postfix": ") ",
     "delete_cmd_prefix": "rm(",
     "library": "var_list.r",
     "varRefreshCmd": "cat(var_dic_list()) "
    }
   },
   "types_to_exclude": [
    "module",
    "function",
    "builtin_function_or_method",
    "instance",
    "_Feature"
   ],
   "window_display": false
  }
 },
 "nbformat": 4,
 "nbformat_minor": 4
}
