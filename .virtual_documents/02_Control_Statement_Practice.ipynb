


a = 'Life is too short, you need python'
if 'wife' in a: print('wife')
elif 'python' in a and 'you' not in a : print('python')
elif 'shirt' not in a : print('shirt')
elif 'need' in a: print('need')
else: print('none')





result = 0
i = 1
while i <= 1000:
    if ?????  # 3으로 나누어 떨어지는 수는 3의 배수
        result += i
    i += 1
print(result) # 166833 출력


















A = [70, 60, 55, 75, 95, 90, 80, 80, 85, 100]
total = 0
for score in A:
    total += ???? # A학급의 점수를 모두 더한다.
average = ???? # 평균을 구하기 위해 총 점수를 총 학생수로 나눈다.
print(average)









