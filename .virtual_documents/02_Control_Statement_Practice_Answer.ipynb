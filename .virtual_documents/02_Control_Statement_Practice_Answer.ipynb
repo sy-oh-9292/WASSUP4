


# 거짓이므로 미츨력
# 거짓이므로 미출력
# 참이므로 출력
# 참이지만 실행 안됨





result = 0
i = 1
while i <= 1000:
    if i % 3 == 0 :  # 3으로 나누어 떨어지는 수는 3의 배수
        result += i
    i += 1
print(result) # 166833 출력





i = 1
while i < 6:
    print('*'*i)
    i += 1


i= 0
while True :
    i += 1
    if i > 5: break
    print('*'*i)





for i in range(1, 101):
    print(i)





A = [70, 60, 55, 75, 95, 90, 80, 80, 85, 100]
total = 0
for score in A:
    total += score # A학급의 점수를 모두 더한다.
average = total / len(A) # 평균을 구하기 위해 총 점수를 총 학생수로 나눈다.
print(average)





numbers = [1, 2, 3, 4, 5]
result = [n*2 for n in numbers if n% 2 == 1]
print(result)



