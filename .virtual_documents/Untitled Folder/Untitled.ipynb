print("naver","kakao","samsung",sep=";")
