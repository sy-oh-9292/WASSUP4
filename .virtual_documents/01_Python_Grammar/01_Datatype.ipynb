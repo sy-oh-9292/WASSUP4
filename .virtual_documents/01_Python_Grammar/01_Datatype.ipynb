


"Hello world"








multiline = "Life is too short\nYou need python"
multiline


print(multiline)


'''
Life is too short
You need python
'''








name='홍길동'
age=30


f'나의 이름은 {name}입니다. 나이는 {age}입니다.'








a = []
b = [1, 2, 3]
c = ['Life', 'is', 'too', 'short']
d = [1, 2, 'Life', 'is']
e = [1, 2, ['Life', 'is']]
f=(list)()
a,b,c,d,e,f









t1 = ()
t2 = (1,)
t3 = (1, 2, 3)
t4 = 1, 2, 3
t5 = ('a', 'b', ('ab', 'cd'))
t1, t2, t3, t4, t5










































