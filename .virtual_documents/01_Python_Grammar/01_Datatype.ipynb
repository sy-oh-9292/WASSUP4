


"Hello world"








multiline = "Life is too short\nYou need python"
multiline


print(multiline)


'''
Life is too short
You need python
'''








name='홍길동'
age=30


f'나의 이름은 {name}입니다. 나이는 {age}입니다.'





















