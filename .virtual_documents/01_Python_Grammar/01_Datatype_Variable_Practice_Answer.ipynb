


# A1
국어 = 80
영어 = 75
수학 = 55
과목 = [국어, 영어, 수학]
과목점수합계 = 국어 + 영어 + 수학
과목점수평균 = 과목점수합계/len(과목)
print(과목점수평균)





# A2
print(13%2,'나머지가 있으면 홀수')





# A3
pin = '881120-1068234'
# 연월일, 뒷번호 = 주민번호.split('-')
# print(연월일, 뒷번호)
yyyymmdd = pin[:6]
num = pin[7:]
print(yyyymmdd)
print(num)





# A4
pin = '881120-1068234'
print(pin[7])





# A5
a = "a:b:c:d"
b = a.replace(":", "#")
print(b)





# A6
a = [1, 3, 5, 4, 2]
a.sort()
a.reverse()
print(a)





a = ['Life', 'is', 'too', 'short']
result = ' '.join(a)
print(result)





a = (1, 2, 3)
a = a + (4,)
print(a)





a = dict()
a['name'] = 'python'
print(a)
a[('a',)] = 'python'
print(a)
a[250] = 'python'
print(a)
a[[1]] = 'python' # 딕셔너리의 키로는 변하는(mutable)값을 사용할 수 없다.
print(a)





a = {'A':90, 'B':80, 'C':70}
result = a['B'] # a.pop('B')
print(a)
print(result)





a = [1, 1, 1, 2, 2, 3, 3, 3, 4, 4, 5]
aSet = set(a)
print(aSet)
b = list(aSet)
print(b)





a = b = [1, 2, 3]
a[1] = 4
print(b)



