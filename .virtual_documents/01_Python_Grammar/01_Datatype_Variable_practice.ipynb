


a = {'국어': 80, '영어': 75, '수학':55}
a.values()


b=list(a.values())


b


(b[0]+b[1]+b[2])/3





13%2==1





pin = '881120-1068234'
yyyymmdd = "19"+pin[0:6]
num=pin.split('-')
num=num[1:]
print(yyyymmdd)
print(num)





pin[7]





a = "a:b:c:d"
b = a.replace(':','#')
print(b)





a = [1, 3, 5, 4, 2]
a.sort()
a.reverse()
a





a = ['Life', 'is', 'too', 'short']
result =" ".join(['Life', 'is', 'too', 'short'])
print(result)





a = (1, 2, 3)
a1 = (4,)
정답=a+a1
print(정답)














a = {'A':90, 'B':80, 'C':70}
a['B']





a = [1, 1, 1, 2, 2, 3, 3, 3, 4, 4, 5]
aSet=set([1, 1, 1, 2, 2, 3, 3, 3, 4, 4, 5])
print(aSet)
b=list(aSet)
print(b)





a = b = [1, 2, 3]
a[1] = 4
print(b)






