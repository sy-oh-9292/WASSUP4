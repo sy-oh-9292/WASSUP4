








#안녕
print("hello world")



