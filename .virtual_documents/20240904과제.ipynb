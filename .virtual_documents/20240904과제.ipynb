


#1
print('Hello World')


#2
print("Mary's cosmetics")


#3
print('신씨가 소리질렀다. "도둑이야".')


#4
print('C:\\Windows')


#5
print("안녕하세요.\n만나서\t\t반갑습니다.")





#6
print("오늘은", "일요일")


#7
print('naver;kakao;sk;samsung')


#8
print("naver", "kakao", "samsung", sep="/")


#9
print("first");print("second")


print("first", end=""); print("second")


#10
print(5/3)


#11
삼성전자=50000
총평가금액=삼성전자*10
print(총평가금액)


#12
시가총액=298000000000000
현재가=50000
PER=15.79
print(시가총액, type(시가총액))
print(현재가, type(현재가))
print(PER, type(PER))


#13
s = "hello"
t = "python"
print(s)
print(t)


print(s+"!",t)


#14
print(2 + 2 * 3)


#15
a = 128
print (type(a))


a = "132"
print (type(a))





#16
num_str = "720"
num_int = int(num_str)
print(num_int+1, type(num_int))





#17
num = 100
result = str(num)
print(result, type(result))


#18
data = "15.79"
data = float(data)
print(data, type(data))


#19
year = "2020"
year= int(year)
print(year)


year = "2020"
print(int(year)-3)  # 2017
print(int(year)-2)  # 2018
print(int(year)-1)  # 2019


#20
총금액=48584*36
print(총금액)


#21
letters = 'python'
print(letters)
print(letters[0], letters[2])


#22
license_plate = "24가 2210"
print(license_plate[-4:])






#23
string = "홀짝홀짝홀짝"
print(string[::2])



#24
string = "PYTHON"
print(string[::-1])


#25
phone_number = "010-1111-2222"
phone_number.replace('-',' ')


#26
phone_number = "010-1111-2222"
phone_number.replace('-','')





#27
url = "http://sharebook.kr"
url_split=url.split('.')
print(url_split[-1])





#28
 lang = 'python'
 lang[0] = 'P'
 print(lang)


#29
string = 'abcdfe2a354a32a'
string.replace('a','A')






#30
string = 'abcd'
string.replace('b', 'B')
print(string)


#31
a = "3"
b = "4"
print(a + b)



#32
print("Hi" * 3)



#33
print('-'*80)


#34
t1 = "python"
t2 = "java"
t3 = t1 + ' ' + t2 + ' '
print(t3 * 4)





#35
name1 = "김민수" 
age1 = 10
name2 = "이철희"
age2 = 13
print("이름: %s 나이: %d" % (name1, age1))
print("이름: %s 나이: %d" % (name2, age2))


#36
name1 = "김민수" 
age1 = 10
name2 = "이철희"
age2 = 13
print("이름: {} 나이: {}".format(name1, age1))
print("이름: {} 나이: {}".format(name2, age2))


#37
name1 = "김민수" 
age1 = 10
name2 = "이철희"
age2 = 13
print(f"이름: {name1} 나이: {age1}")
print(f"이름: {name2} 나이: {age2}")


#38
상장주식수 = "5,969,782,550"
컴마제거 = 상장주식수.replace(",", "")
타입변환 = int(컴마제거)
print(타입변환, type(타입변환))






#39
분기 = "2020/03(E) (IFRS연결)"
print(분기[:7])


#40
data = "   삼성전자    "
data1 = data.strip()
print(data1)


#41
ticker = "btc_krw"
ticker1 = ticker.upper()
print(ticker1)


#42
ticker = "BTC_KRW"
ticker = ticker.lower()
print(ticker)


#43
a = "hello"
a = a.capitalize()
print(a)


#44
file_name = "보고서.xlsx"
file_name.endswith("xlsx")


#45
file_name = "보고서.xlsx"
file_name.endswith(("xlsx", "xls"))



#46
file_name = "2020_보고서.xlsx"
file_name.startswith("2020")



#47
a = "hello world"
a.split()



#48
ticker = "btc_krw"
ticker.split("_")



#49
date = "2020-05-01"
date.split("-")



#50
data = "039490     "
data=data.rstrip()
print(data)








#51
movie_rank = ["닥터 스트레인지", "스플릿", "럭키"]
print(movie_rank)


#52
movie_rank = ["닥터 스트레인지", "스플릿", "럭키","배트맨"]
print(movie_rank)


movie_rank = ["닥터 스트레인지", "스플릿", "럭키"]
movie_rank.append("배트맨")
print(movie_rank)


#53
movie_rank = ['닥터 스트레인지', '스플릿', '럭키', '배트맨']
movie_rank.insert(1,"슈퍼맨")
print(movie_rank)


#54
movie_rank = ['닥터 스트레인지', '슈퍼맨', '스플릿', '럭키', '배트맨']
del movie_rank[3]
print(movie_rank)


#55
movie_rank = ['닥터 스트레인지', '슈퍼맨', '스플릿', '배트맨']
del movie_rank[2]
del movie_rank[2]
print(movie_rank)


#56
lang1 = ["C", "C++", "JAVA"]
lang2 = ["Python", "Go", "C#"]
langs= lang1 + lang2
print(langs)


#57
nums = [1, 2, 3, 4, 5, 6, 7]
print("max: ", max(nums))
print("min: ", min(nums))


#58
nums = [1, 2, 3, 4, 5]
print(sum(nums))



#59
cook = ["피자", "김밥", "만두", "양념치킨", "족발", "피자", "김치만두", "쫄면", "소시지", "라면", "팥빙수", "김치전"]
print(len(cook))


#60
nums = [1, 2, 3, 4, 5]
더하기=(sum(nums))/5
print(더하기)


#61
price = ['20180728', 100, 130, 140, 150, 160, 170]
print(price[1:])


#62
nums = [1, 2, 3, 4, 5, 6, 7, 8, 9, 10]
print(nums[::2])


#63
nums = [1, 2, 3, 4, 5, 6, 7, 8, 9, 10]
print(nums[1::2])





#64
nums = [1, 2, 3, 4, 5]
print(nums[::-1])


#65
interest = ['삼성전자', 'LG전자', 'Naver']
print(interest[0], interest[2])


#66


#67


#68


#69


#70


#71


#72


#73


#74


#75


#76


#77


#78


#79


#80


#81


#82


#83


#84


#85


#86


#87


#88


#89


#90


#91


#92


#93


#94


#95


#96


#97


#98


#99


#100





















