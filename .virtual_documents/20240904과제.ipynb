


#1
print('Hello World')


#2
print("Mary's cosmetics")


#3
print('신씨가 소리질렀다. "도둑이야".')


#4
print('C:\\Windows')


#5
print("안녕하세요.\n만나서\t\t반갑습니다.")





#6
print("오늘은", "일요일")


#7
print('naver;kakao;sk;samsung')


#8
print("naver", "kakao", "samsung", sep="/")


#9
print("first");print("second")


print("first", end=""); print("second")


#10
print(5/3)


#11
삼성전자=50000
총평가금액=삼성전자*10
print(총평가금액)


#12
시가총액=298000000000000
현재가=50000
PER=15.79
print(시가총액, type(시가총액))
print(현재가, type(현재가))
print(PER, type(PER))


#13
s = "hello"
t = "python"
print(s)
print(t)


print(s+"!",t)


#14
print(2 + 2 * 3)


#15
a = 128
print (type(a))


a = "132"
print (type(a))





#16
num_str = "720"
num_int = int(num_str)
print(num_int+1, type(num_int))





#17
num = 100
result = str(num)
print(result, type(result))


#18
data = "15.79"
data = float(data)
print(data, type(data))


#19
year = "2020"
year= int(year)
print(year)


year = "2020"
print(int(year)-3)  # 2017
print(int(year)-2)  # 2018
print(int(year)-1)  # 2019


#20
총금액=48584*36
print(총금액)


#21
letters = 'python'
print(letters)
print(letters[0], letters[2])


#22
license_plate = "24가 2210"
print(license_plate[-4:])






#23
string = "홀짝홀짝홀짝"
print(string[::2])



#24
string = "PYTHON"
print(string[::-1])


#25
phone_number = "010-1111-2222"
phone_number.replace('-',' ')


#26
phone_number = "010-1111-2222"
phone_number.replace('-','')





#27
url = "http://sharebook.kr"
url_split=url.split('.')
print(url_split[-1])





#28
 lang = 'python'
 lang[0] = 'P'
 print(lang)


#29
string = 'abcdfe2a354a32a'
string.replace('a','A')






#30
string = 'abcd'
string.replace('b', 'B')
print(string)


#31
a = "3"
b = "4"
print(a + b)



#32
print("Hi" * 3)



#33
print('-'*80)


#34
t1 = "python"
t2 = "java"
t3 = t1 + ' ' + t2 + ' '
print(t3 * 4)





#35
name1 = "김민수" 
age1 = 10
name2 = "이철희"
age2 = 13
print("이름: %s 나이: %d" % (name1, age1))
print("이름: %s 나이: %d" % (name2, age2))


#36
name1 = "김민수" 
age1 = 10
name2 = "이철희"
age2 = 13
print("이름: {} 나이: {}".format(name1, age1))
print("이름: {} 나이: {}".format(name2, age2))


#37
name1 = "김민수" 
age1 = 10
name2 = "이철희"
age2 = 13
print(f"이름: {name1} 나이: {age1}")
print(f"이름: {name2} 나이: {age2}")


#38
상장주식수 = "5,969,782,550"
컴마제거 = 상장주식수.replace(",", "")
타입변환 = int(컴마제거)
print(타입변환, type(타입변환))






#39
분기 = "2020/03(E) (IFRS연결)"
print(분기[:7])


#40
data = "   삼성전자    "
data1 = data.strip()
print(data1)


#41
ticker = "btc_krw"
ticker1 = ticker.upper()
print(ticker1)


#42
ticker = "BTC_KRW"
ticker = ticker.lower()
print(ticker)


#43
a = "hello"
a = a.capitalize()
print(a)


#44
file_name = "보고서.xlsx"
file_name.endswith("xlsx")


#45
file_name = "보고서.xlsx"
file_name.endswith(("xlsx", "xls"))



#46
file_name = "2020_보고서.xlsx"
file_name.startswith("2020")



#47
a = "hello world"
a.split()



#48
ticker = "btc_krw"
ticker.split("_")



#49
date = "2020-05-01"
date.split("-")



#50
data = "039490     "
data=data.rstrip()
print(data)








#51
movie_rank = ["닥터 스트레인지", "스플릿", "럭키"]
print(movie_rank)


#52
movie_rank = ["닥터 스트레인지", "스플릿", "럭키","배트맨"]
print(movie_rank)


movie_rank = ["닥터 스트레인지", "스플릿", "럭키"]
movie_rank.append("배트맨")
print(movie_rank)


#53
movie_rank = ['닥터 스트레인지', '스플릿', '럭키', '배트맨']
movie_rank.insert(1,"슈퍼맨")
print(movie_rank)


#54
movie_rank = ['닥터 스트레인지', '슈퍼맨', '스플릿', '럭키', '배트맨']
del movie_rank[3]
print(movie_rank)


#55
movie_rank = ['닥터 스트레인지', '슈퍼맨', '스플릿', '배트맨']
del movie_rank[2]
del movie_rank[2]
print(movie_rank)


#56
lang1 = ["C", "C++", "JAVA"]
lang2 = ["Python", "Go", "C#"]
langs= lang1 + lang2
print(langs)


#57
nums = [1, 2, 3, 4, 5, 6, 7]
print("max: ", max(nums))
print("min: ", min(nums))


#58
nums = [1, 2, 3, 4, 5]
print(sum(nums))



#59
cook = ["피자", "김밥", "만두", "양념치킨", "족발", "피자", "김치만두", "쫄면", "소시지", "라면", "팥빙수", "김치전"]
print(len(cook))


#60
nums = [1, 2, 3, 4, 5]
더하기=(sum(nums))/5
print(더하기)


#61
price = ['20180728', 100, 130, 140, 150, 160, 170]
print(price[1:])


#62
nums = [1, 2, 3, 4, 5, 6, 7, 8, 9, 10]
print(nums[::2])


#63
nums = [1, 2, 3, 4, 5, 6, 7, 8, 9, 10]
print(nums[1::2])





#64
nums = [1, 2, 3, 4, 5]
print(nums[::-1])


#65
interest = ['삼성전자', 'LG전자', 'Naver']
print(interest[0], interest[2])


#66
interest = ['삼성전자', 'LG전자', 'Naver', 'SK하이닉스', '미래에셋대우']
print(" ".join(interest))


#67
interest = ['삼성전자', 'LG전자', 'Naver', 'SK하이닉스', '미래에셋대우']
print("/".join(interest))


#68
interest = ['삼성전자', 'LG전자', 'Naver', 'SK하이닉스', '미래에셋대우']
print("\n".join(interest))


#69
string = "삼성전자/LG전자/Naver"
interest=string.split("/")
print(interest)


#70
data = [2, 4, 3, 1, 5, 10, 9]
data.sort()
print(data)


#71
my_variable = ()
print(type(my_variable))


#72
movie_rank=('닥터 스트레인지','스플릿','럭키')
print(movie_rank)


#73
tuple=(1,)
print(type(tuple))


#74
>> t = (1, 2, 3)
>> t[0] = 'a'
Traceback (most recent call last):
  File "<pyshell#46>", line 1, in <module>
    t[0] = 'a'
TypeError: 'tuple' object does not support item assignment





#75
t = 1, 2, 3, 4
print(type(t))



#76
t = ('a', 'b', 'c')






#77
interest = ('삼성전자', 'LG전자', 'SK Hynix')
interest변환=list(interest)
print(interest변환)





#78
interest = ['삼성전자', 'LG전자', 'SK Hynix']
data = tuple(interest)
print(type(data))


#79
temp = ('apple', 'banana', 'cake')
a, b, c = temp
print(a, b, c)





#80
(2, 4, 6, 8 ... 98)



#81


#82


#83


#84
temp = { }
print(type(temp))


#85
아이스크림= {'메로나':1000,'폴라포':1200,'빵빠레':1800}
print(아이스크림)


#86
아이스크림= {'메로나':1000,'폴라포':1200,'빵빠레':1800}
아이스크림['죠스바']=1200
아이스크림['월드콘']=1500
print(아이스크림)


#87
ice = {'메로나': 1000,
       '폴로포': 1200,
       '빵빠레': 1800,
       '죠스바': 1200,
       '월드콘': 1500}
print('메로나가격:',ice['메로나'])


#88
ice = {'메로나': 1000,
       '폴로포': 1200,
       '빵빠레': 1800,
       '죠스바': 1200,
       '월드콘': 1500}
ice['메로나']=1300
print(ice)


#89
ice = {'메로나': 1000,
       '폴로포': 1200,
       '빵빠레': 1800,
       '죠스바': 1200,
       '월드콘': 1500}
del ice["메로나"]
print(ice)


#90
>> icecream = {'폴라포': 1200, '빵빠레': 1800, '월드콘': 1500, '메로나': 1000}
>> icecream['누가바']
Traceback (most recent call last):
  File "<pyshell#69>", line 1, in <module>
    icecream['누가바']
KeyError: '누가바'






#91
inventory = {"메로나": [300, 20], 
             "비비빅": [400, 3], 
             "죠스바": [250, 100]}
print(inventory)


#92
inventory = {"메로나": [300, 20],
              "비비빅": [400, 3],
              "죠스바": [250, 100]}
print(inventory["메로나"][0])


#93
inventory = {"메로나": [300, 20],
              "비비빅": [400, 3],
              "죠스바": [250, 100]}
print(inventory["메로나"][1], "개")


#94
inventory = {"메로나": [300, 20],
              "비비빅": [400, 3],
              "죠스바": [250, 100]}
inventory['월드콘']=[500, 7]
print(inventory)


#95
icecream = {'탱크보이': 1200, '폴라포': 1200, '빵빠레': 1800, '월드콘': 1500, '메로나': 1000}
icecream.keys()
ice=list(icecream)
print(ice)


#96
icecream = {'탱크보이': 1200, '폴라포': 1200, '빵빠레': 1800, '월드콘': 1500, '메로나': 1000}
ice=list(icecream.values())
print(ice)


#97
icecream = {'탱크보이': 1200, '폴라포': 1200, '빵빠레': 1800, '월드콘': 1500, '메로나': 1000}
print(sum(icecream.values()))


#98
icecream = {'탱크보이': 1200, '폴라포': 1200, '빵빠레': 1800, '월드콘': 1500, '메로나': 1000}
new_product = {'팥빙수':2700, '아맛나':1000}
icecream.update(new_product)
print(icecream)





#99
keys = ("apple", "pear", "peach")
vals = (300, 250, 400)
result = dict(zip(keys, vals))
print(result)


#100








#101
bool 입니다.


#102
False


#103
True


#104
True


#105
True


#106
존재하지 않는 연산자라 에러가 납니다.


#107
조건을 만족하지 않기 때문에 출력불가함


#108
하이데얼


#109
1
2
4


#110
3, 5





#111
user: input("입력: ")
print(user*2)



#112
user= input("숫자입력: ")
print(int(user)+10)



#113
user=input("입력:")

if int(user)%2==0 :
    print("짝수")
else:
    print("홀수")


#114
user= input("숫자입력: ")
num=(int(user)+20)
if num>255:
    print(255)

else:
    print(num)


#115
user= input("숫자입력: ")
num=(int(user)-20)
if num <0:
    print(0)
elif num>255:
    print(255)
else:
    print(num)


#116
user=input("시간:")

if user[-2:]=="00" :
    print("정각")
else:
    print("정각 아닙니다")


#117
user=input("과일:")
fruit = ["사과", "포도", "홍시"]

if user in fruit:
    print("정답")
else:
    print("오답")


#118
user=input("종목:")
list = ["Microsoft", "Google", "Naver", "Kakao", "SAMSUNG", "LG"]

if user in list:
    print("경고")
else:
    print("안전")


#119
user=input("계절:")
fruit = {"봄" : "딸기", "여름" : "토마토", "가을" : "사과"}

if user in fruit :
    print("정답")

else:
    print("오답")


#120
user=input("과일:")
fruit = {"봄" : "딸기", "여름" : "토마토", "가을" : "사과"}

if user in fruit.values() :
    print("정답")

else:
    print("오답")


#121
user=input("뭘까요:")

if user.islower() :
    print(user.upper())
else:
    print(user.lower())



#122
user=input("점수:")
스코어=int(user)
if 81<= 스코어 <=100 : 
    print("a")
elif 61<=스코어<= 80:
    print("b")
elif 41<=스코어<= 60:
    print("c")
elif 21<=스코어 <=40:
    print("d")
else:
    print("e")





#123
환율 = {"달러": 1167, 
        "엔": 1.096, 
        "유로": 1268, 
        "위안": 171}
user = input("입력: ")
num, currency = user.split("")
print(float(num) * 환율[currency], "원")




#124
user1=input("점수:")
user2=input("점수:")
user3=input("점수:")
user1=int(user1)
user2=int(user2)
user3=int(user3)

if user1 >=user2 and user1>= user3:
    print(user1)
elif user2>= user1 and user2>= user3:
    print(user2)
else:
    print(user3)


#125
user=input("번호:")
통신사 = {"sk": "011", "kt": "016", "lgu": "019", "알수없음": "010"}

if user.values() in "011":
    print(통신사.keys())
elif user.values()==016:
    print(통신사.keys())
elif user.values()==019:
    print(통신사.keys())
else:
    print(통신사.keys())


#126


#127


#128


#129


#130


#131


#132


#133


#134


#135


#136


#137


#138


#139


#140


#141


#142


#143


#144


#145


#146


#147


#148


#149


#150






























