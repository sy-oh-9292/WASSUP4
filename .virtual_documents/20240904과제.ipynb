


#1
print('Hello World')


#2
print("Mary's cosmetics")


#3
print('신씨가 소리질렀다. "도둑이야".')


#4
print('C:\\Windows')


#5
print("안녕하세요.\n만나서\t\t반갑습니다.")





#6
print("오늘은", "일요일")


#7
print('naver;kakao;sk;samsung')


#8
print("naver", "kakao", "samsung", sep="/")


#9
print("first");print("second")


print("first", end=""); print("second")


#10
print(5/3)


#11
삼성전자=50000
총평가금액=삼성전자*10
print(총평가금액)


#12
시가총액=298000000000000
현재가=50000
PER=15.79
print(시가총액, type(시가총액))
print(현재가, type(현재가))
print(PER, type(PER))


#13
s = "hello"
t = "python"
print(s)
print(t)


print(s+"!",t)


#14
print(2 + 2 * 3)


#15
a = 128
print (type(a))


a = "132"
print (type(a))





#16
num_str = "720"
num_int = int(num_str)
print(num_int+1, type(num_int))





#17
num = 100
result = str(num)
print(result, type(result))


#18
data = "15.79"
data = float(data)
print(data, type(data))


#19
year = "2020"
year= int(year)
print(year)


year = "2020"
print(int(year)-3)  # 2017
print(int(year)-2)  # 2018
print(int(year)-1)  # 2019


#20
총금액=48584*36
print(총금액)


#21
letters = 'python'
print(letters)
print(letters[0], letters[2])


#22
license_plate = "24가 2210"
print(license_plate[-4:])






#23
string = "홀짝홀짝홀짝"
print(string[::2])



#24
string = "PYTHON"
print(string[::-1])


#25
phone_number = "010-1111-2222"
phone_number.replace('-',' ')


#26
phone_number = "010-1111-2222"
phone_number.replace('-','')





#27
url = "http://sharebook.kr"
url_split=url.split('.')
print(url_split[-1])





#28
 lang = 'python'
 lang[0] = 'P'
 print(lang)


#29
string = 'abcdfe2a354a32a'
string.replace('a','A')






#30
string = 'abcd'
string.replace('b', 'B')
print(string)


#31
a = "3"
b = "4"
print(a + b)



#32
print("Hi" * 3)



#33
print('-'*80)


#34
t1 = "python"
t2 = "java"
t3 = t1 + ' ' + t2 + ' '
print(t3 * 4)





#35
name1 = "김민수" 
age1 = 10
name2 = "이철희"
age2 = 13
print("이름: %s 나이: %d" % (name1, age1))
print("이름: %s 나이: %d" % (name2, age2))


#36
name1 = "김민수" 
age1 = 10
name2 = "이철희"
age2 = 13
print("이름: {} 나이: {}".format(name1, age1))
print("이름: {} 나이: {}".format(name2, age2))


#37
name1 = "김민수" 
age1 = 10
name2 = "이철희"
age2 = 13
print(f"이름: {name1} 나이: {age1}")
print(f"이름: {name2} 나이: {age2}")


#38
상장주식수 = "5,969,782,550"
컴마제거 = 상장주식수.replace(",", "")
타입변환 = int(컴마제거)
print(타입변환, type(타입변환))






#39
분기 = "2020/03(E) (IFRS연결)"
print(분기[:7])


#40
data = "   삼성전자    "
data1 = data.strip()
print(data1)


#41
ticker = "btc_krw"
ticker1 = ticker.upper()
print(ticker1)


#42
ticker = "BTC_KRW"
ticker = ticker.lower()
print(ticker)


#43
a = "hello"
a = a.capitalize()
print(a)


#44
file_name = "보고서.xlsx"
file_name.endswith("xlsx")


#45
file_name = "보고서.xlsx"
file_name.endswith(("xlsx", "xls"))



#46
file_name = "2020_보고서.xlsx"
file_name.startswith("2020")



#47
a = "hello world"
a.split()



#48
ticker = "btc_krw"
ticker.split("_")



#49
date = "2020-05-01"
date.split("-")



#50
data = "039490     "
data=data.rstrip()
print(data)








#51
movie_rank = ["닥터 스트레인지", "스플릿", "럭키"]
print(movie_rank)


#52
movie_rank = ["닥터 스트레인지", "스플릿", "럭키","배트맨"]
print(movie_rank)


movie_rank = ["닥터 스트레인지", "스플릿", "럭키"]
movie_rank.append("배트맨")
print(movie_rank)


#53
movie_rank = ['닥터 스트레인지', '스플릿', '럭키', '배트맨']
movie_rank.insert(1,"슈퍼맨")
print(movie_rank)


#54
movie_rank = ['닥터 스트레인지', '슈퍼맨', '스플릿', '럭키', '배트맨']
del movie_rank[3]
print(movie_rank)


#55
movie_rank = ['닥터 스트레인지', '슈퍼맨', '스플릿', '배트맨']
del movie_rank[2]
del movie_rank[2]
print(movie_rank)


#56
lang1 = ["C", "C++", "JAVA"]
lang2 = ["Python", "Go", "C#"]
langs= lang1 + lang2
print(langs)


#57
nums = [1, 2, 3, 4, 5, 6, 7]
print("max: ", max(nums))
print("min: ", min(nums))


#58
nums = [1, 2, 3, 4, 5]
print(sum(nums))



#59
cook = ["피자", "김밥", "만두", "양념치킨", "족발", "피자", "김치만두", "쫄면", "소시지", "라면", "팥빙수", "김치전"]
print(len(cook))


#60
nums = [1, 2, 3, 4, 5]
더하기=(sum(nums))/5
print(더하기)


#61
price = ['20180728', 100, 130, 140, 150, 160, 170]
print(price[1:])


#62
nums = [1, 2, 3, 4, 5, 6, 7, 8, 9, 10]
print(nums[::2])


#63
nums = [1, 2, 3, 4, 5, 6, 7, 8, 9, 10]
print(nums[1::2])





#64
nums = [1, 2, 3, 4, 5]
print(nums[::-1])


#65
interest = ['삼성전자', 'LG전자', 'Naver']
print(interest[0], interest[2])


#66
interest = ['삼성전자', 'LG전자', 'Naver', 'SK하이닉스', '미래에셋대우']
print(" ".join(interest))


#67
interest = ['삼성전자', 'LG전자', 'Naver', 'SK하이닉스', '미래에셋대우']
print("/".join(interest))


#68
interest = ['삼성전자', 'LG전자', 'Naver', 'SK하이닉스', '미래에셋대우']
print("\n".join(interest))


#69
string = "삼성전자/LG전자/Naver"
interest=string.split("/")
print(interest)


#70
data = [2, 4, 3, 1, 5, 10, 9]
data.sort()
print(data)


#71
my_variable = ()
print(type(my_variable))


#72
movie_rank=('닥터 스트레인지','스플릿','럭키')
print(movie_rank)


#73
tuple=(1,)
print(type(tuple))


#74
>> t = (1, 2, 3)
>> t[0] = 'a'
Traceback (most recent call last):
  File "<pyshell#46>", line 1, in <module>
    t[0] = 'a'
TypeError: 'tuple' object does not support item assignment





#75
t = 1, 2, 3, 4
print(type(t))



#76
t = ('a', 'b', 'c')






#77
interest = ('삼성전자', 'LG전자', 'SK Hynix')
interest변환=list(interest)
print(interest변환)





#78
interest = ['삼성전자', 'LG전자', 'SK Hynix']
data = tuple(interest)
print(type(data))


#79
temp = ('apple', 'banana', 'cake')
a, b, c = temp
print(a, b, c)





#80
(2, 4, 6, 8 ... 98)



#81


#82


#83


#84
temp = { }
print(type(temp))


#85
아이스크림= {'메로나':1000,'폴라포':1200,'빵빠레':1800}
print(아이스크림)


#86
아이스크림= {'메로나':1000,'폴라포':1200,'빵빠레':1800}
아이스크림['죠스바']=1200
아이스크림['월드콘']=1500
print(아이스크림)


#87
ice = {'메로나': 1000,
       '폴로포': 1200,
       '빵빠레': 1800,
       '죠스바': 1200,
       '월드콘': 1500}
print('메로나가격:',ice['메로나'])


#88
ice = {'메로나': 1000,
       '폴로포': 1200,
       '빵빠레': 1800,
       '죠스바': 1200,
       '월드콘': 1500}
ice['메로나']=1300
print(ice)


#89
ice = {'메로나': 1000,
       '폴로포': 1200,
       '빵빠레': 1800,
       '죠스바': 1200,
       '월드콘': 1500}
del ice["메로나"]
print(ice)


#90
>> icecream = {'폴라포': 1200, '빵빠레': 1800, '월드콘': 1500, '메로나': 1000}
>> icecream['누가바']
Traceback (most recent call last):
  File "<pyshell#69>", line 1, in <module>
    icecream['누가바']
KeyError: '누가바'






#91
inventory = {"메로나": [300, 20], 
             "비비빅": [400, 3], 
             "죠스바": [250, 100]}
print(inventory)


#92
inventory = {"메로나": [300, 20],
              "비비빅": [400, 3],
              "죠스바": [250, 100]}
print(inventory["메로나"][0])


#93
inventory = {"메로나": [300, 20],
              "비비빅": [400, 3],
              "죠스바": [250, 100]}
print(inventory["메로나"][1], "개")


#94
inventory = {"메로나": [300, 20],
              "비비빅": [400, 3],
              "죠스바": [250, 100]}
inventory['월드콘']=[500, 7]
print(inventory)


#95
icecream = {'탱크보이': 1200, '폴라포': 1200, '빵빠레': 1800, '월드콘': 1500, '메로나': 1000}
icecream.keys()
ice=list(icecream)
print(ice)


#96
icecream = {'탱크보이': 1200, '폴라포': 1200, '빵빠레': 1800, '월드콘': 1500, '메로나': 1000}
ice=list(icecream.values())
print(ice)


#97
icecream = {'탱크보이': 1200, '폴라포': 1200, '빵빠레': 1800, '월드콘': 1500, '메로나': 1000}
print(sum(icecream.values()))


#98
icecream = {'탱크보이': 1200, '폴라포': 1200, '빵빠레': 1800, '월드콘': 1500, '메로나': 1000}
new_product = {'팥빙수':2700, '아맛나':1000}
icecream.update(new_product)
print(icecream)





#99
keys = ("apple", "pear", "peach")
vals = (300, 250, 400)
result = dict(zip(keys, vals))
print(result)


#100








#101
bool 입니다.


#102
False


#103
True


#104
True


#105
True


#106
존재하지 않는 연산자라 에러가 납니다.


#107
조건을 만족하지 않기 때문에 출력불가함


#108
하이데얼


#109
1
2
4


#110
3, 5





#111
user: input("입력: ")
print(user*2)



#112
user= input("숫자입력: ")
print(int(user)+10)



#113
user=input("입력:")

if int(user)%2==0 :
    print("짝수")
else:
    print("홀수")


#114
user= input("숫자입력: ")
num=(int(user)+20)
if num>255:
    print(255)

else:
    print(num)


#115
user= input("숫자입력: ")
num=(int(user)-20)
if num <0:
    print(0)
elif num>255:
    print(255)
else:
    print(num)


#116
user=input("시간:")

if user[-2:]=="00" :
    print("정각")
else:
    print("정각 아닙니다")


#117
user=input("과일:")
fruit = ["사과", "포도", "홍시"]

if user in fruit:
    print("정답")
else:
    print("오답")


#118
user=input("종목:")
list = ["Microsoft", "Google", "Naver", "Kakao", "SAMSUNG", "LG"]

if user in list:
    print("경고")
else:
    print("안전")


#119
user=input("계절:")
fruit = {"봄" : "딸기", "여름" : "토마토", "가을" : "사과"}

if user in fruit :
    print("정답")

else:
    print("오답")


#120
user=input("과일:")
fruit = {"봄" : "딸기", "여름" : "토마토", "가을" : "사과"}

if user in fruit.values() :
    print("정답")

else:
    print("오답")


#121
user=input("뭘까요:")

if user.islower() :
    print(user.upper())
else:
    print(user.lower())



#122
user=input("점수:")
스코어=int(user)
if 81<= 스코어 <=100 : 
    print("a")
elif 61<=스코어<= 80:
    print("b")
elif 41<=스코어<= 60:
    print("c")
elif 21<=스코어 <=40:
    print("d")
else:
    print("e")





#123
환율 = {"달러": 1167, 
        "엔": 1.096, 
        "유로": 1268, 
        "위안": 171}
user = input("입력: ")
num, currency = user.split("")
print(float(num) * 환율[currency], "원")




#124
user1=input("점수:")
user2=input("점수:")
user3=input("점수:")
user1=int(user1)
user2=int(user2)
user3=int(user3)

if user1 >=user2 and user1>= user3:
    print(user1)
elif user2>= user1 and user2>= user3:
    print(user2)
else:
    print(user3)


#125
number = input("휴대전화 번호 입력: ")
num = number.split("-")[0]
if num == "011":
    com = "SKT"
elif num == "016":
    com = "KT"
elif num == "019":
    com = "LGU"
else:
    com = "알수없음"
print(f"당신은 {com} 사용자입니다.")



#126
우편번호 = input("우편번호: ")
우편번호 = 우편번호[:3]
if 우편번호 in ["010", "011", "012"]:
    print("강북구")
elif 우편번호 in ["014", "015", "016"]:
    print("도봉구")
else:
    print("노원구")



#127
주민번호 = input("주민등록번호: ")
주민번호 = 주민번호.split("-")[1]
if 주민번호[0] == "1" or 주민번호[0] == "3":
    print("남자")
else:
    print("여자")



#128
주민번호 = input("주민등록번호: ")
뒷자리 = 주민번호.split("-")[1]
if 0 <= int(뒷자리[1:3]) <= 8:
    print("서울입니다.")
else:
    print("서울이 아닙니다.")



#129
num = input("주민등록번호: ")
계산1 = int(num[0]) * 2 + int(num[1]) * 3 + int(num[2]) * 4 + int(num[3]) * 5 + int(num[4]) * 6 + \
        int(num[5]) * 7 + int(num[7]) * 8 + int(num[8]) * 9 + int(num[9]) * 2 + int(num[10])* 3 + \
        int(num[11])* 4 + int(num[12]) * 5
계산2 = 11 - (계산1 % 11)

if num[-1] == 계산2:
    print("유효한 주민등록번호입니다.")
else:
    print("유효하지 않은 주민등록번호입니다.")






#130
import requests
btc = requests.get("https://api.bithumb.com/public/ticker/").json()['data']




#131
과일 = ["사과", "귤", "수박"]
for 변수 in 과일:
    print(변수)






#132



#133
print("A")
print("B")
print("C")



#134
print("출력:", "A")
print("출력:", "B")
print("출력:", "C")



#135
변수 = "A"
b = 변수.lower()
print("변환:", b)
변수 = "B"
b = 변수.lower()
print("변환:", b)
변수 = "C"
b = 변수.lower()
print("변환:", b)



#136
for 변수 in [10, 20, 30]:
  print(변수)



#137
for 변수 in [10, 20, 30]:
  print(변수)



#138
for 변수 in [10, 20, 30]:
  print(변수)
  print("-------")



#139
print("++++")
for 변수 in [10, 20, 30]:
  print(변수)



#140
for 변수 in [1, 2, 3, 4]:
  print("-------")



#141
리스트 = [100, 200, 300]
for 변수 in 리스트:
  print(변수 + 10)



#142
리스트 = ["김밥", "라면", "튀김"]
for 메뉴 in 리스트:
    print("오늘의 메뉴:", 메뉴)



#143
리스트 = ["SK하이닉스", "삼성전자", "LG전자"]

for 종목 in 리스트:
    갯수=len(종목)
    print(갯수)


#144
리스트 = ['dog', 'cat', 'parrot']

for 동물 in 리스트:
    갯수=len(동물)
    print(동물, 갯수)


#145
리스트 = ['dog', 'cat', 'parrot']
for 동물 in 리스트:
    print(동물[0])


#146
리스트 = [1, 2, 3]
for 변수 in 리스트:
  print("3 x " + str(변수))



#147
리스트 = [1, 2, 3]
for 변수 in 리스트:
  print("3 x ", 변수, "=", 3 * 변수)



#148
리스트 = ["가", "나", "다", "라"]
for 변수 in 리스트[1:] :
    print(변수)






#149


#150


#151
리스트 = [3, -20, -3, 44]
for 변수 in 리스트:
    if 변수 < 0:
        print(변수)


#152
리스트 = [3, 100, 23, 44]
for 변수 in 리스트:
  if 변수 % 3 == 0:
    print(변수)



#153
리스트 = [13, 21, 12, 14, 30, 18]
for 변수 in 리스트:
  if (변수 < 20) and (변수 % 3 == 0):
    print(변수)



#154
리스트 = ["I", "study", "python", "language", "!"]
for 변수 in 리스트:
  if len(변수) >= 3:
    print(변수)



#155
리스트 = ["A", "b", "c", "D"]
for 변수 in 리스트:
  if 변수.isupper():
    print(변수)



#156
리스트 = ["A", "b", "c", "D"]
for 변수 in 리스트:
  if not 변수.isupper():
    print(변수)



#157
리스트 = ['dog', 'cat', 'parrot']
for 변수 in 리스트:
    첫글자=변수[0]
    대문자=첫글자.upper()
    print(대문자+변수[1:])


#158
리스트 = ['hello.py', 'ex01.py', 'intro.hwp']
for 변수 in 리스트:
  파일명 = 변수.split(".")
  print(파일명[0])



#159
리스트 = ['intra.h', 'intra.c', 'define.h', 'run.py']
for 변수 in 리스트:
  split = 변수.split(".")
  if split[1] == "h":
    print(변수)



#160
리스트 = ['intra.h', 'intra.c', 'define.h', 'run.py']
for 변수 in 리스트:
  split = 변수.split(".")
  if (split[1] == "h") or (split[1] == "c"):
    print(변수)













